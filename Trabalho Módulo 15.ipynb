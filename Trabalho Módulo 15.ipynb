{
 "cells": [
  {
   "cell_type": "markdown",
   "metadata": {
    "id": "cJdp3B_SGk7T"
   },
   "source": [
    "# **MÓDULO 15 - Exercício**\n",
    "# Análise  - A segunda etapa da Pré Modelagem"
   ]
  },
  {
   "cell_type": "markdown",
   "metadata": {
    "id": "1OirkvkeGuGg"
   },
   "source": [
    "# 1) O primeiro exercício é o de salvar a base que criaram na atividade do módulo anterior em csv e abrir ela neste arquivo.\n",
    "Igual fizemos no início do módulo atual no início da primeira aula."
   ]
  },
  {
   "cell_type": "code",
   "execution_count": 159,
   "metadata": {
    "id": "5ejO5WSgnhFs"
   },
   "outputs": [],
   "source": [
    "import seaborn as sns\n",
    "import matplotlib.pyplot as plt\n",
    "import pandas as pd\n",
    "import numpy as np\n",
    "import plotly.express as px"
   ]
  },
  {
   "cell_type": "code",
   "execution_count": 161,
   "metadata": {
    "id": "UD3a_pq7py5G"
   },
   "outputs": [
    {
     "data": {
      "text/html": [
       "<div>\n",
       "<style scoped>\n",
       "    .dataframe tbody tr th:only-of-type {\n",
       "        vertical-align: middle;\n",
       "    }\n",
       "\n",
       "    .dataframe tbody tr th {\n",
       "        vertical-align: top;\n",
       "    }\n",
       "\n",
       "    .dataframe thead th {\n",
       "        text-align: right;\n",
       "    }\n",
       "</style>\n",
       "<table border=\"1\" class=\"dataframe\">\n",
       "  <thead>\n",
       "    <tr style=\"text-align: right;\">\n",
       "      <th></th>\n",
       "      <th>customerID</th>\n",
       "      <th>Genero</th>\n",
       "      <th>Idoso</th>\n",
       "      <th>Casado</th>\n",
       "      <th>Dependentes</th>\n",
       "      <th>Tempo_como_Cliente</th>\n",
       "      <th>Serviço_Telefonico</th>\n",
       "      <th>Servico_Internet</th>\n",
       "      <th>Servico_Seguranca</th>\n",
       "      <th>Suporte_Tecnico</th>\n",
       "      <th>StreamingTV</th>\n",
       "      <th>Tipo_Contrato</th>\n",
       "      <th>Forma_Pagamento</th>\n",
       "      <th>Pagamento_Mensal</th>\n",
       "      <th>Total_Pago</th>\n",
       "      <th>Churn</th>\n",
       "    </tr>\n",
       "  </thead>\n",
       "  <tbody>\n",
       "    <tr>\n",
       "      <th>0</th>\n",
       "      <td>7590-VHVEG</td>\n",
       "      <td>Female</td>\n",
       "      <td>0</td>\n",
       "      <td>Yes</td>\n",
       "      <td>No</td>\n",
       "      <td>1</td>\n",
       "      <td>No</td>\n",
       "      <td>Dsl</td>\n",
       "      <td>No</td>\n",
       "      <td>No</td>\n",
       "      <td>No</td>\n",
       "      <td>Month-To-Month</td>\n",
       "      <td>Electronic Check</td>\n",
       "      <td>29.850000</td>\n",
       "      <td>29.85</td>\n",
       "      <td>No</td>\n",
       "    </tr>\n",
       "    <tr>\n",
       "      <th>1</th>\n",
       "      <td>5575-GNVDE</td>\n",
       "      <td>Male</td>\n",
       "      <td>0</td>\n",
       "      <td>No</td>\n",
       "      <td>No</td>\n",
       "      <td>34</td>\n",
       "      <td>Yes</td>\n",
       "      <td>Dsl</td>\n",
       "      <td>Yes</td>\n",
       "      <td>No</td>\n",
       "      <td>No</td>\n",
       "      <td>One Year</td>\n",
       "      <td>Mailed Check</td>\n",
       "      <td>56.950000</td>\n",
       "      <td>1889.50</td>\n",
       "      <td>No</td>\n",
       "    </tr>\n",
       "    <tr>\n",
       "      <th>2</th>\n",
       "      <td>3668-QPYBK</td>\n",
       "      <td>Male</td>\n",
       "      <td>0</td>\n",
       "      <td>No</td>\n",
       "      <td>No</td>\n",
       "      <td>2</td>\n",
       "      <td>Yes</td>\n",
       "      <td>Dsl</td>\n",
       "      <td>Yes</td>\n",
       "      <td>No</td>\n",
       "      <td>No</td>\n",
       "      <td>Month-To-Month</td>\n",
       "      <td>Mailed Check</td>\n",
       "      <td>53.850000</td>\n",
       "      <td>108.15</td>\n",
       "      <td>Yes</td>\n",
       "    </tr>\n",
       "    <tr>\n",
       "      <th>3</th>\n",
       "      <td>7795-CFOCW</td>\n",
       "      <td>Male</td>\n",
       "      <td>0</td>\n",
       "      <td>No</td>\n",
       "      <td>No</td>\n",
       "      <td>45</td>\n",
       "      <td>No</td>\n",
       "      <td>Dsl</td>\n",
       "      <td>Yes</td>\n",
       "      <td>Yes</td>\n",
       "      <td>No</td>\n",
       "      <td>One Year</td>\n",
       "      <td>Bank Transfer (Automatic)</td>\n",
       "      <td>65.607563</td>\n",
       "      <td>1840.75</td>\n",
       "      <td>No</td>\n",
       "    </tr>\n",
       "    <tr>\n",
       "      <th>4</th>\n",
       "      <td>8191-XWSZG</td>\n",
       "      <td>Female</td>\n",
       "      <td>0</td>\n",
       "      <td>No</td>\n",
       "      <td>No</td>\n",
       "      <td>52</td>\n",
       "      <td>Yes</td>\n",
       "      <td>No</td>\n",
       "      <td>No internet service</td>\n",
       "      <td>No internet service</td>\n",
       "      <td>No internet service</td>\n",
       "      <td>One Year</td>\n",
       "      <td>Mailed Check</td>\n",
       "      <td>65.607563</td>\n",
       "      <td>1022.95</td>\n",
       "      <td>No</td>\n",
       "    </tr>\n",
       "  </tbody>\n",
       "</table>\n",
       "</div>"
      ],
      "text/plain": [
       "   customerID  Genero  Idoso Casado Dependentes  Tempo_como_Cliente  \\\n",
       "0  7590-VHVEG  Female      0    Yes          No                   1   \n",
       "1  5575-GNVDE    Male      0     No          No                  34   \n",
       "2  3668-QPYBK    Male      0     No          No                   2   \n",
       "3  7795-CFOCW    Male      0     No          No                  45   \n",
       "4  8191-XWSZG  Female      0     No          No                  52   \n",
       "\n",
       "  Serviço_Telefonico Servico_Internet    Servico_Seguranca  \\\n",
       "0                 No              Dsl                   No   \n",
       "1                Yes              Dsl                  Yes   \n",
       "2                Yes              Dsl                  Yes   \n",
       "3                 No              Dsl                  Yes   \n",
       "4                Yes               No  No internet service   \n",
       "\n",
       "       Suporte_Tecnico          StreamingTV   Tipo_Contrato  \\\n",
       "0                   No                   No  Month-To-Month   \n",
       "1                   No                   No        One Year   \n",
       "2                   No                   No  Month-To-Month   \n",
       "3                  Yes                   No        One Year   \n",
       "4  No internet service  No internet service        One Year   \n",
       "\n",
       "             Forma_Pagamento  Pagamento_Mensal  Total_Pago Churn  \n",
       "0           Electronic Check         29.850000       29.85    No  \n",
       "1               Mailed Check         56.950000     1889.50    No  \n",
       "2               Mailed Check         53.850000      108.15   Yes  \n",
       "3  Bank Transfer (Automatic)         65.607563     1840.75    No  \n",
       "4               Mailed Check         65.607563     1022.95    No  "
      ]
     },
     "execution_count": 161,
     "metadata": {},
     "output_type": "execute_result"
    }
   ],
   "source": [
    "df=pd.read_csv('CHURN_TELECON_MOD08_TAREFA_CORRIGIDA.csv')\n",
    "\n",
    "df.head()"
   ]
  },
  {
   "cell_type": "markdown",
   "metadata": {
    "id": "3O70nJb2HNP2"
   },
   "source": [
    "# 2) Comece pela análise univariada:\n",
    "\n",
    "A) Utilize a função describe no seu dataframe, veja os insights que consegue retirar.\n",
    "\n",
    "B) Já é possível identificar variáveis com possíveis outliers? Se sim, quais?\n",
    "\n",
    "C) Plot gráficos que considerar importante para completar sua análise univariada. (Lembrando que sua variável preditora é o churn). Não se esqueça de trazer insights de cada gráfico plotado. Utilize pelo menos 4 variáveis distintas.\n",
    "\n",
    "D) Verifique se os dados das variáveis Booleanas são balanceados ou não."
   ]
  },
  {
   "cell_type": "markdown",
   "metadata": {},
   "source": [
    "## Explicação 2.a:\n",
    "#### Coluna 'Idoso':\n",
    "Por se tratar de uma coluna com números booleanos, não traz muitas informações relevantes no momento.\n",
    "#### Coluna 'Tempo_como_Cliente':\n",
    "A média e a mediana parecem estar bem balanceadas, apesar de termos uma média um pouco maior que a mediana, a diferença entre elas é pouca.\n",
    "Um ponto interessante a se observar é a grande diferença entre o Q1 e o Q3.\n",
    "#### Coluna 'Pagamento_Mensal':\n",
    "Essa coluna tinha mais de 13% das informações nulas no exercício anterior, foi feito a substituição desses valores faltantes pela média, por isso podemos ver uma média indêntica a mediana. Temos um salto entre o minímo e o Q1, foras isso, a coluna parece bem distribuida.\n",
    "#### Coluna 'Total_Pago':\n",
    "Aqui vemos uma média muito distante da mediana, o desvio padrão também está muito alto. Muito provavel que encontremos outliers nessa coluna. Além disso, podemos ver uma grande diferença entre o Q1 e o Q3."
   ]
  },
  {
   "cell_type": "markdown",
   "metadata": {},
   "source": [
    "## Explicação 2.b:\n",
    "Acredito que a coluna **Tempo_como_Cliente** possa ter a presença de outliers, por conta da grande diferenças entre o Q1 e o Q3.\n",
    "\n",
    "Outra coluna que está chamndo atenção é a **Total_Pago**, aqui temos uma média muito distante da mediana e quartis sem simetria alguma.\n"
   ]
  },
  {
   "cell_type": "markdown",
   "metadata": {},
   "source": [
    "## Explicação 2.c:\n",
    "#### Coluna 'Churn':\n",
    "Primeiramente, vamos analisar a variável preditora. Podemos observar que nossa taxa de churn é de 26%, um percentual aceitável, mas que ainda apresenta oportunidades de melhoria visando reduzir esse índice.\n",
    "\n",
    "#### Coluna 'Tempo_como_Cliente':\n",
    "Aqui fica nítido um movimento de churn a partir dos 6 meses. Devemos investigar as causas desse fenômeno e entender por que nossos clientes não permanecem com os serviços contratados. Muito provavelmente, há algum problema relacionado à disponibilidade ou qualidade dos serviços oferecidos.\n",
    "\n",
    "#### Coluna 'Pagamento_Mensal':\n",
    "Observamos a existência de dois pacotes de serviços com maior adesão: provavelmente um pacote básico e um intermediário. Precisamos avaliar se a entrega desses serviços está alinhada ao valor cobrado.\n",
    "\n",
    "#### Coluna 'Total_Pago':\n",
    "Podemos observar uma distribuição bastante irregular entre os quartis. Embora o gráfico não apresente outliers, consideramos relevante investigar mais a fundo esse comportamento. Além disso, a análise indica que os clientes que permanecem conosco tendem a contratar pacotes de serviços mais caros, o que acaba elevando nosso terceiro quartil (Q3)."
   ]
  },
  {
   "cell_type": "markdown",
   "metadata": {},
   "source": [
    "## Explicação 2.d:\n",
    "#### Colunaa Balanceadas:\n",
    "1. Casado\n",
    "2. Gênero\n",
    "\n",
    "#### Colunaa Desbalanceadas:\n",
    "1. Serviço Telefônico\n",
    "2. Serviço de Segurança\n",
    "3. Idoso\n",
    "4. Suporte Técnico\n",
    "5. Streaming Tv\n",
    "6. Dependentes\n",
    "\n",
    "Obs: Nas colunas: **Serviço de Segurança**, **Suporte Técnico** e **Streaming de TV**, eu substitui a resposta **'No internet service'** por **'No'**, para facilitar a visulização.\n",
    "\n",
    "#### Análise:\n",
    "Observamos um bom equilíbrio nas colunas **Casado** e **Gênero**, indicando que nossos clientes estão bem distribuídos nessas categorias.\n",
    "\n",
    "Na coluna **Serviço Telefônico**, verificamos que a grande maioria dos clientes possui esse serviço, o que sugere ser este o principal produto da nossa marca.\n",
    "\n",
    "Já nas colunas **Serviço de Segurança**, **Suporte Técnico** e **Streaming de TV**, a adesão é significativamente menor. Esse padrão pode indicar: Valores muito altos para esses serviços ou insatisfação dos clientes com a qualidade oferecida.\n",
    "\n",
    "Outro ponto relevante é que a maioria dos nossos clientes não são **Idosos** e não possuem **Dependentes**."
   ]
  },
  {
   "cell_type": "code",
   "execution_count": 259,
   "metadata": {
    "id": "unW8WDrlGBFE"
   },
   "outputs": [
    {
     "data": {
      "text/html": [
       "<div>\n",
       "<style scoped>\n",
       "    .dataframe tbody tr th:only-of-type {\n",
       "        vertical-align: middle;\n",
       "    }\n",
       "\n",
       "    .dataframe tbody tr th {\n",
       "        vertical-align: top;\n",
       "    }\n",
       "\n",
       "    .dataframe thead th {\n",
       "        text-align: right;\n",
       "    }\n",
       "</style>\n",
       "<table border=\"1\" class=\"dataframe\">\n",
       "  <thead>\n",
       "    <tr style=\"text-align: right;\">\n",
       "      <th></th>\n",
       "      <th>Idoso</th>\n",
       "      <th>Tempo_como_Cliente</th>\n",
       "      <th>Pagamento_Mensal</th>\n",
       "      <th>Total_Pago</th>\n",
       "    </tr>\n",
       "  </thead>\n",
       "  <tbody>\n",
       "    <tr>\n",
       "      <th>count</th>\n",
       "      <td>2488.000000</td>\n",
       "      <td>2488.000000</td>\n",
       "      <td>2488.000000</td>\n",
       "      <td>2488.000000</td>\n",
       "    </tr>\n",
       "    <tr>\n",
       "      <th>mean</th>\n",
       "      <td>0.161576</td>\n",
       "      <td>32.352090</td>\n",
       "      <td>65.607563</td>\n",
       "      <td>2290.087178</td>\n",
       "    </tr>\n",
       "    <tr>\n",
       "      <th>std</th>\n",
       "      <td>0.368135</td>\n",
       "      <td>24.636885</td>\n",
       "      <td>27.984700</td>\n",
       "      <td>2264.585643</td>\n",
       "    </tr>\n",
       "    <tr>\n",
       "      <th>min</th>\n",
       "      <td>0.000000</td>\n",
       "      <td>0.000000</td>\n",
       "      <td>18.400000</td>\n",
       "      <td>18.800000</td>\n",
       "    </tr>\n",
       "    <tr>\n",
       "      <th>25%</th>\n",
       "      <td>0.000000</td>\n",
       "      <td>8.000000</td>\n",
       "      <td>45.400000</td>\n",
       "      <td>402.337500</td>\n",
       "    </tr>\n",
       "    <tr>\n",
       "      <th>50%</th>\n",
       "      <td>0.000000</td>\n",
       "      <td>29.000000</td>\n",
       "      <td>65.607563</td>\n",
       "      <td>1402.900000</td>\n",
       "    </tr>\n",
       "    <tr>\n",
       "      <th>75%</th>\n",
       "      <td>0.000000</td>\n",
       "      <td>56.000000</td>\n",
       "      <td>87.712500</td>\n",
       "      <td>3867.162500</td>\n",
       "    </tr>\n",
       "    <tr>\n",
       "      <th>max</th>\n",
       "      <td>1.000000</td>\n",
       "      <td>72.000000</td>\n",
       "      <td>118.650000</td>\n",
       "      <td>8564.750000</td>\n",
       "    </tr>\n",
       "  </tbody>\n",
       "</table>\n",
       "</div>"
      ],
      "text/plain": [
       "             Idoso  Tempo_como_Cliente  Pagamento_Mensal   Total_Pago\n",
       "count  2488.000000         2488.000000       2488.000000  2488.000000\n",
       "mean      0.161576           32.352090         65.607563  2290.087178\n",
       "std       0.368135           24.636885         27.984700  2264.585643\n",
       "min       0.000000            0.000000         18.400000    18.800000\n",
       "25%       0.000000            8.000000         45.400000   402.337500\n",
       "50%       0.000000           29.000000         65.607563  1402.900000\n",
       "75%       0.000000           56.000000         87.712500  3867.162500\n",
       "max       1.000000           72.000000        118.650000  8564.750000"
      ]
     },
     "execution_count": 259,
     "metadata": {},
     "output_type": "execute_result"
    }
   ],
   "source": [
    "df.describe()"
   ]
  },
  {
   "cell_type": "code",
   "execution_count": 260,
   "metadata": {},
   "outputs": [
    {
     "name": "stderr",
     "output_type": "stream",
     "text": [
      "C:\\Users\\large\\AppData\\Local\\Temp\\ipykernel_9792\\2183340029.py:6: FutureWarning:\n",
      "\n",
      "Series.__getitem__ treating keys as positions is deprecated. In a future version, integer keys will always be treated as labels (consistent with DataFrame behavior). To access a value by position, use `ser.iloc[pos]`\n",
      "\n"
     ]
    },
    {
     "data": {
      "image/png": "[encoded data removed]",
      "text/plain": [
       "<Figure size 640x480 with 1 Axes>"
      ]
     },
     "metadata": {},
     "output_type": "display_data"
    }
   ],
   "source": [
    "contagem_churn = df['Churn'].value_counts()\n",
    "ax = contagem_churn.plot(kind='bar')\n",
    "porcentagem = (contagem_churn / contagem_churn.sum()) * 100\n",
    "\n",
    "for i, v in enumerate(contagem_churn):\n",
    "    ax.text(i, v + 1, f'{porcentagem[i]:.2f}%', ha='center')\n",
    "sns.histplot(data=df, x='Churn', bins=20, color='green')\n",
    "plt.title('Porcentagem de Churn')\n",
    "plt.ylabel('Contagem')\n",
    "plt.show()"
   ]
  },
  {
   "cell_type": "code",
   "execution_count": 100,
   "metadata": {},
   "outputs": [
    {
     "name": "stderr",
     "output_type": "stream",
     "text": [
      "C:\\Users\\large\\AppData\\Local\\Temp\\ipykernel_9792\\4124554615.py:3: FutureWarning: \n",
      "\n",
      "Passing `palette` without assigning `hue` is deprecated and will be removed in v0.14.0. Assign the `x` variable to `hue` and set `legend=False` for the same effect.\n",
      "\n",
      "  sns.countplot(data=df, x=\"Tempo_Categoria\", palette='viridis')\n"
     ]
    },
    {
     "data": {
      "image/png": "[encoded data removed]",
      "text/plain": [
       "<Figure size 640x480 with 1 Axes>"
      ]
     },
     "metadata": {},
     "output_type": "display_data"
    }
   ],
   "source": [
    "df['Tempo_Categoria'] = pd.cut(df['Tempo_como_Cliente'], bins=[0, 6, 12, 18, 24, 30, 36, 42, 48, 54, 60])\n",
    "\n",
    "sns.countplot(data=df, x=\"Tempo_Categoria\", palette='viridis')\n",
    "plt.title(\"Tempo Como Cliente\")\n",
    "plt.xlabel(\"Intervalo de Tempo\")\n",
    "plt.ylabel(\"Quantidade de Clientes\")\n",
    "plt.xticks(rotation=45)\n",
    "plt.show()"
   ]
  },
  {
   "cell_type": "code",
   "execution_count": 156,
   "metadata": {},
   "outputs": [
    {
     "data": {
      "image/png": "[encoded data removed]",
      "text/plain": [
       "<Figure size 1000x600 with 1 Axes>"
      ]
     },
     "metadata": {},
     "output_type": "display_data"
    }
   ],
   "source": [
    "plt.figure(figsize=(10,6))\n",
    "plt.grid(True)\n",
    "sns.histplot(data=df, x='Pagamento_Mensal', bins=20, color='skyblue')\n",
    "plt.xlabel('Valor ($)')\n",
    "plt.title('Histograma do Valor de Pagamento Mensal')\n",
    "plt.ylabel('Quantidade de Clientes')\n",
    "plt.show()"
   ]
  },
  {
   "cell_type": "code",
   "execution_count": 222,
   "metadata": {},
   "outputs": [
    {
     "data": {
      "image/png": "[encoded data removed]",
      "text/plain": [
       "<Figure size 640x480 with 1 Axes>"
      ]
     },
     "metadata": {},
     "output_type": "display_data"
    }
   ],
   "source": [
    "sns.boxplot(data=df,y='Total_Pago')\n",
    "plt.ylabel(\"Valor\")\n",
    "plt.title(\"Valor Total Pago\")\n",
    "plt.show()"
   ]
  },
  {
   "cell_type": "code",
   "execution_count": 247,
   "metadata": {},
   "outputs": [
    {
     "data": {
      "text/plain": [
       "array(['Dsl', 'No', 'Fiber Optic'], dtype=object)"
      ]
     },
     "execution_count": 247,
     "metadata": {},
     "output_type": "execute_result"
    }
   ],
   "source": [
    "df['Servico_Internet'].unique()"
   ]
  },
  {
   "cell_type": "code",
   "execution_count": 251,
   "metadata": {},
   "outputs": [
    {
     "data": {
      "image/png": "[encoded data removed]",
      "text/plain": [
       "<Figure size 1200x600 with 1 Axes>"
      ]
     },
     "metadata": {},
     "output_type": "display_data"
    }
   ],
   "source": [
    "df['Servico_Seguranca']=df['Servico_Seguranca'].replace({'No internet service':'No'})\n",
    "df['Suporte_Tecnico']=df['Suporte_Tecnico'].replace({'No internet service':'No'})\n",
    "df['StreamingTV']=df['StreamingTV'].replace({'No internet service':'No'})\n",
    "df['Idoso']=df['Idoso'].astype(str)\n",
    "df['Idoso']=df['Idoso'].replace({'0':'No', '1':'Yes'})\n",
    "df['Servico_Internet'].unique()\n",
    "\n",
    "df_plot = df[['Serviço_Telefonico', 'Servico_Seguranca', 'Idoso', 'Casado',\n",
    "              'Suporte_Tecnico', 'StreamingTV', 'Dependentes',]].apply(pd.Series.value_counts)\n",
    "df_plot.plot(kind='bar', stacked=False, figsize=(12, 6))\n",
    "plt.title(\"Comparação de Adesão por Serviço\")\n",
    "plt.ylabel(\"Contagem\")\n",
    "plt.xticks(rotation=0)\n",
    "plt.legend(title='Serviço')\n",
    "plt.show()"
   ]
  },
  {
   "cell_type": "code",
   "execution_count": 277,
   "metadata": {},
   "outputs": [
    {
     "data": {
      "image/png": "[encoded data removed]",
      "text/plain": [
       "<Figure size 1000x600 with 1 Axes>"
      ]
     },
     "metadata": {},
     "output_type": "display_data"
    }
   ],
   "source": [
    "counts = df['Genero'].value_counts()\n",
    "\n",
    "counts.plot(kind='bar', figsize=(10, 6), color=['skyblue', 'salmon'])\n",
    "plt.title(\"Distribuição por Gênero\")\n",
    "plt.ylabel(\"Contagem\")\n",
    "plt.xticks(rotation=0)  \n",
    "plt.grid(axis='y', linestyle='--', alpha=0.7)\n",
    "plt.show()"
   ]
  },
  {
   "cell_type": "markdown",
   "metadata": {
    "id": "kQ8r3_LVH_EJ"
   },
   "source": [
    "# 3) Identifique e trate as colunas que contém outliers.\n",
    "Caso opte por mante-los ou altera-los justifique sua escolha.\n"
   ]
  },
  {
   "cell_type": "markdown",
   "metadata": {},
   "source": [
    "## Explicação 3:\n",
    "#### Coluna \"Total_Pago\":\n",
    "\n",
    "Essa foi a única coluna que me despertou um alerta sobre outliers. Após analisar mais detalhadamente, concluí que são dados legítimos; não aparenta que tenhamos dados mal digitados ou errôneos. A distribuição irregular se dá ao fato de termos clientes que permanecem pouco tempo com a nossa marca e consomem o nosso serviço mais básico, fazendo com que o valor total pago seja baixo. Por outro lado, podemos ver clientes fiéis que possuem pacotes de serviços mais robustos, tornando assim o saldo total de pagamento mais volumoso.\n",
    "\n",
    "As demaiss colunas possuem um comportamento bem regular, não indicando a presença de outliers."
   ]
  },
  {
   "cell_type": "code",
   "execution_count": 12,
   "metadata": {
    "id": "hL9I5plcGEAA"
   },
   "outputs": [
    {
     "data": {
      "text/plain": [
       "['customerID',\n",
       " 'Genero',\n",
       " 'Idoso',\n",
       " 'Casado',\n",
       " 'Dependentes',\n",
       " 'Tempo_como_Cliente',\n",
       " 'Serviço_Telefonico',\n",
       " 'Servico_Internet',\n",
       " 'Servico_Seguranca',\n",
       " 'Suporte_Tecnico',\n",
       " 'StreamingTV',\n",
       " 'Tipo_Contrato',\n",
       " 'Forma_Pagamento',\n",
       " 'Pagamento_Mensal',\n",
       " 'Total_Pago',\n",
       " 'Churn']"
      ]
     },
     "execution_count": 12,
     "metadata": {},
     "output_type": "execute_result"
    }
   ],
   "source": [
    "df.columns.to_list()"
   ]
  },
  {
   "cell_type": "code",
   "execution_count": 40,
   "metadata": {},
   "outputs": [
    {
     "data": {
      "application/vnd.plotly.v1+json": {
       "config": {
        "plotlyServerURL": "https://plot.ly"
       },
       "data": [
        {
         "alignmentgroup": "True",
         "hovertemplate": "Total_Pago=%{y}<extra></extra>",
         "legendgroup": "",
         "marker": {
          "color": "#636efa"
         },
         "name": "",
         "notched": false,
         "offsetgroup": "",
         "orientation": "v",
         "showlegend": false,
         "type": "box",
         "x0": " ",
         "xaxis": "x",
         "y": [
          29.85,
          1889.5,
          108.15,
          1840.75,
          1022.95,
          7382.25,
          528.35,
          1862.9,
          39.65,
          202.25,
          20.15,
          3505.1,
          2970.3,
          1530.6,
          4749.15,
          30.2,
          6369.45,
          1093.1,
          6766.95,
          181.65,
          1874.45,
          20.2,
          45.25,
          7251.7,
          316.9,
          3548.3,
          3549.25,
          1105.4,
          475.7,
          4872.35,
          418.25,
          4861.45,
          981.45,
          3906.7,
          97,
          144.15,
          4217.8,
          4254.1,
          3838.75,
          1426.4,
          1752.65,
          633.3,
          4456.35,
          1752.55,
          6311.2,
          7076.35,
          894.3,
          7853.7,
          4707.1,
          5450.7,
          2962,
          957.1,
          857.25,
          244.1,
          3650.35,
          2497.2,
          930.9,
          887.35,
          49.05,
          1090.65,
          7099,
          1424.6,
          177.4,
          6139.5,
          2688.85,
          482.25,
          2111.3,
          1216.6,
          79.35,
          565.35,
          496.9,
          4327.5,
          973.35,
          918.75,
          2215.45,
          1057,
          927.1,
          1009.25,
          2570.2,
          74.7,
          5714.25,
          7107,
          7459.05,
          927.35,
          4748.7,
          113.85,
          1107.2,
          2514.5,
          20.2,
          19.45,
          3605.6,
          3027.25,
          7611.85,
          100.2,
          7303.05,
          927.65,
          3921.3,
          1363.25,
          5238.9,
          3042.25,
          3954.1,
          2868.15,
          3423.5,
          248.4,
          1126.35,
          1064.65,
          835.15,
          2151.6,
          5515.45,
          112.75,
          229.55,
          350.35,
          62.9,
          3027.65,
          2135.5,
          1723.95,
          19.75,
          3985.35,
          1215.65,
          1502.65,
          3260.1,
          35.45,
          81.25,
          1188.2,
          1778.5,
          1277.75,
          1170.55,
          70.45,
          6425.65,
          563.65,
          5971.25,
          5289.05,
          1756.2,
          6416.7,
          61.35,
          45.65,
          1929.95,
          1071.4,
          564.35,
          655.5,
          7930.55,
          5215.25,
          113.5,
          1152.8,
          1821.95,
          419.9,
          1024,
          251.6,
          764.55,
          1592.35,
          135.2,
          3958.25,
          233.9,
          1363.45,
          273,
          6254.45,
          2651.2,
          321.4,
          3539.25,
          242.8,
          1181.75,
          5000.2,
          654.55,
          780.2,
          1145.7,
          503.6,
          1559.25,
          1252,
          29.95,
          45.3,
          662.65,
          2453.3,
          1111.65,
          24.8,
          1023.85,
          82.15,
          244.8,
          2379.1,
          3173.35,
          531,
          1375.4,
          8129.3,
          1192.7,
          1901.65,
          587.4,
          6519.75,
          8041.65,
          20.75,
          2681.15,
          1112.3,
          7405.5,
          1033.95,
          2958.95,
          2684.85,
          4179.2,
          79.9,
          1934.45,
          6654.1,
          84.5,
          25.25,
          1124.2,
          540.05,
          1975.85,
          3437.45,
          3139.8,
          3789.2,
          5324.5,
          624.6,
          268.35,
          1836.9,
          20.2,
          179.35,
          219.35,
          1288.75,
          2545.75,
          55.2,
          2723.15,
          4107.25,
          5760.65,
          4747.5,
          84.6,
          1566.9,
          702,
          114.1,
          299.05,
          1305.95,
          1120.3,
          284.35,
          6350.5,
          7878.3,
          3187.65,
          6126.15,
          731.3,
          273.4,
          2531.8,
          1074.3,
          48.55,
          4298.45,
          4619.55,
          147.15,
          40.2,
          2633.3,
          193.05,
          4103.9,
          7008.15,
          5791.1,
          80.55,
          1228.65,
          132.2,
          1364.3,
          4925.35,
          1520.1,
          5032.25,
          5526.75,
          1195.25,
          2007.25,
          1099.6,
          1732.95,
          1511.2,
          3450.15,
          24.8,
          2172.05,
          70.6,
          401.1,
          5624.85,
          1339.8,
          771.95,
          244.75,
          322.9,
          498.25,
          25.4,
          3687.75,
          1779.95,
          1783.6,
          927.15,
          70,
          606.55,
          435.4,
          1712.7,
          2021.2,
          1940.8,
          567.8,
          220.35,
          20.25,
          5436.45,
          3437.5,
          3015.75,
          73.6,
          1509.8,
          396.1,
          356.65,
          4109,
          3141.7,
          1229.1,
          2303.35,
          2054.4,
          3741.85,
          3682.45,
          19.25,
          1886.25,
          4895.1,
          341.6,
          415.55,
          5686.4,
          1355.1,
          3058.65,
          2231.05,
          3236.35,
          4350.1,
          4264,
          44.8,
          422.3,
          4176.7,
          5138.1,
          880.05,
          139.05,
          973.65,
          1470.05,
          739.35,
          161.95,
          4422.95,
          511.25,
          155.8,
          5293.95,
          4759.85,
          6148.45,
          3565.65,
          6603,
          1830.1,
          6223.8,
          4508.65,
          1328.15,
          865,
          72.1,
          168.2,
          1303.5,
          996.85,
          6430.9,
          2278.75,
          681.4,
          574.35,
          371.9,
          840.1,
          846,
          889,
          6823.4,
          805.1,
          4016.75,
          83.75,
          3959.15,
          2878.55,
          945.7,
          1373.05,
          492.55,
          1406,
          19.15,
          6962.85,
          8126.65,
          690.25,
          181.5,
          830.8,
          5608.4,
          3646.8,
          3662.25,
          25.35,
          2566.5,
          5308.7,
          1410.25,
          3339.05,
          50.65,
          4732.35,
          90.85,
          5067.45,
          214.75,
          4874.7,
          2348.45,
          4063,
          44,
          2595.25,
          2309.55,
          89.3,
          367.55,
          3944.5,
          5965.95,
          3694.7,
          2524.45,
          1803.7,
          415.1,
          624.15,
          237.7,
          7007.6,
          3848.8,
          419.4,
          1468.75,
          5812,
          2861.45,
          19.9,
          19.6,
          233.7,
          1066.15,
          2149.05,
          4473,
          3545.05,
          1195.75,
          6858.9,
          1024.7,
          1845.9,
          75.3,
          132.25,
          515.45,
          2830.45,
          1110.5,
          449.3,
          2838.55,
          5376.4,
          858.6,
          1395.05,
          3975.7,
          1182.55,
          4784.45,
          119.5,
          518.9,
          899.45,
          1183.8,
          720.05,
          8468.2,
          3161.2,
          55.05,
          1882.55,
          5070.4,
          6049.5,
          1166.7,
          2937.65,
          6396.45,
          69.55,
          1270.25,
          759.55,
          7611.55,
          1642.75,
          1545.4,
          3582.4,
          2227.1,
          1417.9,
          2494.65,
          2768.35,
          2369.3,
          38,
          75.1,
          100.9,
          1614.05,
          385.9,
          673.25,
          8404.9,
          2799.75,
          6538.45,
          6588.95,
          868.1,
          734.35,
          330.6,
          55,
          564.4,
          1315.35,
          74.7,
          1861.5,
          2747.2,
          554.05,
          453.4,
          994.8,
          225.75,
          2145,
          1671.6,
          8003.8,
          680.05,
          6130.85,
          1415,
          6201.95,
          52.55,
          20.25,
          80.85,
          25.75,
          56.05,
          3902.6,
          20.4,
          903.6,
          1785.65,
          1397.65,
          131.05,
          1238.45,
          3899.05,
          5676,
          4543.15,
          4326.8,
          5502.55,
          1782.4,
          851.8,
          167.5,
          502.85,
          19.85,
          1818.3,
          6300.15,
          334.8,
          5916.95,
          2852.4,
          4131.95,
          1546.3,
          302.6,
          1929.35,
          265.45,
          6989.45,
          1442,
          4713.4,
          1758.6,
          3480,
          4738.3,
          8399.15,
          5430.35,
          686.95,
          5706.3,
          490.65,
          1360.25,
          174.45,
          7379.8,
          85,
          1021.75,
          5029.05,
          1955.4,
          6744.2,
          4946.7,
          8248.5,
          601.6,
          19.55,
          834.1,
          597,
          2647.2,
          3266,
          6744.25,
          5265.5,
          311.6,
          7966.9,
          8220.4,
          1153.25,
          514.75,
          2596.15,
          3808,
          19.9,
          2708.2,
          760.05,
          49.3,
          6033.3,
          89.05,
          516.15,
          5861.75,
          445.95,
          4973.4,
          1667.25,
          5357.75,
          3527.6,
          422.6,
          1103.25,
          2754,
          697.25,
          5614.45,
          3204.4,
          4747.65,
          3082.1,
          597.9,
          3365.4,
          38.8,
          233.55,
          75.3,
          346.2,
          19,
          61.7,
          85.7,
          3342.45,
          85.1,
          7422.1,
          6668.05,
          8071.05,
          1174.8,
          5435,
          2438.6,
          45.6,
          713.75,
          916.15,
          237.2,
          4614.55,
          1414.45,
          1170.5,
          47.7,
          4859.25,
          4903.2,
          3608,
          6094.25,
          3084.9,
          2356.75,
          8306.05,
          6786.4,
          248.95,
          663.05,
          1357.1,
          4860.35,
          3418.2,
          631.4,
          186.3,
          6976.75,
          4884.85,
          522.95,
          362.6,
          5755.8,
          3355.65,
          406.95,
          137.6,
          2395.7,
          1968.1,
          6819.45,
          7943.45,
          4547.25,
          4687.9,
          2473.95,
          6562.9,
          176.3,
          2236.2,
          6985.65,
          3109.9,
          4911.35,
          5794.65,
          855.3,
          1620.2,
          2499.3,
          89.55,
          4287.2,
          394.85,
          1899.65,
          45.7,
          3442.15,
          161.5,
          1732.6,
          222.3,
          74.6,
          655.3,
          475.25,
          164.3,
          865.1,
          6132.7,
          3597.5,
          35.9,
          697.65,
          96.05,
          428.7,
          20.05,
          4459.15,
          1167.6,
          238.1,
          145.15,
          1453.1,
          191.05,
          4039.3,
          1039.45,
          1336.1,
          75.05,
          493.4,
          2550.9,
          7246.15,
          1203.95,
          62.25,
          313.6,
          3775.85,
          80,
          4616.05,
          195.65,
          4188.4,
          71.1,
          49.9,
          1266.4,
          91.1,
          1623.4,
          4149.45,
          20.45,
          2344.5,
          1013.05,
          270.7,
          417,
          20.65,
          6316.2,
          168.15,
          4018.05,
          4811.6,
          4189.7,
          2848.45,
          2516.2,
          33.6,
          208.45,
          2015.35,
          3739.8,
          2964,
          2263.4,
          2211.8,
          19.55,
          1683.7,
          1519,
          1164.05,
          1710.9,
          4245.55,
          4145.9,
          2664.3,
          1277.5,
          5589.3,
          34.75,
          1305.95,
          381.3,
          141.5,
          3105.55,
          204.55,
          605.9,
          356.1,
          2758.15,
          4805.65,
          3941.7,
          92.75,
          1901.05,
          5730.7,
          2423.4,
          1653.45,
          3327.05,
          7085.5,
          3344.1,
          6697.35,
          2879.9,
          137.1,
          1008.55,
          1551.6,
          202.15,
          7882.25,
          8196.4,
          202.9,
          855.1,
          5817,
          1652.95,
          5600.15,
          515.75,
          40.5,
          190.5,
          1842.8,
          1253.8,
          57.2,
          1269.55,
          6563.4,
          20.8,
          1907.85,
          208.85,
          4758.8,
          1292.6,
          363.15,
          1600.25,
          275.7,
          3089.1,
          1175.6,
          237.3,
          1444.65,
          19.9,
          454.15,
          3036.75,
          8065.65,
          92.5,
          184.65,
          6152.3,
          89.5,
          5154.5,
          220.45,
          1510.3,
          52.2,
          2588.95,
          4874.8,
          3983.6,
          2003.6,
          1832.4,
          4908.25,
          3590.2,
          5023,
          146.6,
          2339.3,
          298.7,
          143.65,
          2548.65,
          507.4,
          20,
          6125.4,
          5411.4,
          1058.25,
          903.8,
          3009.5,
          489.45,
          5468.45,
          1058.1,
          7616,
          4113.1,
          69.55,
          6017.65,
          7250.15,
          1108.2,
          938.65,
          94.15,
          2088.05,
          178.7,
          5656.75,
          2317.1,
          5986.45,
          6751.35,
          3566.6,
          4889.3,
          318.1,
          1563.95,
          1430.25,
          644.35,
          372.45,
          5453.4,
          1442.6,
          5610.7,
          963.95,
          5222.3,
          3340.55,
          292.8,
          5774.55,
          4487.3,
          44.4,
          2854.95,
          905.55,
          5509.3,
          7589.8,
          229.6,
          394.1,
          89.9,
          295.95,
          5459.2,
          444.75,
          6782.15,
          6510.45,
          8476.5,
          4461.85,
          62,
          352.65,
          1424.9,
          6413.65,
          6309.65,
          50.8,
          5898.6,
          4719.75,
          457.3,
          5822.3,
          1463.5,
          307.4,
          2104.55,
          319.15,
          2337.45,
          104.3,
          5084.65,
          121.25,
          7015.9,
          5598,
          1269.1,
          3027.4,
          4634.35,
          113.95,
          1582.75,
          3077,
          4039.5,
          1665.2,
          1043.3,
          504.2,
          497.55,
          7511.65,
          1782,
          20.05,
          609.65,
          2857.6,
          3247.55,
          6215.35,
          2823,
          5017.9,
          2619.25,
          24.6,
          4965.1,
          2679.7,
          8310.55,
          5682.25,
          1120.95,
          4914.9,
          27.55,
          923.5,
          1625.65,
          6068.65,
          5398.6,
          918.6,
          234.85,
          1231.85,
          170.9,
          7984.15,
          688.65,
          1288.3,
          7848.5,
          267,
          1798.9,
          73.55,
          1643.55,
          4807.45,
          2193,
          2239.4,
          1505.9,
          255.35,
          1189.4,
          4786.15,
          1820.9,
          2404.15,
          205.05,
          952.3,
          7039.45,
          2538.05,
          1212.85,
          2651.1,
          1304.8,
          360.1,
          435.45,
          308.05,
          80.85,
          434.5,
          7118.9,
          320.45,
          531.55,
          382.2,
          2001,
          4919.7,
          5645.8,
          215.8,
          77.6,
          2896.55,
          3395.8,
          759.35,
          85.15,
          535.55,
          1253.15,
          955.15,
          2162.6,
          44.7,
          1813.35,
          245.15,
          2028.8,
          2723.75,
          220.45,
          365.8,
          551.95,
          4054.2,
          45.7,
          832.35,
          112.3,
          60.65,
          5550.1,
          174.8,
          90.55,
          4733.1,
          4048.95,
          1359.7,
          4542.35,
          7532.15,
          69.9,
          888.65,
          6383.35,
          1916,
          413,
          808.95,
          1886.4,
          86.6,
          1679.25,
          2656.5,
          540.95,
          19.75,
          537.35,
          678.8,
          4513.65,
          1423.85,
          555.4,
          225.55,
          268.45,
          2917.5,
          2416.1,
          424.45,
          1492.1,
          132.4,
          660.9,
          1893.95,
          284.9,
          784.25,
          417.7,
          5016.25,
          1612.75,
          119.75,
          3204.65,
          485.2,
          160.85,
          4145.25,
          827.45,
          49.5,
          990.85,
          696.35,
          5585.4,
          1601.2,
          162.45,
          470.2,
          2066,
          1426.45,
          392.5,
          3861.45,
          2552.9,
          6668.35,
          819.4,
          4615.25,
          2070.6,
          273.75,
          3557.7,
          1957.1,
          729.95,
          1416.75,
          5924.4,
          1697.7,
          7849.85,
          649.4,
          4557.5,
          3013.05,
          1266.1,
          360.35,
          1046.5,
          2347.9,
          447.75,
          4209.95,
          3877.65,
          152.3,
          572.2,
          19.65,
          526.95,
          552.7,
          3208.65,
          210.75,
          3706.95,
          620.75,
          412.5,
          832.05,
          185.55,
          1943.2,
          505.9,
          8046.85,
          1815.3,
          612.95,
          795.15,
          2169.8,
          973.1,
          2210.2,
          4853.75,
          1055.9,
          144.55,
          91.1,
          1304.85,
          713,
          21.1,
          5580.8,
          1497.9,
          4527.45,
          4590.35,
          200.2,
          614.45,
          4564.9,
          25.75,
          171.15,
          1012.4,
          940.35,
          1047.7,
          2766.4,
          1622.45,
          1129.35,
          5680.9,
          2243.9,
          4523.25,
          7159.7,
          2839.95,
          80.55,
          580.1,
          2178.6,
          6038.55,
          259.4,
          324.15,
          417.65,
          168.15,
          5637.85,
          839.4,
          769.1,
          6253,
          1641.8,
          1678.05,
          2058.5,
          2424.5,
          387.2,
          6293.45,
          2839.65,
          3145.9,
          2200.7,
          914.4,
          4577.75,
          4997.5,
          4144.8,
          1493.55,
          4179.1,
          893.55,
          1611,
          593.05,
          4284.8,
          544.55,
          1533.8,
          529.8,
          3865.6,
          515.75,
          941,
          1133.65,
          48.35,
          2070.05,
          8333.95,
          1209.25,
          1396.25,
          723.35,
          228.65,
          1161.75,
          98.35,
          775.3,
          1074.65,
          35.55,
          2324.7,
          1072.6,
          170.5,
          196.9,
          1162.85,
          1677.85,
          18.85,
          370.4,
          3410.6,
          1138.8,
          5264.25,
          1005.7,
          5936.55,
          5475.9,
          224.05,
          2326.05,
          31.35,
          4991.5,
          1052.4,
          5831.2,
          510.8,
          283.95,
          1295.4,
          19.65,
          3011.65,
          8093.15,
          5610.25,
          3217.65,
          19.85,
          773.2,
          1029.35,
          669.45,
          3593.8,
          1553.95,
          3953.15,
          1971.15,
          1236.15,
          3196,
          4872.2,
          1500.5,
          60.15,
          3478.75,
          7413.55,
          3532,
          256.75,
          3887.25,
          2490.15,
          593.45,
          3510.3,
          765.45,
          1259.35,
          5538.35,
          340.85,
          844.45,
          1348.95,
          3778,
          611.65,
          4867.95,
          1505.05,
          467.85,
          74.9,
          194.2,
          571.45,
          80.25,
          5253.95,
          1149.65,
          740.8,
          521.35,
          1412.65,
          1532.45,
          250.05,
          1090.6,
          1446.8,
          2282.55,
          4300.45,
          1111.2,
          190.1,
          4447.75,
          143.35,
          45.85,
          810.2,
          1830.05,
          2820.65,
          4847.35,
          4729.3,
          4017.45,
          1398.6,
          2564.3,
          1685.9,
          5826.65,
          6066.55,
          228.4,
          270.2,
          1529.2,
          168.6,
          536.35,
          1888.45,
          629.35,
          45.3,
          289.3,
          2117.25,
          4730.9,
          2033.05,
          987.95,
          45.05,
          5744.35,
          75.8,
          19.45,
          523.15,
          4805.3,
          59.05,
          6110.75,
          1596.6,
          1046.2,
          4424.2,
          92.75,
          194.55,
          612.1,
          6127.6,
          6671.7,
          5264.3,
          303.7,
          4818.8,
          6448.05,
          7159.05,
          1574.5,
          2879.2,
          86.05,
          4159.45,
          6638.35,
          3112.05,
          7168.25,
          1326.25,
          2234.55,
          495.15,
          8317.95,
          679.8,
          62.8,
          7544,
          1188.25,
          676.7,
          74.1,
          3242.5,
          1240.15,
          4111.35,
          5899.85,
          632.95,
          5193.2,
          7530.8,
          270.95,
          5460.2,
          1614.2,
          402.5,
          1367.75,
          483.7,
          7962.2,
          3810.8,
          3533.6,
          1396.9,
          1345.55,
          1646.45,
          8127.6,
          2680.15,
          1281,
          1553.9,
          3207.55,
          2049.05,
          3629.2,
          5124.55,
          3474.45,
          202.3,
          147.5,
          86.35,
          579,
          19.45,
          3131.55,
          3928.3,
          187.75,
          1710.15,
          76.35,
          69.25,
          2151.6,
          5961.1,
          1221.55,
          1496.45,
          1292.2,
          25.15,
          1713.1,
          1748.9,
          25.2,
          96.45,
          1114.55,
          609.1,
          20.15,
          7133.25,
          56.05,
          169.45,
          141.6,
          4688.65,
          563.05,
          5985,
          1258.6,
          373.5,
          857.2,
          2553.35,
          4322.85,
          250.8,
          4549.05,
          1359.5,
          1639.3,
          178.85,
          633.85,
          5315.1,
          735.5,
          889.9,
          1290,
          330.05,
          237.95,
          6474.4,
          4421.95,
          2452.7,
          813.85,
          4904.85,
          4484.05,
          2033.85,
          538.2,
          79.2,
          2192.9,
          19.85,
          3858.05,
          854.8,
          347.4,
          5815.15,
          3970.4,
          3058.15,
          6145.2,
          129.2,
          1165.9,
          49.95,
          1554,
          4904.25,
          5632.55,
          1643.25,
          740.55,
          3217.55,
          4888.2,
          2440.25,
          620.55,
          20.35,
          6840.95,
          3001.2,
          6254.2,
          319.6,
          1938.05,
          294.5,
          58.3,
          442.85,
          553,
          546.45,
          797.1,
          76,
          1673.8,
          343.45,
          7412.25,
          4039,
          170.85,
          2948.6,
          1308.4,
          6078.75,
          3418.2,
          6603.8,
          3166.9,
          865.75,
          6373.1,
          1177.05,
          5985.75,
          732.5,
          7869.05,
          1504.05,
          936.7,
          741.4,
          6585.2,
          3122.4,
          50.45,
          1088.25,
          615.35,
          2908.2,
          739.9,
          593.85,
          1132.75,
          7227.45,
          193.6,
          1291.35,
          2023.55,
          349.65,
          153.95,
          5458.8,
          5244.45,
          154.55,
          4507.15,
          2031.95,
          50.05,
          332.45,
          473.9,
          106.8,
          152.6,
          1199.4,
          2555.05,
          2979.2,
          654.85,
          3834.4,
          1534.75,
          4586.15,
          20.55,
          5941.05,
          424.15,
          2234.95,
          666.75,
          281,
          547.8,
          74.6,
          571.15,
          1756.6,
          5731.45,
          3475.55,
          156.85,
          2683.2,
          896.75,
          2407.3,
          4456.65,
          6998.95,
          36.8,
          6547.7,
          4346.4,
          2265,
          1309.15,
          4754.3,
          1235.55,
          3562.5,
          7213.75,
          2082.95,
          102.75,
          5914.4,
          51.25,
          1282.85,
          4738.85,
          19.55,
          1775.8,
          795.65,
          145,
          4993.4,
          61.45,
          4018.55,
          1146.65,
          6081.4,
          1478.85,
          243.65,
          2633.95,
          4735.35,
          1247.75,
          74.7,
          3794.5,
          1008.7,
          2130.55,
          1313.55,
          5727.15,
          1372.9,
          1203.9,
          25.8,
          1215.1,
          2877.05,
          1579.7,
          5514.95,
          96.1,
          72.4,
          55.25,
          2443.3,
          1970.5,
          335.4,
          7002.95,
          158.95,
          293.15,
          1493.75,
          1093.4,
          1057.85,
          190.05,
          882.55,
          300.4,
          1025.95,
          1436.95,
          475,
          5388.15,
          5730.15,
          819.55,
          217.1,
          4896.35,
          1434.1,
          937.1,
          330.15,
          1474.9,
          6536.5,
          1128.1,
          6873.75,
          2199.05,
          45.85,
          457.1,
          566.5,
          2471.6,
          3107.3,
          518.3,
          5769.75,
          91.7,
          832.3,
          1555.65,
          45.3,
          1790.6,
          74.95,
          246.6,
          261.65,
          898.35,
          4509.5,
          5480.25,
          653.15,
          1183.05,
          639.45,
          478.75,
          20.05,
          127.1,
          4391.45,
          270.6,
          6710.5,
          3975.9,
          1704.95,
          415.95,
          950.2,
          1497.05,
          780.15,
          3512.15,
          273.25,
          3517.9,
          3375.9,
          7508.55,
          1245.05,
          5347.95,
          493.65,
          1263.85,
          385.55,
          3384,
          84.2,
          1638.7,
          165.4,
          120.25,
          4473.45,
          520.55,
          5717.85,
          88.8,
          4312.5,
          2755.35,
          994.55,
          6511.25,
          1218.65,
          7447.7,
          1169.35,
          279.5,
          5720.35,
          3121.45,
          6468.6,
          5918.8,
          675.6,
          3521.7,
          923.1,
          1110.35,
          1611.65,
          2293.6,
          5553.25,
          44.75,
          3029.1,
          3231.05,
          5129.45,
          5508.35,
          655.9,
          1191.2,
          866.4,
          2627.2,
          4741.45,
          4009.2,
          1463.45,
          5082.8,
          43.8,
          3707.6,
          220.45,
          1133.7,
          1983.15,
          5746.75,
          770.6,
          134.05,
          6230.1,
          573.05,
          3419.3,
          3587.25,
          3541.35,
          3801.3,
          868.5,
          4859.1,
          1439.35,
          85.8,
          79.1,
          592.75,
          1185.95,
          18.8,
          134.5,
          4921.2,
          901.25,
          5341.8,
          4859.95,
          1139.2,
          7082.45,
          324.6,
          4812.75,
          4399.5,
          663.55,
          174.65,
          321.7,
          5125.5,
          548.9,
          50.15,
          7031.3,
          5016.65,
          4594.95,
          611.45,
          2384.15,
          319.85,
          153.3,
          7035.6,
          344.2,
          1431.65,
          1849.2,
          6083.1,
          426.65,
          1655.35,
          1943.9,
          1616.15,
          314.95,
          804.85,
          465.7,
          6669.05,
          1161.75,
          947.75,
          8375.05,
          34.7,
          3770,
          264.8,
          4707.85,
          6152.4,
          958.1,
          943,
          6615.15,
          2200.25,
          425.1,
          99.75,
          5044.8,
          6743.55,
          196.4,
          299.7,
          2093.9,
          417.75,
          1725.4,
          1620.2,
          3169.55,
          5233.25,
          967.85,
          438.05,
          1421.9,
          323.15,
          318.6,
          163.7,
          639.65,
          2928.5,
          100.35,
          273.2,
          1608.15,
          1441.95,
          2168.15,
          3618.7,
          5692.65,
          59.85,
          69.6,
          5969.3,
          19.05,
          418.8,
          8100.55,
          19.5,
          313.45,
          6130.95,
          69.9,
          745.3,
          1212.1,
          183.75,
          1583.5,
          4162.05,
          1119.9,
          8013.55,
          264.85,
          1102.4,
          5832,
          4304.5,
          1178.4,
          1421.75,
          6827.5,
          4698.05,
          654.5,
          3268.05,
          4362.05,
          1386.9,
          415.4,
          2614.1,
          1513.6,
          3161.6,
          80.95,
          4676.7,
          6526.65,
          583.3,
          8078.1,
          3503.5,
          6669.45,
          4689.5,
          1201.15,
          143.65,
          1292.65,
          48.75,
          7108.2,
          1802.55,
          1505.15,
          1859.1,
          168.5,
          390.85,
          6339.45,
          1652.4,
          71.65,
          77.5,
          6392.85,
          3264.5,
          4599.15,
          1134.25,
          1621.35,
          947.3,
          2722.2,
          3058.3,
          1769.6,
          6293.75,
          1761.05,
          1642.75,
          578.5,
          954.9,
          973.25,
          43.85,
          1490.4,
          280,
          1901.25,
          716.4,
          4720,
          930.95,
          76.35,
          1676.95,
          2642.05,
          6770.85,
          1835.3,
          1588.25,
          75.5,
          258.35,
          1502.25,
          19.2,
          6929.4,
          4453.3,
          3244.4,
          323.45,
          2661.1,
          2697.4,
          1424.5,
          1401.15,
          1739.6,
          5931,
          2333.85,
          949.85,
          572.45,
          696.8,
          1381.8,
          2572.95,
          47.95,
          45.1,
          45,
          2122.45,
          20.05,
          4931.8,
          116.95,
          6937.95,
          1261.7,
          3273.8,
          1415.85,
          3958.2,
          2492.25,
          279.2,
          1083,
          755.5,
          402.6,
          3252,
          68.75,
          46.2,
          45.15,
          43.3,
          936.85,
          2250.65,
          3857.1,
          1441.1,
          4338.6,
          1378.45,
          45.95,
          2566.3,
          171,
          1597.4,
          4744.35,
          6721.6,
          247.25,
          44.05,
          1734.65,
          45.55,
          4539.35,
          804.25,
          5011.15,
          3574.5,
          8086.4,
          4563,
          6362.35,
          67.1,
          70.05,
          165.45,
          1156.55,
          1834.15,
          3653.35,
          1477.65,
          1706.45,
          3953.7,
          1194.3,
          1327.85,
          419.7,
          21,
          45.1,
          207.35,
          1083.7,
          2007.85,
          5882.75,
          2657.55,
          1527.5,
          378.4,
          1612.2,
          76.65,
          260.7,
          6441.85,
          266.8,
          5124.6,
          962.25,
          1382.9,
          571.05,
          1399.35,
          150,
          167.2,
          7657.4,
          865.05,
          6153.85,
          174.2,
          1269.6,
          3862.55,
          6352.4,
          1348.5,
          50.9,
          471.55,
          5931.75,
          1404.65,
          726.1,
          1961.6,
          4194.85,
          4872.45,
          5118.95,
          658.95,
          81.05,
          76.95,
          5809.75,
          20.2,
          415.9,
          246.5,
          996.95,
          3145.15,
          265.3,
          20.9,
          21.05,
          4576.3,
          189.1,
          908.15,
          49.8,
          215.2,
          1500.95,
          5099.15,
          6385.95,
          159.45,
          6885.75,
          5940.85,
          668.85,
          1916.2,
          75.35,
          75.45,
          4613.95,
          7261.25,
          2459.8,
          2048.8,
          163.55,
          2888.7,
          2421.6,
          2292.75,
          553.4,
          3465.7,
          1210.4,
          1291.3,
          5356.45,
          5200.8,
          3237.05,
          576.65,
          433.75,
          1868.4,
          5728.55,
          825.7,
          390.4,
          93.55,
          2845.15,
          3894.4,
          886.4,
          1021.55,
          5885.4,
          268.4,
          2204.35,
          1259,
          309.1,
          6398.05,
          2257.75,
          6287.25,
          1662.05,
          1350.15,
          3600.65,
          1329.15,
          45.7,
          422.5,
          69.95,
          4627.65,
          6717.9,
          97.1,
          1710.45,
          637.4,
          117.95,
          2460.55,
          5464.65,
          2165.05,
          4941.8,
          223.15,
          181.1,
          341.45,
          5731.85,
          357.75,
          4616.1,
          4533.7,
          589.25,
          750.1,
          1410.25,
          830.85,
          743.5,
          45.3,
          7040.85,
          3865.45,
          6825.65,
          1340.1,
          371.65,
          1184,
          8477.7,
          7382.85,
          456.85,
          331.6,
          6056.15,
          134.6,
          125.5,
          1390.6,
          20.2,
          2511.3,
          2737.05,
          74.3,
          70.6,
          2361.8,
          1730.35,
          6404,
          165.35,
          1867.6,
          1043.3,
          128.6,
          7455.45,
          24.7,
          206.15,
          2030.3,
          5869.4,
          3377.8,
          1346.2,
          4946.05,
          4065,
          106.55,
          4964.7,
          4085.75,
          1742.75,
          6224.8,
          3415.25,
          6325.25,
          340.25,
          1683.6,
          3966.3,
          608.5,
          2896.6,
          1514.85,
          6792.45,
          4669.2,
          95.6,
          2934.3,
          6302.8,
          779.2,
          283.75,
          4600.7,
          5594,
          772.85,
          71.35,
          857.8,
          7554.05,
          5981.65,
          1702.9,
          467.15,
          20.15,
          69.75,
          2931,
          1400.85,
          137.85,
          1941.5,
          1932.75,
          1423.05,
          970.85,
          5810.9,
          223.9,
          391.7,
          79.95,
          19.3,
          811.65,
          174.75,
          3126.85,
          6841.45,
          3754.6,
          1406.65,
          834.7,
          627.4,
          242,
          3157,
          3092,
          2168.9,
          980.35,
          65.95,
          711.9,
          1952.8,
          4368.85,
          2647.1,
          8477.6,
          54.35,
          4528,
          1790.65,
          845.6,
          1210.3,
          20.45,
          854.45,
          2429.1,
          100.4,
          5229.45,
          44.45,
          1716.45,
          3023.55,
          75.3,
          4837.6,
          2032.3,
          436.9,
          70.55,
          20.15,
          5893.95,
          1430.05,
          313,
          3871.85,
          458.1,
          2745.7,
          341.35,
          1336.8,
          2181.75,
          147.75,
          818.45,
          7133.45,
          348.8,
          128.6,
          4674.4,
          1737.45,
          1498.85,
          50.1,
          1797.75,
          498.1,
          2624.25,
          184.1,
          5498.8,
          4845.4,
          369.1,
          6096.9,
          160.75,
          2684.35,
          3004.15,
          6994.8,
          273.25,
          5483.9,
          1233.65,
          527.9,
          4985.9,
          1258.35,
          111.4,
          43.95,
          308.1,
          383.65,
          2555.9,
          1284.2,
          7550.3,
          1110.05,
          99.6,
          6707.15,
          4164.4,
          5873.75,
          109.25,
          179.25,
          1338.15,
          862.4,
          8564.75,
          926.2,
          1718.2,
          5956.85,
          91.3,
          4824.45,
          1238.65,
          79.5,
          672.2,
          382.2,
          4264.6,
          1070.7,
          1345.85,
          1045.25,
          3003.55,
          467.55,
          7537.5,
          7482.1,
          3343.15,
          5427.05,
          587.1,
          100.8,
          161.15,
          7028.5,
          5232.9,
          225.85,
          274.7,
          1180.95,
          3370.2,
          7111.3,
          5958.85,
          5999.85,
          1648.45,
          5753.25,
          4492.9,
          3956.7,
          2625.55,
          1233.4,
          1309,
          813.45,
          1108.8,
          7349.35,
          294.2,
          929.2,
          740,
          754.5,
          3883.3,
          1414.2,
          3211.2,
          371.6,
          1246.4,
          95.85,
          2545.7,
          6448.85,
          1468.9,
          1013.6,
          6690.75,
          2088.75,
          7240.65,
          102.45,
          830.25,
          1588.7,
          829.3,
          302.45,
          712.25,
          1336.65,
          5360.75,
          6735.05,
          51.2,
          1010,
          4847.05,
          3019.7,
          161.65,
          217.55,
          2583.75,
          146.05,
          567.45,
          7711.25,
          1384.75,
          5481.25,
          8124.2,
          827.3,
          70.9,
          220.95,
          3673.6,
          49.85,
          576.65,
          2331.3,
          74.5,
          4495.65,
          6941.2,
          340.35,
          1789.9,
          908.55,
          1043.35,
          6822.15,
          71.55,
          157.55,
          5029.2,
          581.7,
          7318.2,
          420.45,
          7576.7,
          633.4,
          321.65,
          4965,
          6151.9,
          1253.9,
          25.15,
          45.2,
          5893.15,
          5420.65,
          2627.35,
          5037.55,
          743.75,
          6589.6,
          92.45,
          6733.15,
          3410,
          199.85,
          593.3,
          7288.4,
          5229.8,
          4464.8,
          5068.05,
          401.85,
          4451.85,
          6688.95,
          2661.1,
          73.05,
          1211.65,
          7030.65,
          1020.2,
          5597.65,
          6223.3,
          1024.65,
          2933.2,
          1258.3,
          82.9,
          7789.6,
          2067,
          3452.55,
          5468.95,
          1802.15,
          733.55,
          3021.45,
          3687.85,
          1391.15,
          274.35,
          1214.05,
          5510.65,
          1322.85,
          1973.75,
          2196.3,
          7843.55,
          3211.9,
          130.15,
          692.35,
          85.5,
          6849.4,
          203.95,
          2117.2,
          6565.85,
          424.75,
          3306.85,
          168.9,
          253.8,
          197.4,
          3838.2,
          2065.15,
          5064.45,
          1140.05,
          2447.45,
          1263.9,
          45.95,
          1838.15,
          44.75,
          1185,
          1743.9,
          70.15,
          85.55,
          8529.5,
          6549.45,
          7806.5,
          25.7,
          6287.3,
          3251.85,
          50.6,
          7904.25,
          729.95,
          2654.05,
          2416.55,
          3520.75,
          5969.95,
          226.8,
          1082.75,
          565.75,
          4370.75,
          90.05,
          2169.4,
          550.6,
          55.45,
          6300.85,
          160.05,
          436.6,
          1781.35,
          3467,
          5552.5,
          2835.5,
          3591.25,
          88.35,
          63.75,
          617.15,
          870.25,
          601.25,
          111.65,
          6046.1,
          3923.8,
          777.3,
          512.45,
          141.45,
          892.15,
          1682.05,
          3398.9,
          4984.85,
          1445.3,
          305.55,
          507.9,
          3640.45,
          2673.45,
          389.8,
          2401.05,
          651.55,
          156.1,
          2796.35,
          70.05,
          407.05,
          6465,
          511.25,
          646.05,
          35.9,
          3777.15,
          4903.15,
          1653.85,
          47.5,
          1306.3,
          463.6,
          60.65,
          824.85,
          2094.65,
          438.9,
          847.3,
          329.75,
          674.55,
          162.55,
          546.95,
          7887.25,
          3186.65,
          1972.35,
          1527.35,
          490.55,
          1531.4,
          683.25,
          8058.85,
          2847.4,
          1133.9,
          294.45,
          1719.15,
          461.7,
          1160.45,
          5199.8,
          5163.3,
          162.3,
          883.35,
          1341.5,
          70.45,
          659.45,
          77.15,
          35.25,
          1205.05,
          4917.9,
          201,
          599.3,
          1733.15,
          5149.5,
          4677.1,
          119.3,
          4849.1,
          5424.25,
          5878.9,
          244.85,
          220.75,
          4261.2,
          5574.75,
          1501.75,
          89.75,
          4541.2,
          255.5,
          1072,
          2509.25,
          1440.75,
          1715.65,
          5333.35,
          3895.35,
          869.9,
          706.85,
          512.25,
          2636.05,
          814.75,
          388.6,
          93.45,
          1389.85,
          2894.55
         ],
         "y0": " ",
         "yaxis": "y"
        }
       ],
       "layout": {
        "autosize": true,
        "boxmode": "group",
        "legend": {
         "tracegroupgap": 0
        },
        "template": {
         "data": {
          "bar": [
           {
            "error_x": {
             "color": "#2a3f5f"
            },
            "error_y": {
             "color": "#2a3f5f"
            },
            "marker": {
             "line": {
              "color": "#E5ECF6",
              "width": 0.5
             },
             "pattern": {
              "fillmode": "overlay",
              "size": 10,
              "solidity": 0.2
             }
            },
            "type": "bar"
           }
          ],
          "barpolar": [
           {
            "marker": {
             "line": {
              "color": "#E5ECF6",
              "width": 0.5
             },
             "pattern": {
              "fillmode": "overlay",
              "size": 10,
              "solidity": 0.2
             }
            },
            "type": "barpolar"
           }
          ],
          "carpet": [
           {
            "aaxis": {
             "endlinecolor": "#2a3f5f",
             "gridcolor": "white",
             "linecolor": "white",
             "minorgridcolor": "white",
             "startlinecolor": "#2a3f5f"
            },
            "baxis": {
             "endlinecolor": "#2a3f5f",
             "gridcolor": "white",
             "linecolor": "white",
             "minorgridcolor": "white",
             "startlinecolor": "#2a3f5f"
            },
            "type": "carpet"
           }
          ],
          "choropleth": [
           {
            "colorbar": {
             "outlinewidth": 0,
             "ticks": ""
            },
            "type": "choropleth"
           }
          ],
          "contour": [
           {
            "colorbar": {
             "outlinewidth": 0,
             "ticks": ""
            },
            "colorscale": [
             [
              0,
              "#0d0887"
             ],
             [
              0.1111111111111111,
              "#46039f"
             ],
             [
              0.2222222222222222,
              "#7201a8"
             ],
             [
              0.3333333333333333,
              "#9c179e"
             ],
             [
              0.4444444444444444,
              "#bd3786"
             ],
             [
              0.5555555555555556,
              "#d8576b"
             ],
             [
              0.6666666666666666,
              "#ed7953"
             ],
             [
              0.7777777777777778,
              "#fb9f3a"
             ],
             [
              0.8888888888888888,
              "#fdca26"
             ],
             [
              1,
              "#f0f921"
             ]
            ],
            "type": "contour"
           }
          ],
          "contourcarpet": [
           {
            "colorbar": {
             "outlinewidth": 0,
             "ticks": ""
            },
            "type": "contourcarpet"
           }
          ],
          "heatmap": [
           {
            "colorbar": {
             "outlinewidth": 0,
             "ticks": ""
            },
            "colorscale": [
             [
              0,
              "#0d0887"
             ],
             [
              0.1111111111111111,
              "#46039f"
             ],
             [
              0.2222222222222222,
              "#7201a8"
             ],
             [
              0.3333333333333333,
              "#9c179e"
             ],
             [
              0.4444444444444444,
              "#bd3786"
             ],
             [
              0.5555555555555556,
              "#d8576b"
             ],
             [
              0.6666666666666666,
              "#ed7953"
             ],
             [
              0.7777777777777778,
              "#fb9f3a"
             ],
             [
              0.8888888888888888,
              "#fdca26"
             ],
             [
              1,
              "#f0f921"
             ]
            ],
            "type": "heatmap"
           }
          ],
          "heatmapgl": [
           {
            "colorbar": {
             "outlinewidth": 0,
             "ticks": ""
            },
            "colorscale": [
             [
              0,
              "#0d0887"
             ],
             [
              0.1111111111111111,
              "#46039f"
             ],
             [
              0.2222222222222222,
              "#7201a8"
             ],
             [
              0.3333333333333333,
              "#9c179e"
             ],
             [
              0.4444444444444444,
              "#bd3786"
             ],
             [
              0.5555555555555556,
              "#d8576b"
             ],
             [
              0.6666666666666666,
              "#ed7953"
             ],
             [
              0.7777777777777778,
              "#fb9f3a"
             ],
             [
              0.8888888888888888,
              "#fdca26"
             ],
             [
              1,
              "#f0f921"
             ]
            ],
            "type": "heatmapgl"
           }
          ],
          "histogram": [
           {
            "marker": {
             "pattern": {
              "fillmode": "overlay",
              "size": 10,
              "solidity": 0.2
             }
            },
            "type": "histogram"
           }
          ],
          "histogram2d": [
           {
            "colorbar": {
             "outlinewidth": 0,
             "ticks": ""
            },
            "colorscale": [
             [
              0,
              "#0d0887"
             ],
             [
              0.1111111111111111,
              "#46039f"
             ],
             [
              0.2222222222222222,
              "#7201a8"
             ],
             [
              0.3333333333333333,
              "#9c179e"
             ],
             [
              0.4444444444444444,
              "#bd3786"
             ],
             [
              0.5555555555555556,
              "#d8576b"
             ],
             [
              0.6666666666666666,
              "#ed7953"
             ],
             [
              0.7777777777777778,
              "#fb9f3a"
             ],
             [
              0.8888888888888888,
              "#fdca26"
             ],
             [
              1,
              "#f0f921"
             ]
            ],
            "type": "histogram2d"
           }
          ],
          "histogram2dcontour": [
           {
            "colorbar": {
             "outlinewidth": 0,
             "ticks": ""
            },
            "colorscale": [
             [
              0,
              "#0d0887"
             ],
             [
              0.1111111111111111,
              "#46039f"
             ],
             [
              0.2222222222222222,
              "#7201a8"
             ],
             [
              0.3333333333333333,
              "#9c179e"
             ],
             [
              0.4444444444444444,
              "#bd3786"
             ],
             [
              0.5555555555555556,
              "#d8576b"
             ],
             [
              0.6666666666666666,
              "#ed7953"
             ],
             [
              0.7777777777777778,
              "#fb9f3a"
             ],
             [
              0.8888888888888888,
              "#fdca26"
             ],
             [
              1,
              "#f0f921"
             ]
            ],
            "type": "histogram2dcontour"
           }
          ],
          "mesh3d": [
           {
            "colorbar": {
             "outlinewidth": 0,
             "ticks": ""
            },
            "type": "mesh3d"
           }
          ],
          "parcoords": [
           {
            "line": {
             "colorbar": {
              "outlinewidth": 0,
              "ticks": ""
             }
            },
            "type": "parcoords"
           }
          ],
          "pie": [
           {
            "automargin": true,
            "type": "pie"
           }
          ],
          "scatter": [
           {
            "fillpattern": {
             "fillmode": "overlay",
             "size": 10,
             "solidity": 0.2
            },
            "type": "scatter"
           }
          ],
          "scatter3d": [
           {
            "line": {
             "colorbar": {
              "outlinewidth": 0,
              "ticks": ""
             }
            },
            "marker": {
             "colorbar": {
              "outlinewidth": 0,
              "ticks": ""
             }
            },
            "type": "scatter3d"
           }
          ],
          "scattercarpet": [
           {
            "marker": {
             "colorbar": {
              "outlinewidth": 0,
              "ticks": ""
             }
            },
            "type": "scattercarpet"
           }
          ],
          "scattergeo": [
           {
            "marker": {
             "colorbar": {
              "outlinewidth": 0,
              "ticks": ""
             }
            },
            "type": "scattergeo"
           }
          ],
          "scattergl": [
           {
            "marker": {
             "colorbar": {
              "outlinewidth": 0,
              "ticks": ""
             }
            },
            "type": "scattergl"
           }
          ],
          "scattermapbox": [
           {
            "marker": {
             "colorbar": {
              "outlinewidth": 0,
              "ticks": ""
             }
            },
            "type": "scattermapbox"
           }
          ],
          "scatterpolar": [
           {
            "marker": {
             "colorbar": {
              "outlinewidth": 0,
              "ticks": ""
             }
            },
            "type": "scatterpolar"
           }
          ],
          "scatterpolargl": [
           {
            "marker": {
             "colorbar": {
              "outlinewidth": 0,
              "ticks": ""
             }
            },
            "type": "scatterpolargl"
           }
          ],
          "scatterternary": [
           {
            "marker": {
             "colorbar": {
              "outlinewidth": 0,
              "ticks": ""
             }
            },
            "type": "scatterternary"
           }
          ],
          "surface": [
           {
            "colorbar": {
             "outlinewidth": 0,
             "ticks": ""
            },
            "colorscale": [
             [
              0,
              "#0d0887"
             ],
             [
              0.1111111111111111,
              "#46039f"
             ],
             [
              0.2222222222222222,
              "#7201a8"
             ],
             [
              0.3333333333333333,
              "#9c179e"
             ],
             [
              0.4444444444444444,
              "#bd3786"
             ],
             [
              0.5555555555555556,
              "#d8576b"
             ],
             [
              0.6666666666666666,
              "#ed7953"
             ],
             [
              0.7777777777777778,
              "#fb9f3a"
             ],
             [
              0.8888888888888888,
              "#fdca26"
             ],
             [
              1,
              "#f0f921"
             ]
            ],
            "type": "surface"
           }
          ],
          "table": [
           {
            "cells": {
             "fill": {
              "color": "#EBF0F8"
             },
             "line": {
              "color": "white"
             }
            },
            "header": {
             "fill": {
              "color": "#C8D4E3"
             },
             "line": {
              "color": "white"
             }
            },
            "type": "table"
           }
          ]
         },
         "layout": {
          "annotationdefaults": {
           "arrowcolor": "#2a3f5f",
           "arrowhead": 0,
           "arrowwidth": 1
          },
          "autotypenumbers": "strict",
          "coloraxis": {
           "colorbar": {
            "outlinewidth": 0,
            "ticks": ""
           }
          },
          "colorscale": {
           "diverging": [
            [
             0,
             "#8e0152"
            ],
            [
             0.1,
             "#c51b7d"
            ],
            [
             0.2,
             "#de77ae"
            ],
            [
             0.3,
             "#f1b6da"
            ],
            [
             0.4,
             "#fde0ef"
            ],
            [
             0.5,
             "#f7f7f7"
            ],
            [
             0.6,
             "#e6f5d0"
            ],
            [
             0.7,
             "#b8e186"
            ],
            [
             0.8,
             "#7fbc41"
            ],
            [
             0.9,
             "#4d9221"
            ],
            [
             1,
             "#276419"
            ]
           ],
           "sequential": [
            [
             0,
             "#0d0887"
            ],
            [
             0.1111111111111111,
             "#46039f"
            ],
            [
             0.2222222222222222,
             "#7201a8"
            ],
            [
             0.3333333333333333,
             "#9c179e"
            ],
            [
             0.4444444444444444,
             "#bd3786"
            ],
            [
             0.5555555555555556,
             "#d8576b"
            ],
            [
             0.6666666666666666,
             "#ed7953"
            ],
            [
             0.7777777777777778,
             "#fb9f3a"
            ],
            [
             0.8888888888888888,
             "#fdca26"
            ],
            [
             1,
             "#f0f921"
            ]
           ],
           "sequentialminus": [
            [
             0,
             "#0d0887"
            ],
            [
             0.1111111111111111,
             "#46039f"
            ],
            [
             0.2222222222222222,
             "#7201a8"
            ],
            [
             0.3333333333333333,
             "#9c179e"
            ],
            [
             0.4444444444444444,
             "#bd3786"
            ],
            [
             0.5555555555555556,
             "#d8576b"
            ],
            [
             0.6666666666666666,
             "#ed7953"
            ],
            [
             0.7777777777777778,
             "#fb9f3a"
            ],
            [
             0.8888888888888888,
             "#fdca26"
            ],
            [
             1,
             "#f0f921"
            ]
           ]
          },
          "colorway": [
           "#636efa",
           "#EF553B",
           "#00cc96",
           "#ab63fa",
           "#FFA15A",
           "#19d3f3",
           "#FF6692",
           "#B6E880",
           "#FF97FF",
           "#FECB52"
          ],
          "font": {
           "color": "#2a3f5f"
          },
          "geo": {
           "bgcolor": "white",
           "lakecolor": "white",
           "landcolor": "#E5ECF6",
           "showlakes": true,
           "showland": true,
           "subunitcolor": "white"
          },
          "hoverlabel": {
           "align": "left"
          },
          "hovermode": "closest",
          "mapbox": {
           "style": "light"
          },
          "paper_bgcolor": "white",
          "plot_bgcolor": "#E5ECF6",
          "polar": {
           "angularaxis": {
            "gridcolor": "white",
            "linecolor": "white",
            "ticks": ""
           },
           "bgcolor": "#E5ECF6",
           "radialaxis": {
            "gridcolor": "white",
            "linecolor": "white",
            "ticks": ""
           }
          },
          "scene": {
           "xaxis": {
            "backgroundcolor": "#E5ECF6",
            "gridcolor": "white",
            "gridwidth": 2,
            "linecolor": "white",
            "showbackground": true,
            "ticks": "",
            "zerolinecolor": "white"
           },
           "yaxis": {
            "backgroundcolor": "#E5ECF6",
            "gridcolor": "white",
            "gridwidth": 2,
            "linecolor": "white",
            "showbackground": true,
            "ticks": "",
            "zerolinecolor": "white"
           },
           "zaxis": {
            "backgroundcolor": "#E5ECF6",
            "gridcolor": "white",
            "gridwidth": 2,
            "linecolor": "white",
            "showbackground": true,
            "ticks": "",
            "zerolinecolor": "white"
           }
          },
          "shapedefaults": {
           "line": {
            "color": "#2a3f5f"
           }
          },
          "ternary": {
           "aaxis": {
            "gridcolor": "white",
            "linecolor": "white",
            "ticks": ""
           },
           "baxis": {
            "gridcolor": "white",
            "linecolor": "white",
            "ticks": ""
           },
           "bgcolor": "#E5ECF6",
           "caxis": {
            "gridcolor": "white",
            "linecolor": "white",
            "ticks": ""
           }
          },
          "title": {
           "x": 0.05
          },
          "xaxis": {
           "automargin": true,
           "gridcolor": "white",
           "linecolor": "white",
           "ticks": "",
           "title": {
            "standoff": 15
           },
           "zerolinecolor": "white",
           "zerolinewidth": 2
          },
          "yaxis": {
           "automargin": true,
           "gridcolor": "white",
           "linecolor": "white",
           "ticks": "",
           "title": {
            "standoff": 15
           },
           "zerolinecolor": "white",
           "zerolinewidth": 2
          }
         }
        },
        "title": {
         "text": "Box Plot do Total Pago"
        },
        "xaxis": {
         "anchor": "y",
         "autorange": true,
         "domain": [
          0,
          1
         ],
         "range": [
          -0.5,
          0.5
         ],
         "type": "category"
        },
        "yaxis": {
         "anchor": "x",
         "autorange": true,
         "domain": [
          0,
          1
         ],
         "range": [
          -455.975,
          9039.525
         ],
         "title": {
          "text": "Total_Pago"
         },
         "type": "linear"
        }
       }
      },
      "image/png": "[encoded data removed]",
      "text/html": [
       "<div>                            <div id=\"a6a03296-590c-4e04-823d-ef82393f2885\" class=\"plotly-graph-div\" style=\"height:525px; width:100%;\"></div>            <script type=\"text/javascript\">                require([\"plotly\"], function(Plotly) {                    window.PLOTLYENV=window.PLOTLYENV || {};                                    if (document.getElementById(\"a6a03296-590c-4e04-823d-ef82393f2885\")) {                    Plotly.newPlot(                        \"a6a03296-590c-4e04-823d-ef82393f2885\",                        [{\"alignmentgroup\":\"True\",\"hovertemplate\":\"Total_Pago=%{y}\\u003cextra\\u003e\\u003c\\u002fextra\\u003e\",\"legendgroup\":\"\",\"marker\":{\"color\":\"#636efa\"},\"name\":\"\",\"notched\":false,\"offsetgroup\":\"\",\"orientation\":\"v\",\"showlegend\":false,\"x0\":\" \",\"xaxis\":\"x\",\"y\":[29.85,1889.5,108.15,1840.75,1022.95,7382.25,528.35,1862.9,39.65,202.25,20.15,3505.1,2970.3,1530.6,4749.15,30.2,6369.45,1093.1,6766.95,181.65,1874.45,20.2,45.25,7251.7,316.9,3548.3,3549.25,1105.4,475.7,4872.35,418.25,4861.45,981.45,3906.7,97.0,144.15,4217.8,4254.1,3838.75,1426.4,1752.65,633.3,4456.35,1752.55,6311.2,7076.35,894.3,7853.7,4707.1,5450.7,2962.0,957.1,857.25,244.1,3650.35,2497.2,930.9,887.35,49.05,1090.65,7099.0,1424.6,177.4,6139.5,2688.85,482.25,2111.3,1216.6,79.35,565.35,496.9,4327.5,973.35,918.75,2215.45,1057.0,927.1,1009.25,2570.2,74.7,5714.25,7107.0,7459.05,927.35,4748.7,113.85,1107.2,2514.5,20.2,19.45,3605.6,3027.25,7611.85,100.2,7303.05,927.65,3921.3,1363.25,5238.9,3042.25,3954.1,2868.15,3423.5,248.4,1126.35,1064.65,835.15,2151.6,5515.45,112.75,229.55,350.35,62.9,3027.65,2135.5,1723.95,19.75,3985.35,1215.65,1502.65,3260.1,35.45,81.25,1188.2,1778.5,1277.75,1170.55,70.45,6425.65,563.65,5971.25,5289.05,1756.2,6416.7,61.35,45.65,1929.95,1071.4,564.35,655.5,7930.55,5215.25,113.5,1152.8,1821.95,419.9,1024.0,251.6,764.55,1592.35,135.2,3958.25,233.9,1363.45,273.0,6254.45,2651.2,321.4,3539.25,242.8,1181.75,5000.2,654.55,780.2,1145.7,503.6,1559.25,1252.0,29.95,45.3,662.65,2453.3,1111.65,24.8,1023.85,82.15,244.8,2379.1,3173.35,531.0,1375.4,8129.3,1192.7,1901.65,587.4,6519.75,8041.65,20.75,2681.15,1112.3,7405.5,1033.95,2958.95,2684.85,4179.2,79.9,1934.45,6654.1,84.5,25.25,1124.2,540.05,1975.85,3437.45,3139.8,3789.2,5324.5,624.6,268.35,1836.9,20.2,179.35,219.35,1288.75,2545.75,55.2,2723.15,4107.25,5760.65,4747.5,84.6,1566.9,702.0,114.1,299.05,1305.95,1120.3,284.35,6350.5,7878.3,3187.65,6126.15,731.3,273.4,2531.8,1074.3,48.55,4298.45,4619.55,147.15,40.2,2633.3,193.05,4103.9,7008.15,5791.1,80.55,1228.65,132.2,1364.3,4925.35,1520.1,5032.25,5526.75,1195.25,2007.25,1099.6,1732.95,1511.2,3450.15,24.8,2172.05,70.6,401.1,5624.85,1339.8,771.95,244.75,322.9,498.25,25.4,3687.75,1779.95,1783.6,927.15,70.0,606.55,435.4,1712.7,2021.2,1940.8,567.8,220.35,20.25,5436.45,3437.5,3015.75,73.6,1509.8,396.1,356.65,4109.0,3141.7,1229.1,2303.35,2054.4,3741.85,3682.45,19.25,1886.25,4895.1,341.6,415.55,5686.4,1355.1,3058.65,2231.05,3236.35,4350.1,4264.0,44.8,422.3,4176.7,5138.1,880.05,139.05,973.65,1470.05,739.35,161.95,4422.95,511.25,155.8,5293.95,4759.85,6148.45,3565.65,6603.0,1830.1,6223.8,4508.65,1328.15,865.0,72.1,168.2,1303.5,996.85,6430.9,2278.75,681.4,574.35,371.9,840.1,846.0,889.0,6823.4,805.1,4016.75,83.75,3959.15,2878.55,945.7,1373.05,492.55,1406.0,19.15,6962.85,8126.65,690.25,181.5,830.8,5608.4,3646.8,3662.25,25.35,2566.5,5308.7,1410.25,3339.05,50.65,4732.35,90.85,5067.45,214.75,4874.7,2348.45,4063.0,44.0,2595.25,2309.55,89.3,367.55,3944.5,5965.95,3694.7,2524.45,1803.7,415.1,624.15,237.7,7007.6,3848.8,419.4,1468.75,5812.0,2861.45,19.9,19.6,233.7,1066.15,2149.05,4473.0,3545.05,1195.75,6858.9,1024.7,1845.9,75.3,132.25,515.45,2830.45,1110.5,449.3,2838.55,5376.4,858.6,1395.05,3975.7,1182.55,4784.45,119.5,518.9,899.45,1183.8,720.05,8468.2,3161.2,55.05,1882.55,5070.4,6049.5,1166.7,2937.65,6396.45,69.55,1270.25,759.55,7611.55,1642.75,1545.4,3582.4,2227.1,1417.9,2494.65,2768.35,2369.3,38.0,75.1,100.9,1614.05,385.9,673.25,8404.9,2799.75,6538.45,6588.95,868.1,734.35,330.6,55.0,564.4,1315.35,74.7,1861.5,2747.2,554.05,453.4,994.8,225.75,2145.0,1671.6,8003.8,680.05,6130.85,1415.0,6201.95,52.55,20.25,80.85,25.75,56.05,3902.6,20.4,903.6,1785.65,1397.65,131.05,1238.45,3899.05,5676.0,4543.15,4326.8,5502.55,1782.4,851.8,167.5,502.85,19.85,1818.3,6300.15,334.8,5916.95,2852.4,4131.95,1546.3,302.6,1929.35,265.45,6989.45,1442.0,4713.4,1758.6,3480.0,4738.3,8399.15,5430.35,686.95,5706.3,490.65,1360.25,174.45,7379.8,85.0,1021.75,5029.05,1955.4,6744.2,4946.7,8248.5,601.6,19.55,834.1,597.0,2647.2,3266.0,6744.25,5265.5,311.6,7966.9,8220.4,1153.25,514.75,2596.15,3808.0,19.9,2708.2,760.05,49.3,6033.3,89.05,516.15,5861.75,445.95,4973.4,1667.25,5357.75,3527.6,422.6,1103.25,2754.0,697.25,5614.45,3204.4,4747.65,3082.1,597.9,3365.4,38.8,233.55,75.3,346.2,19.0,61.7,85.7,3342.45,85.1,7422.1,6668.05,8071.05,1174.8,5435.0,2438.6,45.6,713.75,916.15,237.2,4614.55,1414.45,1170.5,47.7,4859.25,4903.2,3608.0,6094.25,3084.9,2356.75,8306.05,6786.4,248.95,663.05,1357.1,4860.35,3418.2,631.4,186.3,6976.75,4884.85,522.95,362.6,5755.8,3355.65,406.95,137.6,2395.7,1968.1,6819.45,7943.45,4547.25,4687.9,2473.95,6562.9,176.3,2236.2,6985.65,3109.9,4911.35,5794.65,855.3,1620.2,2499.3,89.55,4287.2,394.85,1899.65,45.7,3442.15,161.5,1732.6,222.3,74.6,655.3,475.25,164.3,865.1,6132.7,3597.5,35.9,697.65,96.05,428.7,20.05,4459.15,1167.6,238.1,145.15,1453.1,191.05,4039.3,1039.45,1336.1,75.05,493.4,2550.9,7246.15,1203.95,62.25,313.6,3775.85,80.0,4616.05,195.65,4188.4,71.1,49.9,1266.4,91.1,1623.4,4149.45,20.45,2344.5,1013.05,270.7,417.0,20.65,6316.2,168.15,4018.05,4811.6,4189.7,2848.45,2516.2,33.6,208.45,2015.35,3739.8,2964.0,2263.4,2211.8,19.55,1683.7,1519.0,1164.05,1710.9,4245.55,4145.9,2664.3,1277.5,5589.3,34.75,1305.95,381.3,141.5,3105.55,204.55,605.9,356.1,2758.15,4805.65,3941.7,92.75,1901.05,5730.7,2423.4,1653.45,3327.05,7085.5,3344.1,6697.35,2879.9,137.1,1008.55,1551.6,202.15,7882.25,8196.4,202.9,855.1,5817.0,1652.95,5600.15,515.75,40.5,190.5,1842.8,1253.8,57.2,1269.55,6563.4,20.8,1907.85,208.85,4758.8,1292.6,363.15,1600.25,275.7,3089.1,1175.6,237.3,1444.65,19.9,454.15,3036.75,8065.65,92.5,184.65,6152.3,89.5,5154.5,220.45,1510.3,52.2,2588.95,4874.8,3983.6,2003.6,1832.4,4908.25,3590.2,5023.0,146.6,2339.3,298.7,143.65,2548.65,507.4,20.0,6125.4,5411.4,1058.25,903.8,3009.5,489.45,5468.45,1058.1,7616.0,4113.1,69.55,6017.65,7250.15,1108.2,938.65,94.15,2088.05,178.7,5656.75,2317.1,5986.45,6751.35,3566.6,4889.3,318.1,1563.95,1430.25,644.35,372.45,5453.4,1442.6,5610.7,963.95,5222.3,3340.55,292.8,5774.55,4487.3,44.4,2854.95,905.55,5509.3,7589.8,229.6,394.1,89.9,295.95,5459.2,444.75,6782.15,6510.45,8476.5,4461.85,62.0,352.65,1424.9,6413.65,6309.65,50.8,5898.6,4719.75,457.3,5822.3,1463.5,307.4,2104.55,319.15,2337.45,104.3,5084.65,121.25,7015.9,5598.0,1269.1,3027.4,4634.35,113.95,1582.75,3077.0,4039.5,1665.2,1043.3,504.2,497.55,7511.65,1782.0,20.05,609.65,2857.6,3247.55,6215.35,2823.0,5017.9,2619.25,24.6,4965.1,2679.7,8310.55,5682.25,1120.95,4914.9,27.55,923.5,1625.65,6068.65,5398.6,918.6,234.85,1231.85,170.9,7984.15,688.65,1288.3,7848.5,267.0,1798.9,73.55,1643.55,4807.45,2193.0,2239.4,1505.9,255.35,1189.4,4786.15,1820.9,2404.15,205.05,952.3,7039.45,2538.05,1212.85,2651.1,1304.8,360.1,435.45,308.05,80.85,434.5,7118.9,320.45,531.55,382.2,2001.0,4919.7,5645.8,215.8,77.6,2896.55,3395.8,759.35,85.15,535.55,1253.15,955.15,2162.6,44.7,1813.35,245.15,2028.8,2723.75,220.45,365.8,551.95,4054.2,45.7,832.35,112.3,60.65,5550.1,174.8,90.55,4733.1,4048.95,1359.7,4542.35,7532.15,69.9,888.65,6383.35,1916.0,413.0,808.95,1886.4,86.6,1679.25,2656.5,540.95,19.75,537.35,678.8,4513.65,1423.85,555.4,225.55,268.45,2917.5,2416.1,424.45,1492.1,132.4,660.9,1893.95,284.9,784.25,417.7,5016.25,1612.75,119.75,3204.65,485.2,160.85,4145.25,827.45,49.5,990.85,696.35,5585.4,1601.2,162.45,470.2,2066.0,1426.45,392.5,3861.45,2552.9,6668.35,819.4,4615.25,2070.6,273.75,3557.7,1957.1,729.95,1416.75,5924.4,1697.7,7849.85,649.4,4557.5,3013.05,1266.1,360.35,1046.5,2347.9,447.75,4209.95,3877.65,152.3,572.2,19.65,526.95,552.7,3208.65,210.75,3706.95,620.75,412.5,832.05,185.55,1943.2,505.9,8046.85,1815.3,612.95,795.15,2169.8,973.1,2210.2,4853.75,1055.9,144.55,91.1,1304.85,713.0,21.1,5580.8,1497.9,4527.45,4590.35,200.2,614.45,4564.9,25.75,171.15,1012.4,940.35,1047.7,2766.4,1622.45,1129.35,5680.9,2243.9,4523.25,7159.7,2839.95,80.55,580.1,2178.6,6038.55,259.4,324.15,417.65,168.15,5637.85,839.4,769.1,6253.0,1641.8,1678.05,2058.5,2424.5,387.2,6293.45,2839.65,3145.9,2200.7,914.4,4577.75,4997.5,4144.8,1493.55,4179.1,893.55,1611.0,593.05,4284.8,544.55,1533.8,529.8,3865.6,515.75,941.0,1133.65,48.35,2070.05,8333.95,1209.25,1396.25,723.35,228.65,1161.75,98.35,775.3,1074.65,35.55,2324.7,1072.6,170.5,196.9,1162.85,1677.85,18.85,370.4,3410.6,1138.8,5264.25,1005.7,5936.55,5475.9,224.05,2326.05,31.35,4991.5,1052.4,5831.2,510.8,283.95,1295.4,19.65,3011.65,8093.15,5610.25,3217.65,19.85,773.2,1029.35,669.45,3593.8,1553.95,3953.15,1971.15,1236.15,3196.0,4872.2,1500.5,60.15,3478.75,7413.55,3532.0,256.75,3887.25,2490.15,593.45,3510.3,765.45,1259.35,5538.35,340.85,844.45,1348.95,3778.0,611.65,4867.95,1505.05,467.85,74.9,194.2,571.45,80.25,5253.95,1149.65,740.8,521.35,1412.65,1532.45,250.05,1090.6,1446.8,2282.55,4300.45,1111.2,190.1,4447.75,143.35,45.85,810.2,1830.05,2820.65,4847.35,4729.3,4017.45,1398.6,2564.3,1685.9,5826.65,6066.55,228.4,270.2,1529.2,168.6,536.35,1888.45,629.35,45.3,289.3,2117.25,4730.9,2033.05,987.95,45.05,5744.35,75.8,19.45,523.15,4805.3,59.05,6110.75,1596.6,1046.2,4424.2,92.75,194.55,612.1,6127.6,6671.7,5264.3,303.7,4818.8,6448.05,7159.05,1574.5,2879.2,86.05,4159.45,6638.35,3112.05,7168.25,1326.25,2234.55,495.15,8317.95,679.8,62.8,7544.0,1188.25,676.7,74.1,3242.5,1240.15,4111.35,5899.85,632.95,5193.2,7530.8,270.95,5460.2,1614.2,402.5,1367.75,483.7,7962.2,3810.8,3533.6,1396.9,1345.55,1646.45,8127.6,2680.15,1281.0,1553.9,3207.55,2049.05,3629.2,5124.55,3474.45,202.3,147.5,86.35,579.0,19.45,3131.55,3928.3,187.75,1710.15,76.35,69.25,2151.6,5961.1,1221.55,1496.45,1292.2,25.15,1713.1,1748.9,25.2,96.45,1114.55,609.1,20.15,7133.25,56.05,169.45,141.6,4688.65,563.05,5985.0,1258.6,373.5,857.2,2553.35,4322.85,250.8,4549.05,1359.5,1639.3,178.85,633.85,5315.1,735.5,889.9,1290.0,330.05,237.95,6474.4,4421.95,2452.7,813.85,4904.85,4484.05,2033.85,538.2,79.2,2192.9,19.85,3858.05,854.8,347.4,5815.15,3970.4,3058.15,6145.2,129.2,1165.9,49.95,1554.0,4904.25,5632.55,1643.25,740.55,3217.55,4888.2,2440.25,620.55,20.35,6840.95,3001.2,6254.2,319.6,1938.05,294.5,58.3,442.85,553.0,546.45,797.1,76.0,1673.8,343.45,7412.25,4039.0,170.85,2948.6,1308.4,6078.75,3418.2,6603.8,3166.9,865.75,6373.1,1177.05,5985.75,732.5,7869.05,1504.05,936.7,741.4,6585.2,3122.4,50.45,1088.25,615.35,2908.2,739.9,593.85,1132.75,7227.45,193.6,1291.35,2023.55,349.65,153.95,5458.8,5244.45,154.55,4507.15,2031.95,50.05,332.45,473.9,106.8,152.6,1199.4,2555.05,2979.2,654.85,3834.4,1534.75,4586.15,20.55,5941.05,424.15,2234.95,666.75,281.0,547.8,74.6,571.15,1756.6,5731.45,3475.55,156.85,2683.2,896.75,2407.3,4456.65,6998.95,36.8,6547.7,4346.4,2265.0,1309.15,4754.3,1235.55,3562.5,7213.75,2082.95,102.75,5914.4,51.25,1282.85,4738.85,19.55,1775.8,795.65,145.0,4993.4,61.45,4018.55,1146.65,6081.4,1478.85,243.65,2633.95,4735.35,1247.75,74.7,3794.5,1008.7,2130.55,1313.55,5727.15,1372.9,1203.9,25.8,1215.1,2877.05,1579.7,5514.95,96.1,72.4,55.25,2443.3,1970.5,335.4,7002.95,158.95,293.15,1493.75,1093.4,1057.85,190.05,882.55,300.4,1025.95,1436.95,475.0,5388.15,5730.15,819.55,217.1,4896.35,1434.1,937.1,330.15,1474.9,6536.5,1128.1,6873.75,2199.05,45.85,457.1,566.5,2471.6,3107.3,518.3,5769.75,91.7,832.3,1555.65,45.3,1790.6,74.95,246.6,261.65,898.35,4509.5,5480.25,653.15,1183.05,639.45,478.75,20.05,127.1,4391.45,270.6,6710.5,3975.9,1704.95,415.95,950.2,1497.05,780.15,3512.15,273.25,3517.9,3375.9,7508.55,1245.05,5347.95,493.65,1263.85,385.55,3384.0,84.2,1638.7,165.4,120.25,4473.45,520.55,5717.85,88.8,4312.5,2755.35,994.55,6511.25,1218.65,7447.7,1169.35,279.5,5720.35,3121.45,6468.6,5918.8,675.6,3521.7,923.1,1110.35,1611.65,2293.6,5553.25,44.75,3029.1,3231.05,5129.45,5508.35,655.9,1191.2,866.4,2627.2,4741.45,4009.2,1463.45,5082.8,43.8,3707.6,220.45,1133.7,1983.15,5746.75,770.6,134.05,6230.1,573.05,3419.3,3587.25,3541.35,3801.3,868.5,4859.1,1439.35,85.8,79.1,592.75,1185.95,18.8,134.5,4921.2,901.25,5341.8,4859.95,1139.2,7082.45,324.6,4812.75,4399.5,663.55,174.65,321.7,5125.5,548.9,50.15,7031.3,5016.65,4594.95,611.45,2384.15,319.85,153.3,7035.6,344.2,1431.65,1849.2,6083.1,426.65,1655.35,1943.9,1616.15,314.95,804.85,465.7,6669.05,1161.75,947.75,8375.05,34.7,3770.0,264.8,4707.85,6152.4,958.1,943.0,6615.15,2200.25,425.1,99.75,5044.8,6743.55,196.4,299.7,2093.9,417.75,1725.4,1620.2,3169.55,5233.25,967.85,438.05,1421.9,323.15,318.6,163.7,639.65,2928.5,100.35,273.2,1608.15,1441.95,2168.15,3618.7,5692.65,59.85,69.6,5969.3,19.05,418.8,8100.55,19.5,313.45,6130.95,69.9,745.3,1212.1,183.75,1583.5,4162.05,1119.9,8013.55,264.85,1102.4,5832.0,4304.5,1178.4,1421.75,6827.5,4698.05,654.5,3268.05,4362.05,1386.9,415.4,2614.1,1513.6,3161.6,80.95,4676.7,6526.65,583.3,8078.1,3503.5,6669.45,4689.5,1201.15,143.65,1292.65,48.75,7108.2,1802.55,1505.15,1859.1,168.5,390.85,6339.45,1652.4,71.65,77.5,6392.85,3264.5,4599.15,1134.25,1621.35,947.3,2722.2,3058.3,1769.6,6293.75,1761.05,1642.75,578.5,954.9,973.25,43.85,1490.4,280.0,1901.25,716.4,4720.0,930.95,76.35,1676.95,2642.05,6770.85,1835.3,1588.25,75.5,258.35,1502.25,19.2,6929.4,4453.3,3244.4,323.45,2661.1,2697.4,1424.5,1401.15,1739.6,5931.0,2333.85,949.85,572.45,696.8,1381.8,2572.95,47.95,45.1,45.0,2122.45,20.05,4931.8,116.95,6937.95,1261.7,3273.8,1415.85,3958.2,2492.25,279.2,1083.0,755.5,402.6,3252.0,68.75,46.2,45.15,43.3,936.85,2250.65,3857.1,1441.1,4338.6,1378.45,45.95,2566.3,171.0,1597.4,4744.35,6721.6,247.25,44.05,1734.65,45.55,4539.35,804.25,5011.15,3574.5,8086.4,4563.0,6362.35,67.1,70.05,165.45,1156.55,1834.15,3653.35,1477.65,1706.45,3953.7,1194.3,1327.85,419.7,21.0,45.1,207.35,1083.7,2007.85,5882.75,2657.55,1527.5,378.4,1612.2,76.65,260.7,6441.85,266.8,5124.6,962.25,1382.9,571.05,1399.35,150.0,167.2,7657.4,865.05,6153.85,174.2,1269.6,3862.55,6352.4,1348.5,50.9,471.55,5931.75,1404.65,726.1,1961.6,4194.85,4872.45,5118.95,658.95,81.05,76.95,5809.75,20.2,415.9,246.5,996.95,3145.15,265.3,20.9,21.05,4576.3,189.1,908.15,49.8,215.2,1500.95,5099.15,6385.95,159.45,6885.75,5940.85,668.85,1916.2,75.35,75.45,4613.95,7261.25,2459.8,2048.8,163.55,2888.7,2421.6,2292.75,553.4,3465.7,1210.4,1291.3,5356.45,5200.8,3237.05,576.65,433.75,1868.4,5728.55,825.7,390.4,93.55,2845.15,3894.4,886.4,1021.55,5885.4,268.4,2204.35,1259.0,309.1,6398.05,2257.75,6287.25,1662.05,1350.15,3600.65,1329.15,45.7,422.5,69.95,4627.65,6717.9,97.1,1710.45,637.4,117.95,2460.55,5464.65,2165.05,4941.8,223.15,181.1,341.45,5731.85,357.75,4616.1,4533.7,589.25,750.1,1410.25,830.85,743.5,45.3,7040.85,3865.45,6825.65,1340.1,371.65,1184.0,8477.7,7382.85,456.85,331.6,6056.15,134.6,125.5,1390.6,20.2,2511.3,2737.05,74.3,70.6,2361.8,1730.35,6404.0,165.35,1867.6,1043.3,128.6,7455.45,24.7,206.15,2030.3,5869.4,3377.8,1346.2,4946.05,4065.0,106.55,4964.7,4085.75,1742.75,6224.8,3415.25,6325.25,340.25,1683.6,3966.3,608.5,2896.6,1514.85,6792.45,4669.2,95.6,2934.3,6302.8,779.2,283.75,4600.7,5594.0,772.85,71.35,857.8,7554.05,5981.65,1702.9,467.15,20.15,69.75,2931.0,1400.85,137.85,1941.5,1932.75,1423.05,970.85,5810.9,223.9,391.7,79.95,19.3,811.65,174.75,3126.85,6841.45,3754.6,1406.65,834.7,627.4,242.0,3157.0,3092.0,2168.9,980.35,65.95,711.9,1952.8,4368.85,2647.1,8477.6,54.35,4528.0,1790.65,845.6,1210.3,20.45,854.45,2429.1,100.4,5229.45,44.45,1716.45,3023.55,75.3,4837.6,2032.3,436.9,70.55,20.15,5893.95,1430.05,313.0,3871.85,458.1,2745.7,341.35,1336.8,2181.75,147.75,818.45,7133.45,348.8,128.6,4674.4,1737.45,1498.85,50.1,1797.75,498.1,2624.25,184.1,5498.8,4845.4,369.1,6096.9,160.75,2684.35,3004.15,6994.8,273.25,5483.9,1233.65,527.9,4985.9,1258.35,111.4,43.95,308.1,383.65,2555.9,1284.2,7550.3,1110.05,99.6,6707.15,4164.4,5873.75,109.25,179.25,1338.15,862.4,8564.75,926.2,1718.2,5956.85,91.3,4824.45,1238.65,79.5,672.2,382.2,4264.6,1070.7,1345.85,1045.25,3003.55,467.55,7537.5,7482.1,3343.15,5427.05,587.1,100.8,161.15,7028.5,5232.9,225.85,274.7,1180.95,3370.2,7111.3,5958.85,5999.85,1648.45,5753.25,4492.9,3956.7,2625.55,1233.4,1309.0,813.45,1108.8,7349.35,294.2,929.2,740.0,754.5,3883.3,1414.2,3211.2,371.6,1246.4,95.85,2545.7,6448.85,1468.9,1013.6,6690.75,2088.75,7240.65,102.45,830.25,1588.7,829.3,302.45,712.25,1336.65,5360.75,6735.05,51.2,1010.0,4847.05,3019.7,161.65,217.55,2583.75,146.05,567.45,7711.25,1384.75,5481.25,8124.2,827.3,70.9,220.95,3673.6,49.85,576.65,2331.3,74.5,4495.65,6941.2,340.35,1789.9,908.55,1043.35,6822.15,71.55,157.55,5029.2,581.7,7318.2,420.45,7576.7,633.4,321.65,4965.0,6151.9,1253.9,25.15,45.2,5893.15,5420.65,2627.35,5037.55,743.75,6589.6,92.45,6733.15,3410.0,199.85,593.3,7288.4,5229.8,4464.8,5068.05,401.85,4451.85,6688.95,2661.1,73.05,1211.65,7030.65,1020.2,5597.65,6223.3,1024.65,2933.2,1258.3,82.9,7789.6,2067.0,3452.55,5468.95,1802.15,733.55,3021.45,3687.85,1391.15,274.35,1214.05,5510.65,1322.85,1973.75,2196.3,7843.55,3211.9,130.15,692.35,85.5,6849.4,203.95,2117.2,6565.85,424.75,3306.85,168.9,253.8,197.4,3838.2,2065.15,5064.45,1140.05,2447.45,1263.9,45.95,1838.15,44.75,1185.0,1743.9,70.15,85.55,8529.5,6549.45,7806.5,25.7,6287.3,3251.85,50.6,7904.25,729.95,2654.05,2416.55,3520.75,5969.95,226.8,1082.75,565.75,4370.75,90.05,2169.4,550.6,55.45,6300.85,160.05,436.6,1781.35,3467.0,5552.5,2835.5,3591.25,88.35,63.75,617.15,870.25,601.25,111.65,6046.1,3923.8,777.3,512.45,141.45,892.15,1682.05,3398.9,4984.85,1445.3,305.55,507.9,3640.45,2673.45,389.8,2401.05,651.55,156.1,2796.35,70.05,407.05,6465.0,511.25,646.05,35.9,3777.15,4903.15,1653.85,47.5,1306.3,463.6,60.65,824.85,2094.65,438.9,847.3,329.75,674.55,162.55,546.95,7887.25,3186.65,1972.35,1527.35,490.55,1531.4,683.25,8058.85,2847.4,1133.9,294.45,1719.15,461.7,1160.45,5199.8,5163.3,162.3,883.35,1341.5,70.45,659.45,77.15,35.25,1205.05,4917.9,201.0,599.3,1733.15,5149.5,4677.1,119.3,4849.1,5424.25,5878.9,244.85,220.75,4261.2,5574.75,1501.75,89.75,4541.2,255.5,1072.0,2509.25,1440.75,1715.65,5333.35,3895.35,869.9,706.85,512.25,2636.05,814.75,388.6,93.45,1389.85,2894.55],\"y0\":\" \",\"yaxis\":\"y\",\"type\":\"box\"}],                        {\"template\":{\"data\":{\"histogram2dcontour\":[{\"type\":\"histogram2dcontour\",\"colorbar\":{\"outlinewidth\":0,\"ticks\":\"\"},\"colorscale\":[[0.0,\"#0d0887\"],[0.1111111111111111,\"#46039f\"],[0.2222222222222222,\"#7201a8\"],[0.3333333333333333,\"#9c179e\"],[0.4444444444444444,\"#bd3786\"],[0.5555555555555556,\"#d8576b\"],[0.6666666666666666,\"#ed7953\"],[0.7777777777777778,\"#fb9f3a\"],[0.8888888888888888,\"#fdca26\"],[1.0,\"#f0f921\"]]}],\"choropleth\":[{\"type\":\"choropleth\",\"colorbar\":{\"outlinewidth\":0,\"ticks\":\"\"}}],\"histogram2d\":[{\"type\":\"histogram2d\",\"colorbar\":{\"outlinewidth\":0,\"ticks\":\"\"},\"colorscale\":[[0.0,\"#0d0887\"],[0.1111111111111111,\"#46039f\"],[0.2222222222222222,\"#7201a8\"],[0.3333333333333333,\"#9c179e\"],[0.4444444444444444,\"#bd3786\"],[0.5555555555555556,\"#d8576b\"],[0.6666666666666666,\"#ed7953\"],[0.7777777777777778,\"#fb9f3a\"],[0.8888888888888888,\"#fdca26\"],[1.0,\"#f0f921\"]]}],\"heatmap\":[{\"type\":\"heatmap\",\"colorbar\":{\"outlinewidth\":0,\"ticks\":\"\"},\"colorscale\":[[0.0,\"#0d0887\"],[0.1111111111111111,\"#46039f\"],[0.2222222222222222,\"#7201a8\"],[0.3333333333333333,\"#9c179e\"],[0.4444444444444444,\"#bd3786\"],[0.5555555555555556,\"#d8576b\"],[0.6666666666666666,\"#ed7953\"],[0.7777777777777778,\"#fb9f3a\"],[0.8888888888888888,\"#fdca26\"],[1.0,\"#f0f921\"]]}],\"heatmapgl\":[{\"type\":\"heatmapgl\",\"colorbar\":{\"outlinewidth\":0,\"ticks\":\"\"},\"colorscale\":[[0.0,\"#0d0887\"],[0.1111111111111111,\"#46039f\"],[0.2222222222222222,\"#7201a8\"],[0.3333333333333333,\"#9c179e\"],[0.4444444444444444,\"#bd3786\"],[0.5555555555555556,\"#d8576b\"],[0.6666666666666666,\"#ed7953\"],[0.7777777777777778,\"#fb9f3a\"],[0.8888888888888888,\"#fdca26\"],[1.0,\"#f0f921\"]]}],\"contourcarpet\":[{\"type\":\"contourcarpet\",\"colorbar\":{\"outlinewidth\":0,\"ticks\":\"\"}}],\"contour\":[{\"type\":\"contour\",\"colorbar\":{\"outlinewidth\":0,\"ticks\":\"\"},\"colorscale\":[[0.0,\"#0d0887\"],[0.1111111111111111,\"#46039f\"],[0.2222222222222222,\"#7201a8\"],[0.3333333333333333,\"#9c179e\"],[0.4444444444444444,\"#bd3786\"],[0.5555555555555556,\"#d8576b\"],[0.6666666666666666,\"#ed7953\"],[0.7777777777777778,\"#fb9f3a\"],[0.8888888888888888,\"#fdca26\"],[1.0,\"#f0f921\"]]}],\"surface\":[{\"type\":\"surface\",\"colorbar\":{\"outlinewidth\":0,\"ticks\":\"\"},\"colorscale\":[[0.0,\"#0d0887\"],[0.1111111111111111,\"#46039f\"],[0.2222222222222222,\"#7201a8\"],[0.3333333333333333,\"#9c179e\"],[0.4444444444444444,\"#bd3786\"],[0.5555555555555556,\"#d8576b\"],[0.6666666666666666,\"#ed7953\"],[0.7777777777777778,\"#fb9f3a\"],[0.8888888888888888,\"#fdca26\"],[1.0,\"#f0f921\"]]}],\"mesh3d\":[{\"type\":\"mesh3d\",\"colorbar\":{\"outlinewidth\":0,\"ticks\":\"\"}}],\"scatter\":[{\"fillpattern\":{\"fillmode\":\"overlay\",\"size\":10,\"solidity\":0.2},\"type\":\"scatter\"}],\"parcoords\":[{\"type\":\"parcoords\",\"line\":{\"colorbar\":{\"outlinewidth\":0,\"ticks\":\"\"}}}],\"scatterpolargl\":[{\"type\":\"scatterpolargl\",\"marker\":{\"colorbar\":{\"outlinewidth\":0,\"ticks\":\"\"}}}],\"bar\":[{\"error_x\":{\"color\":\"#2a3f5f\"},\"error_y\":{\"color\":\"#2a3f5f\"},\"marker\":{\"line\":{\"color\":\"#E5ECF6\",\"width\":0.5},\"pattern\":{\"fillmode\":\"overlay\",\"size\":10,\"solidity\":0.2}},\"type\":\"bar\"}],\"scattergeo\":[{\"type\":\"scattergeo\",\"marker\":{\"colorbar\":{\"outlinewidth\":0,\"ticks\":\"\"}}}],\"scatterpolar\":[{\"type\":\"scatterpolar\",\"marker\":{\"colorbar\":{\"outlinewidth\":0,\"ticks\":\"\"}}}],\"histogram\":[{\"marker\":{\"pattern\":{\"fillmode\":\"overlay\",\"size\":10,\"solidity\":0.2}},\"type\":\"histogram\"}],\"scattergl\":[{\"type\":\"scattergl\",\"marker\":{\"colorbar\":{\"outlinewidth\":0,\"ticks\":\"\"}}}],\"scatter3d\":[{\"type\":\"scatter3d\",\"line\":{\"colorbar\":{\"outlinewidth\":0,\"ticks\":\"\"}},\"marker\":{\"colorbar\":{\"outlinewidth\":0,\"ticks\":\"\"}}}],\"scattermapbox\":[{\"type\":\"scattermapbox\",\"marker\":{\"colorbar\":{\"outlinewidth\":0,\"ticks\":\"\"}}}],\"scatterternary\":[{\"type\":\"scatterternary\",\"marker\":{\"colorbar\":{\"outlinewidth\":0,\"ticks\":\"\"}}}],\"scattercarpet\":[{\"type\":\"scattercarpet\",\"marker\":{\"colorbar\":{\"outlinewidth\":0,\"ticks\":\"\"}}}],\"carpet\":[{\"aaxis\":{\"endlinecolor\":\"#2a3f5f\",\"gridcolor\":\"white\",\"linecolor\":\"white\",\"minorgridcolor\":\"white\",\"startlinecolor\":\"#2a3f5f\"},\"baxis\":{\"endlinecolor\":\"#2a3f5f\",\"gridcolor\":\"white\",\"linecolor\":\"white\",\"minorgridcolor\":\"white\",\"startlinecolor\":\"#2a3f5f\"},\"type\":\"carpet\"}],\"table\":[{\"cells\":{\"fill\":{\"color\":\"#EBF0F8\"},\"line\":{\"color\":\"white\"}},\"header\":{\"fill\":{\"color\":\"#C8D4E3\"},\"line\":{\"color\":\"white\"}},\"type\":\"table\"}],\"barpolar\":[{\"marker\":{\"line\":{\"color\":\"#E5ECF6\",\"width\":0.5},\"pattern\":{\"fillmode\":\"overlay\",\"size\":10,\"solidity\":0.2}},\"type\":\"barpolar\"}],\"pie\":[{\"automargin\":true,\"type\":\"pie\"}]},\"layout\":{\"autotypenumbers\":\"strict\",\"colorway\":[\"#636efa\",\"#EF553B\",\"#00cc96\",\"#ab63fa\",\"#FFA15A\",\"#19d3f3\",\"#FF6692\",\"#B6E880\",\"#FF97FF\",\"#FECB52\"],\"font\":{\"color\":\"#2a3f5f\"},\"hovermode\":\"closest\",\"hoverlabel\":{\"align\":\"left\"},\"paper_bgcolor\":\"white\",\"plot_bgcolor\":\"#E5ECF6\",\"polar\":{\"bgcolor\":\"#E5ECF6\",\"angularaxis\":{\"gridcolor\":\"white\",\"linecolor\":\"white\",\"ticks\":\"\"},\"radialaxis\":{\"gridcolor\":\"white\",\"linecolor\":\"white\",\"ticks\":\"\"}},\"ternary\":{\"bgcolor\":\"#E5ECF6\",\"aaxis\":{\"gridcolor\":\"white\",\"linecolor\":\"white\",\"ticks\":\"\"},\"baxis\":{\"gridcolor\":\"white\",\"linecolor\":\"white\",\"ticks\":\"\"},\"caxis\":{\"gridcolor\":\"white\",\"linecolor\":\"white\",\"ticks\":\"\"}},\"coloraxis\":{\"colorbar\":{\"outlinewidth\":0,\"ticks\":\"\"}},\"colorscale\":{\"sequential\":[[0.0,\"#0d0887\"],[0.1111111111111111,\"#46039f\"],[0.2222222222222222,\"#7201a8\"],[0.3333333333333333,\"#9c179e\"],[0.4444444444444444,\"#bd3786\"],[0.5555555555555556,\"#d8576b\"],[0.6666666666666666,\"#ed7953\"],[0.7777777777777778,\"#fb9f3a\"],[0.8888888888888888,\"#fdca26\"],[1.0,\"#f0f921\"]],\"sequentialminus\":[[0.0,\"#0d0887\"],[0.1111111111111111,\"#46039f\"],[0.2222222222222222,\"#7201a8\"],[0.3333333333333333,\"#9c179e\"],[0.4444444444444444,\"#bd3786\"],[0.5555555555555556,\"#d8576b\"],[0.6666666666666666,\"#ed7953\"],[0.7777777777777778,\"#fb9f3a\"],[0.8888888888888888,\"#fdca26\"],[1.0,\"#f0f921\"]],\"diverging\":[[0,\"#8e0152\"],[0.1,\"#c51b7d\"],[0.2,\"#de77ae\"],[0.3,\"#f1b6da\"],[0.4,\"#fde0ef\"],[0.5,\"#f7f7f7\"],[0.6,\"#e6f5d0\"],[0.7,\"#b8e186\"],[0.8,\"#7fbc41\"],[0.9,\"#4d9221\"],[1,\"#276419\"]]},\"xaxis\":{\"gridcolor\":\"white\",\"linecolor\":\"white\",\"ticks\":\"\",\"title\":{\"standoff\":15},\"zerolinecolor\":\"white\",\"automargin\":true,\"zerolinewidth\":2},\"yaxis\":{\"gridcolor\":\"white\",\"linecolor\":\"white\",\"ticks\":\"\",\"title\":{\"standoff\":15},\"zerolinecolor\":\"white\",\"automargin\":true,\"zerolinewidth\":2},\"scene\":{\"xaxis\":{\"backgroundcolor\":\"#E5ECF6\",\"gridcolor\":\"white\",\"linecolor\":\"white\",\"showbackground\":true,\"ticks\":\"\",\"zerolinecolor\":\"white\",\"gridwidth\":2},\"yaxis\":{\"backgroundcolor\":\"#E5ECF6\",\"gridcolor\":\"white\",\"linecolor\":\"white\",\"showbackground\":true,\"ticks\":\"\",\"zerolinecolor\":\"white\",\"gridwidth\":2},\"zaxis\":{\"backgroundcolor\":\"#E5ECF6\",\"gridcolor\":\"white\",\"linecolor\":\"white\",\"showbackground\":true,\"ticks\":\"\",\"zerolinecolor\":\"white\",\"gridwidth\":2}},\"shapedefaults\":{\"line\":{\"color\":\"#2a3f5f\"}},\"annotationdefaults\":{\"arrowcolor\":\"#2a3f5f\",\"arrowhead\":0,\"arrowwidth\":1},\"geo\":{\"bgcolor\":\"white\",\"landcolor\":\"#E5ECF6\",\"subunitcolor\":\"white\",\"showland\":true,\"showlakes\":true,\"lakecolor\":\"white\"},\"title\":{\"x\":0.05},\"mapbox\":{\"style\":\"light\"}}},\"xaxis\":{\"anchor\":\"y\",\"domain\":[0.0,1.0]},\"yaxis\":{\"anchor\":\"x\",\"domain\":[0.0,1.0],\"title\":{\"text\":\"Total_Pago\"}},\"legend\":{\"tracegroupgap\":0},\"title\":{\"text\":\"Box Plot do Total Pago\"},\"boxmode\":\"group\"},                        {\"responsive\": true}                    ).then(function(){\n",
       "                            \n",
       "var gd = document.getElementById('a6a03296-590c-4e04-823d-ef82393f2885');\n",
       "var x = new MutationObserver(function (mutations, observer) {{\n",
       "        var display = window.getComputedStyle(gd).display;\n",
       "        if (!display || display === 'none') {{\n",
       "            console.log([gd, 'removed!']);\n",
       "            Plotly.purge(gd);\n",
       "            observer.disconnect();\n",
       "        }}\n",
       "}});\n",
       "\n",
       "// Listen for the removal of the full notebook cells\n",
       "var notebookContainer = gd.closest('#notebook-container');\n",
       "if (notebookContainer) {{\n",
       "    x.observe(notebookContainer, {childList: true});\n",
       "}}\n",
       "\n",
       "// Listen for the clearing of the current output cell\n",
       "var outputEl = gd.closest('.output');\n",
       "if (outputEl) {{\n",
       "    x.observe(outputEl, {childList: true});\n",
       "}}\n",
       "\n",
       "                        })                };                });            </script>        </div>"
      ]
     },
     "metadata": {},
     "output_type": "display_data"
    }
   ],
   "source": [
    "fig = px.box(df, y='Total_Pago', title='Box Plot do Total Pago')\n",
    "fig.show()"
   ]
  },
  {
   "cell_type": "code",
   "execution_count": 44,
   "metadata": {},
   "outputs": [
    {
     "data": {
      "text/plain": [
       "0         29\n",
       "1       1889\n",
       "2        108\n",
       "3       1840\n",
       "4       1022\n",
       "        ... \n",
       "2483     814\n",
       "2484     388\n",
       "2485      93\n",
       "2486    1389\n",
       "2487    2894\n",
       "Name: Total_Pago, Length: 2488, dtype: int32"
      ]
     },
     "execution_count": 44,
     "metadata": {},
     "output_type": "execute_result"
    }
   ],
   "source": [
    "df['Total_Pago'].astype(int)"
   ]
  },
  {
   "cell_type": "code",
   "execution_count": 56,
   "metadata": {},
   "outputs": [
    {
     "data": {
      "text/plain": [
       "0"
      ]
     },
     "execution_count": 56,
     "metadata": {},
     "output_type": "execute_result"
    }
   ],
   "source": [
    "df['Total_Pago'].isnull().sum()"
   ]
  },
  {
   "cell_type": "code",
   "execution_count": 60,
   "metadata": {},
   "outputs": [
    {
     "data": {
      "text/plain": [
       "array([  29.85, 1889.5 ,  108.15, ...,   93.45, 1389.85, 2894.55])"
      ]
     },
     "execution_count": 60,
     "metadata": {},
     "output_type": "execute_result"
    }
   ],
   "source": [
    "df['Total_Pago'].unique()"
   ]
  },
  {
   "cell_type": "code",
   "execution_count": 48,
   "metadata": {},
   "outputs": [
    {
     "data": {
      "text/plain": [
       "2290.0871784565916"
      ]
     },
     "execution_count": 48,
     "metadata": {},
     "output_type": "execute_result"
    }
   ],
   "source": [
    "df['Total_Pago'].mean()"
   ]
  },
  {
   "cell_type": "code",
   "execution_count": 50,
   "metadata": {},
   "outputs": [
    {
     "data": {
      "text/plain": [
       "1402.9"
      ]
     },
     "execution_count": 50,
     "metadata": {},
     "output_type": "execute_result"
    }
   ],
   "source": [
    "df['Total_Pago'].median()"
   ]
  },
  {
   "cell_type": "markdown",
   "metadata": {
    "id": "l7XwsuFpIWKB"
   },
   "source": [
    "# 4) Realize a etapa da análise bivariada:\n",
    "A) Questione pelo menos 5 informações e traga as respostas utilizando visuais gráficos e insights.\n",
    "\n",
    "\n",
    "B) Quais variáveis você acredita serem as mais importantes para esse projetos relacionadas a variável Churn?"
   ]
  },
  {
   "cell_type": "markdown",
   "metadata": {},
   "source": [
    "## Explicação 4.a:\n",
    "#### \"Tempo_como_Cliente\" X \"Churn\":\n",
    "Clientes que deram Churn raramente ultrapassam 2 anos de relacionamento conosco. Em um mercado competitivo como o de telecomunicações, esse padrão exige ação imediata.\n",
    "\n",
    "#### \"Tipo de Contrato\" X \"Churn\":\n",
    "Clientes com planos mensais apresentam taxas de churn significativamente maiores, revelando uma desconfiança latente quanto à qualidade do serviço, que muitas vezes já existe antes mesmo da contratação.\n",
    "\n",
    "#### \"Pagamento Mensal\" X \"Churn\":\n",
    "Observamos que os clientes que deram churn realizavam pagamentos mensais mais altos, provavelmente por possuírem pacotes com mais serviços adicionais. Essa análise reforça a hipótese de que nossos serviços extras - que não são nosso carro-chefe - não estão atendendo às expectativas dos clientes.\n",
    "\n",
    "#### \"Média Tempo como Cliente por Valor Mensal\":\n",
    "A análise demonstra que clientes mais antigos apresentam um valor médio mensal consistentemente maior, sugerindo um aumento progressivo de engajamento com nossos serviços ao longo do tempo.\n",
    "\n",
    "#### \"Gênero\" X \"Churn\":\n",
    "Os dados revelam uma distribuição equilibrada de churn entre gêneros, indicando que esta variável não apresenta correlação significativa com o cancelamento.\n",
    "\n",
    "#### \"Dependentes\" X \"Churn\":\n",
    "A análise quantitativa revela que 83% dos cancelamentos ocorrem entre clientes sem dependenteS, indicando que a ausência de vínculos familiares reduz em 2,3x a retenção de clientes."
   ]
  },
  {
   "cell_type": "markdown",
   "metadata": {},
   "source": [
    "## Explicação 4.b:\n",
    "Nossa análise identificou quatro drivers principais de churn:\n",
    "\n",
    "1. Tempo como Cliente\n",
    "2. Valor mensal \n",
    "3. Ausência de dependentes\n",
    "4. Pacote de serviços contratados\n",
    "\n",
    "Embora não seja uma coluna do nosso DataFrame, pude identificar um padrão de insatisfação com nossos serviços não essenciais."
   ]
  },
  {
   "cell_type": "code",
   "execution_count": 67,
   "metadata": {
    "id": "7APnjGTNGHYb"
   },
   "outputs": [
    {
     "data": {
      "text/plain": [
       "['customerID',\n",
       " 'Genero',\n",
       " 'Idoso',\n",
       " 'Casado',\n",
       " 'Dependentes',\n",
       " 'Tempo_como_Cliente',\n",
       " 'Serviço_Telefonico',\n",
       " 'Servico_Internet',\n",
       " 'Servico_Seguranca',\n",
       " 'Suporte_Tecnico',\n",
       " 'StreamingTV',\n",
       " 'Tipo_Contrato',\n",
       " 'Forma_Pagamento',\n",
       " 'Pagamento_Mensal',\n",
       " 'Total_Pago',\n",
       " 'Churn']"
      ]
     },
     "execution_count": 67,
     "metadata": {},
     "output_type": "execute_result"
    }
   ],
   "source": [
    "df.columns.to_list()"
   ]
  },
  {
   "cell_type": "code",
   "execution_count": 215,
   "metadata": {},
   "outputs": [
    {
     "name": "stderr",
     "output_type": "stream",
     "text": [
      "C:\\Users\\large\\AppData\\Local\\Temp\\ipykernel_4864\\3305217291.py:2: FutureWarning:\n",
      "\n",
      "\n",
      "\n",
      "Passing `palette` without assigning `hue` is deprecated and will be removed in v0.14.0. Assign the `x` variable to `hue` and set `legend=False` for the same effect.\n",
      "\n",
      "\n"
     ]
    },
    {
     "data": {
      "image/png": "[encoded data removed]",
      "text/plain": [
       "<Figure size 1000x600 with 1 Axes>"
      ]
     },
     "metadata": {},
     "output_type": "display_data"
    }
   ],
   "source": [
    "plt.figure(figsize=(10,6))\n",
    "sns.barplot(data=df, x='Churn', y='Tempo_como_Cliente', palette=[\"green\", 'red'])\n",
    "plt.grid(True)\n",
    "plt.title('Tempo como Cliente X Churn')\n",
    "plt.ylabel('Meses')\n",
    "plt.show()"
   ]
  },
  {
   "cell_type": "code",
   "execution_count": 120,
   "metadata": {},
   "outputs": [
    {
     "data": {
      "image/png": "[encoded data removed]",
      "text/plain": [
       "<Figure size 1000x600 with 1 Axes>"
      ]
     },
     "metadata": {},
     "output_type": "display_data"
    }
   ],
   "source": [
    "plt.figure(figsize=(10, 6))\n",
    "sns.countplot(data=df, x='Tipo_Contrato', hue='Churn', palette=['blue', 'orange'])\n",
    "plt.title('Proporção de Churn por Tipo de Contrato')\n",
    "plt.xlabel('Tipo de Contrato')\n",
    "plt.ylabel('Contagem')\n",
    "plt.grid(True)\n",
    "plt.show()"
   ]
  },
  {
   "cell_type": "code",
   "execution_count": 197,
   "metadata": {},
   "outputs": [
    {
     "data": {
      "image/png": "[encoded data removed]",
      "text/plain": [
       "<Figure size 640x480 with 1 Axes>"
      ]
     },
     "metadata": {},
     "output_type": "display_data"
    }
   ],
   "source": [
    "sns.boxplot(data=df, x='Churn', y='Pagamento_Mensal', hue='Churn')\n",
    "plt.title('Boxplot de Pagamento Mensal por Churn')\n",
    "plt.ylabel('Pagamento Mensal')\n",
    "plt.xticks(rotation=90)\n",
    "plt.show()"
   ]
  },
  {
   "cell_type": "code",
   "execution_count": 143,
   "metadata": {},
   "outputs": [
    {
     "data": {
      "text/plain": [
       "Churn\n",
       "No     62.214766\n",
       "Yes    75.261565\n",
       "Name: Pagamento_Mensal, dtype: float64"
      ]
     },
     "execution_count": 143,
     "metadata": {},
     "output_type": "execute_result"
    }
   ],
   "source": [
    "df.groupby('Churn')['Pagamento_Mensal'].mean()"
   ]
  },
  {
   "cell_type": "code",
   "execution_count": 199,
   "metadata": {},
   "outputs": [
    {
     "data": {
      "application/vnd.plotly.v1+json": {
       "config": {
        "plotlyServerURL": "https://plot.ly"
       },
       "data": [
        {
         "hovertemplate": "Tempo_como_Cliente=%{x}<br>Pagamento_Mensal=%{y}<extra></extra>",
         "legendgroup": "",
         "line": {
          "color": "#636efa",
          "dash": "solid"
         },
         "marker": {
          "symbol": "circle"
         },
         "mode": "lines",
         "name": "",
         "orientation": "v",
         "showlegend": false,
         "type": "scatter",
         "x": [
          0,
          1,
          2,
          3,
          4,
          5,
          6,
          7,
          8,
          9,
          10,
          11,
          12,
          13,
          14,
          15,
          16,
          17,
          18,
          19,
          20,
          21,
          22,
          23,
          24,
          25,
          26,
          27,
          28,
          29,
          30,
          31,
          32,
          33,
          34,
          35,
          36,
          37,
          38,
          39,
          40,
          41,
          42,
          43,
          44,
          45,
          46,
          47,
          48,
          49,
          50,
          51,
          52,
          53,
          54,
          55,
          56,
          57,
          58,
          59,
          60,
          61,
          62,
          63,
          64,
          65,
          66,
          67,
          68,
          69,
          70,
          71,
          72
         ],
         "xaxis": "x",
         "y": [
          47.089999999999996,
          53.58597937479858,
          61.63443071870659,
          61.15487169928549,
          61.80246100164204,
          59.33341483803553,
          54.22453138815207,
          62.748969420949905,
          56.63746089700248,
          66.11883754789272,
          68.92521013852048,
          61.07634763106252,
          55.201866345896825,
          61.3378283045977,
          58.36303796586555,
          61.84310042347247,
          70.33267509578543,
          63.27924625566005,
          58.36536617405583,
          54.11344540229885,
          63.933179310344826,
          62.111322444041136,
          63.586215795328144,
          61.32025007008691,
          66.05383405172414,
          62.95401264367816,
          51.12222222222223,
          62.27125790229885,
          66.97894736842105,
          63.5140834397616,
          70.14960697070819,
          73.29648589341693,
          73.72075632183909,
          70.02727093596059,
          67.70279575596817,
          64.5840208986416,
          55.07859770114943,
          71.01515077755239,
          69.17037816091954,
          55.663333333333334,
          58.38207896051974,
          72.33636206896551,
          60.71370114942528,
          78.04578010994503,
          57.04717088122605,
          71.13548806366047,
          61.57267509578544,
          68.50600842911878,
          69.08630252873563,
          68.12417720306513,
          75.38827186406796,
          77.42146360153257,
          69.93009808429119,
          73.19075632183907,
          73.86787816091955,
          64.92547270114943,
          80.54894322535702,
          73.1368908045977,
          62.663954022988506,
          75.22363448275863,
          69.26661698183166,
          66.61855747126437,
          74.09677873563218,
          69.5884526357511,
          73.62551264367816,
          80.46164883075703,
          64.74076907001044,
          75.51339117538005,
          70.30984770114942,
          69.88890263691684,
          72.2218607553366,
          78.06146371590324,
          77.76480942861902
         ],
         "yaxis": "y"
        }
       ],
       "layout": {
        "autosize": true,
        "legend": {
         "tracegroupgap": 0
        },
        "template": {
         "data": {
          "bar": [
           {
            "error_x": {
             "color": "#2a3f5f"
            },
            "error_y": {
             "color": "#2a3f5f"
            },
            "marker": {
             "line": {
              "color": "#E5ECF6",
              "width": 0.5
             },
             "pattern": {
              "fillmode": "overlay",
              "size": 10,
              "solidity": 0.2
             }
            },
            "type": "bar"
           }
          ],
          "barpolar": [
           {
            "marker": {
             "line": {
              "color": "#E5ECF6",
              "width": 0.5
             },
             "pattern": {
              "fillmode": "overlay",
              "size": 10,
              "solidity": 0.2
             }
            },
            "type": "barpolar"
           }
          ],
          "carpet": [
           {
            "aaxis": {
             "endlinecolor": "#2a3f5f",
             "gridcolor": "white",
             "linecolor": "white",
             "minorgridcolor": "white",
             "startlinecolor": "#2a3f5f"
            },
            "baxis": {
             "endlinecolor": "#2a3f5f",
             "gridcolor": "white",
             "linecolor": "white",
             "minorgridcolor": "white",
             "startlinecolor": "#2a3f5f"
            },
            "type": "carpet"
           }
          ],
          "choropleth": [
           {
            "colorbar": {
             "outlinewidth": 0,
             "ticks": ""
            },
            "type": "choropleth"
           }
          ],
          "contour": [
           {
            "colorbar": {
             "outlinewidth": 0,
             "ticks": ""
            },
            "colorscale": [
             [
              0,
              "#0d0887"
             ],
             [
              0.1111111111111111,
              "#46039f"
             ],
             [
              0.2222222222222222,
              "#7201a8"
             ],
             [
              0.3333333333333333,
              "#9c179e"
             ],
             [
              0.4444444444444444,
              "#bd3786"
             ],
             [
              0.5555555555555556,
              "#d8576b"
             ],
             [
              0.6666666666666666,
              "#ed7953"
             ],
             [
              0.7777777777777778,
              "#fb9f3a"
             ],
             [
              0.8888888888888888,
              "#fdca26"
             ],
             [
              1,
              "#f0f921"
             ]
            ],
            "type": "contour"
           }
          ],
          "contourcarpet": [
           {
            "colorbar": {
             "outlinewidth": 0,
             "ticks": ""
            },
            "type": "contourcarpet"
           }
          ],
          "heatmap": [
           {
            "colorbar": {
             "outlinewidth": 0,
             "ticks": ""
            },
            "colorscale": [
             [
              0,
              "#0d0887"
             ],
             [
              0.1111111111111111,
              "#46039f"
             ],
             [
              0.2222222222222222,
              "#7201a8"
             ],
             [
              0.3333333333333333,
              "#9c179e"
             ],
             [
              0.4444444444444444,
              "#bd3786"
             ],
             [
              0.5555555555555556,
              "#d8576b"
             ],
             [
              0.6666666666666666,
              "#ed7953"
             ],
             [
              0.7777777777777778,
              "#fb9f3a"
             ],
             [
              0.8888888888888888,
              "#fdca26"
             ],
             [
              1,
              "#f0f921"
             ]
            ],
            "type": "heatmap"
           }
          ],
          "heatmapgl": [
           {
            "colorbar": {
             "outlinewidth": 0,
             "ticks": ""
            },
            "colorscale": [
             [
              0,
              "#0d0887"
             ],
             [
              0.1111111111111111,
              "#46039f"
             ],
             [
              0.2222222222222222,
              "#7201a8"
             ],
             [
              0.3333333333333333,
              "#9c179e"
             ],
             [
              0.4444444444444444,
              "#bd3786"
             ],
             [
              0.5555555555555556,
              "#d8576b"
             ],
             [
              0.6666666666666666,
              "#ed7953"
             ],
             [
              0.7777777777777778,
              "#fb9f3a"
             ],
             [
              0.8888888888888888,
              "#fdca26"
             ],
             [
              1,
              "#f0f921"
             ]
            ],
            "type": "heatmapgl"
           }
          ],
          "histogram": [
           {
            "marker": {
             "pattern": {
              "fillmode": "overlay",
              "size": 10,
              "solidity": 0.2
             }
            },
            "type": "histogram"
           }
          ],
          "histogram2d": [
           {
            "colorbar": {
             "outlinewidth": 0,
             "ticks": ""
            },
            "colorscale": [
             [
              0,
              "#0d0887"
             ],
             [
              0.1111111111111111,
              "#46039f"
             ],
             [
              0.2222222222222222,
              "#7201a8"
             ],
             [
              0.3333333333333333,
              "#9c179e"
             ],
             [
              0.4444444444444444,
              "#bd3786"
             ],
             [
              0.5555555555555556,
              "#d8576b"
             ],
             [
              0.6666666666666666,
              "#ed7953"
             ],
             [
              0.7777777777777778,
              "#fb9f3a"
             ],
             [
              0.8888888888888888,
              "#fdca26"
             ],
             [
              1,
              "#f0f921"
             ]
            ],
            "type": "histogram2d"
           }
          ],
          "histogram2dcontour": [
           {
            "colorbar": {
             "outlinewidth": 0,
             "ticks": ""
            },
            "colorscale": [
             [
              0,
              "#0d0887"
             ],
             [
              0.1111111111111111,
              "#46039f"
             ],
             [
              0.2222222222222222,
              "#7201a8"
             ],
             [
              0.3333333333333333,
              "#9c179e"
             ],
             [
              0.4444444444444444,
              "#bd3786"
             ],
             [
              0.5555555555555556,
              "#d8576b"
             ],
             [
              0.6666666666666666,
              "#ed7953"
             ],
             [
              0.7777777777777778,
              "#fb9f3a"
             ],
             [
              0.8888888888888888,
              "#fdca26"
             ],
             [
              1,
              "#f0f921"
             ]
            ],
            "type": "histogram2dcontour"
           }
          ],
          "mesh3d": [
           {
            "colorbar": {
             "outlinewidth": 0,
             "ticks": ""
            },
            "type": "mesh3d"
           }
          ],
          "parcoords": [
           {
            "line": {
             "colorbar": {
              "outlinewidth": 0,
              "ticks": ""
             }
            },
            "type": "parcoords"
           }
          ],
          "pie": [
           {
            "automargin": true,
            "type": "pie"
           }
          ],
          "scatter": [
           {
            "fillpattern": {
             "fillmode": "overlay",
             "size": 10,
             "solidity": 0.2
            },
            "type": "scatter"
           }
          ],
          "scatter3d": [
           {
            "line": {
             "colorbar": {
              "outlinewidth": 0,
              "ticks": ""
             }
            },
            "marker": {
             "colorbar": {
              "outlinewidth": 0,
              "ticks": ""
             }
            },
            "type": "scatter3d"
           }
          ],
          "scattercarpet": [
           {
            "marker": {
             "colorbar": {
              "outlinewidth": 0,
              "ticks": ""
             }
            },
            "type": "scattercarpet"
           }
          ],
          "scattergeo": [
           {
            "marker": {
             "colorbar": {
              "outlinewidth": 0,
              "ticks": ""
             }
            },
            "type": "scattergeo"
           }
          ],
          "scattergl": [
           {
            "marker": {
             "colorbar": {
              "outlinewidth": 0,
              "ticks": ""
             }
            },
            "type": "scattergl"
           }
          ],
          "scattermapbox": [
           {
            "marker": {
             "colorbar": {
              "outlinewidth": 0,
              "ticks": ""
             }
            },
            "type": "scattermapbox"
           }
          ],
          "scatterpolar": [
           {
            "marker": {
             "colorbar": {
              "outlinewidth": 0,
              "ticks": ""
             }
            },
            "type": "scatterpolar"
           }
          ],
          "scatterpolargl": [
           {
            "marker": {
             "colorbar": {
              "outlinewidth": 0,
              "ticks": ""
             }
            },
            "type": "scatterpolargl"
           }
          ],
          "scatterternary": [
           {
            "marker": {
             "colorbar": {
              "outlinewidth": 0,
              "ticks": ""
             }
            },
            "type": "scatterternary"
           }
          ],
          "surface": [
           {
            "colorbar": {
             "outlinewidth": 0,
             "ticks": ""
            },
            "colorscale": [
             [
              0,
              "#0d0887"
             ],
             [
              0.1111111111111111,
              "#46039f"
             ],
             [
              0.2222222222222222,
              "#7201a8"
             ],
             [
              0.3333333333333333,
              "#9c179e"
             ],
             [
              0.4444444444444444,
              "#bd3786"
             ],
             [
              0.5555555555555556,
              "#d8576b"
             ],
             [
              0.6666666666666666,
              "#ed7953"
             ],
             [
              0.7777777777777778,
              "#fb9f3a"
             ],
             [
              0.8888888888888888,
              "#fdca26"
             ],
             [
              1,
              "#f0f921"
             ]
            ],
            "type": "surface"
           }
          ],
          "table": [
           {
            "cells": {
             "fill": {
              "color": "#EBF0F8"
             },
             "line": {
              "color": "white"
             }
            },
            "header": {
             "fill": {
              "color": "#C8D4E3"
             },
             "line": {
              "color": "white"
             }
            },
            "type": "table"
           }
          ]
         },
         "layout": {
          "annotationdefaults": {
           "arrowcolor": "#2a3f5f",
           "arrowhead": 0,
           "arrowwidth": 1
          },
          "autotypenumbers": "strict",
          "coloraxis": {
           "colorbar": {
            "outlinewidth": 0,
            "ticks": ""
           }
          },
          "colorscale": {
           "diverging": [
            [
             0,
             "#8e0152"
            ],
            [
             0.1,
             "#c51b7d"
            ],
            [
             0.2,
             "#de77ae"
            ],
            [
             0.3,
             "#f1b6da"
            ],
            [
             0.4,
             "#fde0ef"
            ],
            [
             0.5,
             "#f7f7f7"
            ],
            [
             0.6,
             "#e6f5d0"
            ],
            [
             0.7,
             "#b8e186"
            ],
            [
             0.8,
             "#7fbc41"
            ],
            [
             0.9,
             "#4d9221"
            ],
            [
             1,
             "#276419"
            ]
           ],
           "sequential": [
            [
             0,
             "#0d0887"
            ],
            [
             0.1111111111111111,
             "#46039f"
            ],
            [
             0.2222222222222222,
             "#7201a8"
            ],
            [
             0.3333333333333333,
             "#9c179e"
            ],
            [
             0.4444444444444444,
             "#bd3786"
            ],
            [
             0.5555555555555556,
             "#d8576b"
            ],
            [
             0.6666666666666666,
             "#ed7953"
            ],
            [
             0.7777777777777778,
             "#fb9f3a"
            ],
            [
             0.8888888888888888,
             "#fdca26"
            ],
            [
             1,
             "#f0f921"
            ]
           ],
           "sequentialminus": [
            [
             0,
             "#0d0887"
            ],
            [
             0.1111111111111111,
             "#46039f"
            ],
            [
             0.2222222222222222,
             "#7201a8"
            ],
            [
             0.3333333333333333,
             "#9c179e"
            ],
            [
             0.4444444444444444,
             "#bd3786"
            ],
            [
             0.5555555555555556,
             "#d8576b"
            ],
            [
             0.6666666666666666,
             "#ed7953"
            ],
            [
             0.7777777777777778,
             "#fb9f3a"
            ],
            [
             0.8888888888888888,
             "#fdca26"
            ],
            [
             1,
             "#f0f921"
            ]
           ]
          },
          "colorway": [
           "#636efa",
           "#EF553B",
           "#00cc96",
           "#ab63fa",
           "#FFA15A",
           "#19d3f3",
           "#FF6692",
           "#B6E880",
           "#FF97FF",
           "#FECB52"
          ],
          "font": {
           "color": "#2a3f5f"
          },
          "geo": {
           "bgcolor": "white",
           "lakecolor": "white",
           "landcolor": "#E5ECF6",
           "showlakes": true,
           "showland": true,
           "subunitcolor": "white"
          },
          "hoverlabel": {
           "align": "left"
          },
          "hovermode": "closest",
          "mapbox": {
           "style": "light"
          },
          "paper_bgcolor": "white",
          "plot_bgcolor": "#E5ECF6",
          "polar": {
           "angularaxis": {
            "gridcolor": "white",
            "linecolor": "white",
            "ticks": ""
           },
           "bgcolor": "#E5ECF6",
           "radialaxis": {
            "gridcolor": "white",
            "linecolor": "white",
            "ticks": ""
           }
          },
          "scene": {
           "xaxis": {
            "backgroundcolor": "#E5ECF6",
            "gridcolor": "white",
            "gridwidth": 2,
            "linecolor": "white",
            "showbackground": true,
            "ticks": "",
            "zerolinecolor": "white"
           },
           "yaxis": {
            "backgroundcolor": "#E5ECF6",
            "gridcolor": "white",
            "gridwidth": 2,
            "linecolor": "white",
            "showbackground": true,
            "ticks": "",
            "zerolinecolor": "white"
           },
           "zaxis": {
            "backgroundcolor": "#E5ECF6",
            "gridcolor": "white",
            "gridwidth": 2,
            "linecolor": "white",
            "showbackground": true,
            "ticks": "",
            "zerolinecolor": "white"
           }
          },
          "shapedefaults": {
           "line": {
            "color": "#2a3f5f"
           }
          },
          "ternary": {
           "aaxis": {
            "gridcolor": "white",
            "linecolor": "white",
            "ticks": ""
           },
           "baxis": {
            "gridcolor": "white",
            "linecolor": "white",
            "ticks": ""
           },
           "bgcolor": "#E5ECF6",
           "caxis": {
            "gridcolor": "white",
            "linecolor": "white",
            "ticks": ""
           }
          },
          "title": {
           "x": 0.05
          },
          "xaxis": {
           "automargin": true,
           "gridcolor": "white",
           "linecolor": "white",
           "ticks": "",
           "title": {
            "standoff": 15
           },
           "zerolinecolor": "white",
           "zerolinewidth": 2
          },
          "yaxis": {
           "automargin": true,
           "gridcolor": "white",
           "linecolor": "white",
           "ticks": "",
           "title": {
            "standoff": 15
           },
           "zerolinecolor": "white",
           "zerolinewidth": 2
          }
         }
        },
        "title": {
         "text": "Relação entre Tempo como Cliente e Valor Mensal"
        },
        "xaxis": {
         "anchor": "y",
         "autorange": true,
         "domain": [
          0,
          1
         ],
         "range": [
          0,
          72
         ],
         "title": {
          "text": "Tempo_como_Cliente"
         },
         "type": "linear"
        },
        "yaxis": {
         "anchor": "x",
         "autorange": true,
         "domain": [
          0,
          1
         ],
         "range": [
          45.23116982081349,
          82.40777340454352
         ],
         "title": {
          "text": "Pagamento_Mensal"
         },
         "type": "linear"
        }
       }
      },
      "image/png": "[encoded data removed]",
      "text/html": [
       "<div>                            <div id=\"461bf2ff-57c7-4ed6-8851-0c4b64bfdd80\" class=\"plotly-graph-div\" style=\"height:525px; width:100%;\"></div>            <script type=\"text/javascript\">                require([\"plotly\"], function(Plotly) {                    window.PLOTLYENV=window.PLOTLYENV || {};                                    if (document.getElementById(\"461bf2ff-57c7-4ed6-8851-0c4b64bfdd80\")) {                    Plotly.newPlot(                        \"461bf2ff-57c7-4ed6-8851-0c4b64bfdd80\",                        [{\"hovertemplate\":\"Tempo_como_Cliente=%{x}\\u003cbr\\u003ePagamento_Mensal=%{y}\\u003cextra\\u003e\\u003c\\u002fextra\\u003e\",\"legendgroup\":\"\",\"line\":{\"color\":\"#636efa\",\"dash\":\"solid\"},\"marker\":{\"symbol\":\"circle\"},\"mode\":\"lines\",\"name\":\"\",\"orientation\":\"v\",\"showlegend\":false,\"x\":[0,1,2,3,4,5,6,7,8,9,10,11,12,13,14,15,16,17,18,19,20,21,22,23,24,25,26,27,28,29,30,31,32,33,34,35,36,37,38,39,40,41,42,43,44,45,46,47,48,49,50,51,52,53,54,55,56,57,58,59,60,61,62,63,64,65,66,67,68,69,70,71,72],\"xaxis\":\"x\",\"y\":[47.089999999999996,53.58597937479858,61.63443071870659,61.15487169928549,61.80246100164204,59.33341483803553,54.22453138815207,62.748969420949905,56.63746089700248,66.11883754789272,68.92521013852048,61.07634763106252,55.201866345896825,61.3378283045977,58.36303796586555,61.84310042347247,70.33267509578543,63.27924625566005,58.36536617405583,54.11344540229885,63.933179310344826,62.111322444041136,63.586215795328144,61.32025007008691,66.05383405172414,62.95401264367816,51.12222222222223,62.27125790229885,66.97894736842105,63.5140834397616,70.14960697070819,73.29648589341693,73.72075632183909,70.02727093596059,67.70279575596817,64.5840208986416,55.07859770114943,71.01515077755239,69.17037816091954,55.663333333333334,58.38207896051974,72.33636206896551,60.71370114942528,78.04578010994503,57.04717088122605,71.13548806366047,61.57267509578544,68.50600842911878,69.08630252873563,68.12417720306513,75.38827186406796,77.42146360153257,69.93009808429119,73.19075632183907,73.86787816091955,64.92547270114943,80.54894322535702,73.1368908045977,62.663954022988506,75.22363448275863,69.26661698183166,66.61855747126437,74.09677873563218,69.5884526357511,73.62551264367816,80.46164883075703,64.74076907001044,75.51339117538005,70.30984770114942,69.88890263691684,72.2218607553366,78.06146371590324,77.76480942861902],\"yaxis\":\"y\",\"type\":\"scatter\"}],                        {\"template\":{\"data\":{\"histogram2dcontour\":[{\"type\":\"histogram2dcontour\",\"colorbar\":{\"outlinewidth\":0,\"ticks\":\"\"},\"colorscale\":[[0.0,\"#0d0887\"],[0.1111111111111111,\"#46039f\"],[0.2222222222222222,\"#7201a8\"],[0.3333333333333333,\"#9c179e\"],[0.4444444444444444,\"#bd3786\"],[0.5555555555555556,\"#d8576b\"],[0.6666666666666666,\"#ed7953\"],[0.7777777777777778,\"#fb9f3a\"],[0.8888888888888888,\"#fdca26\"],[1.0,\"#f0f921\"]]}],\"choropleth\":[{\"type\":\"choropleth\",\"colorbar\":{\"outlinewidth\":0,\"ticks\":\"\"}}],\"histogram2d\":[{\"type\":\"histogram2d\",\"colorbar\":{\"outlinewidth\":0,\"ticks\":\"\"},\"colorscale\":[[0.0,\"#0d0887\"],[0.1111111111111111,\"#46039f\"],[0.2222222222222222,\"#7201a8\"],[0.3333333333333333,\"#9c179e\"],[0.4444444444444444,\"#bd3786\"],[0.5555555555555556,\"#d8576b\"],[0.6666666666666666,\"#ed7953\"],[0.7777777777777778,\"#fb9f3a\"],[0.8888888888888888,\"#fdca26\"],[1.0,\"#f0f921\"]]}],\"heatmap\":[{\"type\":\"heatmap\",\"colorbar\":{\"outlinewidth\":0,\"ticks\":\"\"},\"colorscale\":[[0.0,\"#0d0887\"],[0.1111111111111111,\"#46039f\"],[0.2222222222222222,\"#7201a8\"],[0.3333333333333333,\"#9c179e\"],[0.4444444444444444,\"#bd3786\"],[0.5555555555555556,\"#d8576b\"],[0.6666666666666666,\"#ed7953\"],[0.7777777777777778,\"#fb9f3a\"],[0.8888888888888888,\"#fdca26\"],[1.0,\"#f0f921\"]]}],\"heatmapgl\":[{\"type\":\"heatmapgl\",\"colorbar\":{\"outlinewidth\":0,\"ticks\":\"\"},\"colorscale\":[[0.0,\"#0d0887\"],[0.1111111111111111,\"#46039f\"],[0.2222222222222222,\"#7201a8\"],[0.3333333333333333,\"#9c179e\"],[0.4444444444444444,\"#bd3786\"],[0.5555555555555556,\"#d8576b\"],[0.6666666666666666,\"#ed7953\"],[0.7777777777777778,\"#fb9f3a\"],[0.8888888888888888,\"#fdca26\"],[1.0,\"#f0f921\"]]}],\"contourcarpet\":[{\"type\":\"contourcarpet\",\"colorbar\":{\"outlinewidth\":0,\"ticks\":\"\"}}],\"contour\":[{\"type\":\"contour\",\"colorbar\":{\"outlinewidth\":0,\"ticks\":\"\"},\"colorscale\":[[0.0,\"#0d0887\"],[0.1111111111111111,\"#46039f\"],[0.2222222222222222,\"#7201a8\"],[0.3333333333333333,\"#9c179e\"],[0.4444444444444444,\"#bd3786\"],[0.5555555555555556,\"#d8576b\"],[0.6666666666666666,\"#ed7953\"],[0.7777777777777778,\"#fb9f3a\"],[0.8888888888888888,\"#fdca26\"],[1.0,\"#f0f921\"]]}],\"surface\":[{\"type\":\"surface\",\"colorbar\":{\"outlinewidth\":0,\"ticks\":\"\"},\"colorscale\":[[0.0,\"#0d0887\"],[0.1111111111111111,\"#46039f\"],[0.2222222222222222,\"#7201a8\"],[0.3333333333333333,\"#9c179e\"],[0.4444444444444444,\"#bd3786\"],[0.5555555555555556,\"#d8576b\"],[0.6666666666666666,\"#ed7953\"],[0.7777777777777778,\"#fb9f3a\"],[0.8888888888888888,\"#fdca26\"],[1.0,\"#f0f921\"]]}],\"mesh3d\":[{\"type\":\"mesh3d\",\"colorbar\":{\"outlinewidth\":0,\"ticks\":\"\"}}],\"scatter\":[{\"fillpattern\":{\"fillmode\":\"overlay\",\"size\":10,\"solidity\":0.2},\"type\":\"scatter\"}],\"parcoords\":[{\"type\":\"parcoords\",\"line\":{\"colorbar\":{\"outlinewidth\":0,\"ticks\":\"\"}}}],\"scatterpolargl\":[{\"type\":\"scatterpolargl\",\"marker\":{\"colorbar\":{\"outlinewidth\":0,\"ticks\":\"\"}}}],\"bar\":[{\"error_x\":{\"color\":\"#2a3f5f\"},\"error_y\":{\"color\":\"#2a3f5f\"},\"marker\":{\"line\":{\"color\":\"#E5ECF6\",\"width\":0.5},\"pattern\":{\"fillmode\":\"overlay\",\"size\":10,\"solidity\":0.2}},\"type\":\"bar\"}],\"scattergeo\":[{\"type\":\"scattergeo\",\"marker\":{\"colorbar\":{\"outlinewidth\":0,\"ticks\":\"\"}}}],\"scatterpolar\":[{\"type\":\"scatterpolar\",\"marker\":{\"colorbar\":{\"outlinewidth\":0,\"ticks\":\"\"}}}],\"histogram\":[{\"marker\":{\"pattern\":{\"fillmode\":\"overlay\",\"size\":10,\"solidity\":0.2}},\"type\":\"histogram\"}],\"scattergl\":[{\"type\":\"scattergl\",\"marker\":{\"colorbar\":{\"outlinewidth\":0,\"ticks\":\"\"}}}],\"scatter3d\":[{\"type\":\"scatter3d\",\"line\":{\"colorbar\":{\"outlinewidth\":0,\"ticks\":\"\"}},\"marker\":{\"colorbar\":{\"outlinewidth\":0,\"ticks\":\"\"}}}],\"scattermapbox\":[{\"type\":\"scattermapbox\",\"marker\":{\"colorbar\":{\"outlinewidth\":0,\"ticks\":\"\"}}}],\"scatterternary\":[{\"type\":\"scatterternary\",\"marker\":{\"colorbar\":{\"outlinewidth\":0,\"ticks\":\"\"}}}],\"scattercarpet\":[{\"type\":\"scattercarpet\",\"marker\":{\"colorbar\":{\"outlinewidth\":0,\"ticks\":\"\"}}}],\"carpet\":[{\"aaxis\":{\"endlinecolor\":\"#2a3f5f\",\"gridcolor\":\"white\",\"linecolor\":\"white\",\"minorgridcolor\":\"white\",\"startlinecolor\":\"#2a3f5f\"},\"baxis\":{\"endlinecolor\":\"#2a3f5f\",\"gridcolor\":\"white\",\"linecolor\":\"white\",\"minorgridcolor\":\"white\",\"startlinecolor\":\"#2a3f5f\"},\"type\":\"carpet\"}],\"table\":[{\"cells\":{\"fill\":{\"color\":\"#EBF0F8\"},\"line\":{\"color\":\"white\"}},\"header\":{\"fill\":{\"color\":\"#C8D4E3\"},\"line\":{\"color\":\"white\"}},\"type\":\"table\"}],\"barpolar\":[{\"marker\":{\"line\":{\"color\":\"#E5ECF6\",\"width\":0.5},\"pattern\":{\"fillmode\":\"overlay\",\"size\":10,\"solidity\":0.2}},\"type\":\"barpolar\"}],\"pie\":[{\"automargin\":true,\"type\":\"pie\"}]},\"layout\":{\"autotypenumbers\":\"strict\",\"colorway\":[\"#636efa\",\"#EF553B\",\"#00cc96\",\"#ab63fa\",\"#FFA15A\",\"#19d3f3\",\"#FF6692\",\"#B6E880\",\"#FF97FF\",\"#FECB52\"],\"font\":{\"color\":\"#2a3f5f\"},\"hovermode\":\"closest\",\"hoverlabel\":{\"align\":\"left\"},\"paper_bgcolor\":\"white\",\"plot_bgcolor\":\"#E5ECF6\",\"polar\":{\"bgcolor\":\"#E5ECF6\",\"angularaxis\":{\"gridcolor\":\"white\",\"linecolor\":\"white\",\"ticks\":\"\"},\"radialaxis\":{\"gridcolor\":\"white\",\"linecolor\":\"white\",\"ticks\":\"\"}},\"ternary\":{\"bgcolor\":\"#E5ECF6\",\"aaxis\":{\"gridcolor\":\"white\",\"linecolor\":\"white\",\"ticks\":\"\"},\"baxis\":{\"gridcolor\":\"white\",\"linecolor\":\"white\",\"ticks\":\"\"},\"caxis\":{\"gridcolor\":\"white\",\"linecolor\":\"white\",\"ticks\":\"\"}},\"coloraxis\":{\"colorbar\":{\"outlinewidth\":0,\"ticks\":\"\"}},\"colorscale\":{\"sequential\":[[0.0,\"#0d0887\"],[0.1111111111111111,\"#46039f\"],[0.2222222222222222,\"#7201a8\"],[0.3333333333333333,\"#9c179e\"],[0.4444444444444444,\"#bd3786\"],[0.5555555555555556,\"#d8576b\"],[0.6666666666666666,\"#ed7953\"],[0.7777777777777778,\"#fb9f3a\"],[0.8888888888888888,\"#fdca26\"],[1.0,\"#f0f921\"]],\"sequentialminus\":[[0.0,\"#0d0887\"],[0.1111111111111111,\"#46039f\"],[0.2222222222222222,\"#7201a8\"],[0.3333333333333333,\"#9c179e\"],[0.4444444444444444,\"#bd3786\"],[0.5555555555555556,\"#d8576b\"],[0.6666666666666666,\"#ed7953\"],[0.7777777777777778,\"#fb9f3a\"],[0.8888888888888888,\"#fdca26\"],[1.0,\"#f0f921\"]],\"diverging\":[[0,\"#8e0152\"],[0.1,\"#c51b7d\"],[0.2,\"#de77ae\"],[0.3,\"#f1b6da\"],[0.4,\"#fde0ef\"],[0.5,\"#f7f7f7\"],[0.6,\"#e6f5d0\"],[0.7,\"#b8e186\"],[0.8,\"#7fbc41\"],[0.9,\"#4d9221\"],[1,\"#276419\"]]},\"xaxis\":{\"gridcolor\":\"white\",\"linecolor\":\"white\",\"ticks\":\"\",\"title\":{\"standoff\":15},\"zerolinecolor\":\"white\",\"automargin\":true,\"zerolinewidth\":2},\"yaxis\":{\"gridcolor\":\"white\",\"linecolor\":\"white\",\"ticks\":\"\",\"title\":{\"standoff\":15},\"zerolinecolor\":\"white\",\"automargin\":true,\"zerolinewidth\":2},\"scene\":{\"xaxis\":{\"backgroundcolor\":\"#E5ECF6\",\"gridcolor\":\"white\",\"linecolor\":\"white\",\"showbackground\":true,\"ticks\":\"\",\"zerolinecolor\":\"white\",\"gridwidth\":2},\"yaxis\":{\"backgroundcolor\":\"#E5ECF6\",\"gridcolor\":\"white\",\"linecolor\":\"white\",\"showbackground\":true,\"ticks\":\"\",\"zerolinecolor\":\"white\",\"gridwidth\":2},\"zaxis\":{\"backgroundcolor\":\"#E5ECF6\",\"gridcolor\":\"white\",\"linecolor\":\"white\",\"showbackground\":true,\"ticks\":\"\",\"zerolinecolor\":\"white\",\"gridwidth\":2}},\"shapedefaults\":{\"line\":{\"color\":\"#2a3f5f\"}},\"annotationdefaults\":{\"arrowcolor\":\"#2a3f5f\",\"arrowhead\":0,\"arrowwidth\":1},\"geo\":{\"bgcolor\":\"white\",\"landcolor\":\"#E5ECF6\",\"subunitcolor\":\"white\",\"showland\":true,\"showlakes\":true,\"lakecolor\":\"white\"},\"title\":{\"x\":0.05},\"mapbox\":{\"style\":\"light\"}}},\"xaxis\":{\"anchor\":\"y\",\"domain\":[0.0,1.0],\"title\":{\"text\":\"Tempo_como_Cliente\"}},\"yaxis\":{\"anchor\":\"x\",\"domain\":[0.0,1.0],\"title\":{\"text\":\"Pagamento_Mensal\"}},\"legend\":{\"tracegroupgap\":0},\"title\":{\"text\":\"Rela\\u00e7\\u00e3o entre Tempo como Cliente e Valor Mensal\"}},                        {\"responsive\": true}                    ).then(function(){\n",
       "                            \n",
       "var gd = document.getElementById('461bf2ff-57c7-4ed6-8851-0c4b64bfdd80');\n",
       "var x = new MutationObserver(function (mutations, observer) {{\n",
       "        var display = window.getComputedStyle(gd).display;\n",
       "        if (!display || display === 'none') {{\n",
       "            console.log([gd, 'removed!']);\n",
       "            Plotly.purge(gd);\n",
       "            observer.disconnect();\n",
       "        }}\n",
       "}});\n",
       "\n",
       "// Listen for the removal of the full notebook cells\n",
       "var notebookContainer = gd.closest('#notebook-container');\n",
       "if (notebookContainer) {{\n",
       "    x.observe(notebookContainer, {childList: true});\n",
       "}}\n",
       "\n",
       "// Listen for the clearing of the current output cell\n",
       "var outputEl = gd.closest('.output');\n",
       "if (outputEl) {{\n",
       "    x.observe(outputEl, {childList: true});\n",
       "}}\n",
       "\n",
       "                        })                };                });            </script>        </div>"
      ]
     },
     "metadata": {},
     "output_type": "display_data"
    }
   ],
   "source": [
    "media_tempo_por_valor_mensal= df.groupby('Tempo_como_Cliente')['Pagamento_Mensal'].mean().reset_index()\n",
    "\n",
    "fig = px.line(media_tempo_por_valor_mensal, x='Tempo_como_Cliente', y='Pagamento_Mensal',\n",
    "              title='Relação entre Tempo como Cliente e Valor Mensal',)\n",
    "\n",
    "fig.show()"
   ]
  },
  {
   "cell_type": "code",
   "execution_count": 171,
   "metadata": {},
   "outputs": [
    {
     "data": {
      "text/plain": [
       "Tempo_como_Cliente\n",
       "0     47.090000\n",
       "1     53.585979\n",
       "2     61.634431\n",
       "3     61.154872\n",
       "4     61.802461\n",
       "        ...    \n",
       "68    70.309848\n",
       "69    69.888903\n",
       "70    72.221861\n",
       "71    78.061464\n",
       "72    77.764809\n",
       "Name: Pagamento_Mensal, Length: 73, dtype: float64"
      ]
     },
     "execution_count": 171,
     "metadata": {},
     "output_type": "execute_result"
    }
   ],
   "source": [
    "df.groupby('Tempo_como_Cliente')['Pagamento_Mensal'].mean()"
   ]
  },
  {
   "cell_type": "code",
   "execution_count": 173,
   "metadata": {},
   "outputs": [
    {
     "data": {
      "application/vnd.plotly.v1+json": {
       "config": {
        "plotlyServerURL": "https://plot.ly"
       },
       "data": [
        {
         "alignmentgroup": "True",
         "hovertemplate": "Gênero=Female<br>Churn=%{x}<br>Porcentagem=%{y}<extra></extra>",
         "legendgroup": "Female",
         "marker": {
          "color": "#636efa",
          "pattern": {
           "shape": ""
          }
         },
         "name": "Female",
         "offsetgroup": "Female",
         "orientation": "v",
         "showlegend": true,
         "textposition": "auto",
         "type": "bar",
         "x": [
          "No",
          "Yes"
         ],
         "xaxis": "x",
         "y": [
          48.18033677349266,
          51.31375579598145
         ],
         "yaxis": "y"
        },
        {
         "alignmentgroup": "True",
         "hovertemplate": "Gênero=Male<br>Churn=%{x}<br>Porcentagem=%{y}<extra></extra>",
         "legendgroup": "Male",
         "marker": {
          "color": "#EF553B",
          "pattern": {
           "shape": ""
          }
         },
         "name": "Male",
         "offsetgroup": "Male",
         "orientation": "v",
         "showlegend": true,
         "textposition": "auto",
         "type": "bar",
         "x": [
          "No",
          "Yes"
         ],
         "xaxis": "x",
         "y": [
          51.81966322650733,
          48.68624420401855
         ],
         "yaxis": "y"
        }
       ],
       "layout": {
        "autosize": true,
        "barmode": "stack",
        "legend": {
         "title": {
          "text": "Gênero"
         },
         "tracegroupgap": 0
        },
        "margin": {
         "t": 60
        },
        "template": {
         "data": {
          "bar": [
           {
            "error_x": {
             "color": "#2a3f5f"
            },
            "error_y": {
             "color": "#2a3f5f"
            },
            "marker": {
             "line": {
              "color": "#E5ECF6",
              "width": 0.5
             },
             "pattern": {
              "fillmode": "overlay",
              "size": 10,
              "solidity": 0.2
             }
            },
            "type": "bar"
           }
          ],
          "barpolar": [
           {
            "marker": {
             "line": {
              "color": "#E5ECF6",
              "width": 0.5
             },
             "pattern": {
              "fillmode": "overlay",
              "size": 10,
              "solidity": 0.2
             }
            },
            "type": "barpolar"
           }
          ],
          "carpet": [
           {
            "aaxis": {
             "endlinecolor": "#2a3f5f",
             "gridcolor": "white",
             "linecolor": "white",
             "minorgridcolor": "white",
             "startlinecolor": "#2a3f5f"
            },
            "baxis": {
             "endlinecolor": "#2a3f5f",
             "gridcolor": "white",
             "linecolor": "white",
             "minorgridcolor": "white",
             "startlinecolor": "#2a3f5f"
            },
            "type": "carpet"
           }
          ],
          "choropleth": [
           {
            "colorbar": {
             "outlinewidth": 0,
             "ticks": ""
            },
            "type": "choropleth"
           }
          ],
          "contour": [
           {
            "colorbar": {
             "outlinewidth": 0,
             "ticks": ""
            },
            "colorscale": [
             [
              0,
              "#0d0887"
             ],
             [
              0.1111111111111111,
              "#46039f"
             ],
             [
              0.2222222222222222,
              "#7201a8"
             ],
             [
              0.3333333333333333,
              "#9c179e"
             ],
             [
              0.4444444444444444,
              "#bd3786"
             ],
             [
              0.5555555555555556,
              "#d8576b"
             ],
             [
              0.6666666666666666,
              "#ed7953"
             ],
             [
              0.7777777777777778,
              "#fb9f3a"
             ],
             [
              0.8888888888888888,
              "#fdca26"
             ],
             [
              1,
              "#f0f921"
             ]
            ],
            "type": "contour"
           }
          ],
          "contourcarpet": [
           {
            "colorbar": {
             "outlinewidth": 0,
             "ticks": ""
            },
            "type": "contourcarpet"
           }
          ],
          "heatmap": [
           {
            "colorbar": {
             "outlinewidth": 0,
             "ticks": ""
            },
            "colorscale": [
             [
              0,
              "#0d0887"
             ],
             [
              0.1111111111111111,
              "#46039f"
             ],
             [
              0.2222222222222222,
              "#7201a8"
             ],
             [
              0.3333333333333333,
              "#9c179e"
             ],
             [
              0.4444444444444444,
              "#bd3786"
             ],
             [
              0.5555555555555556,
              "#d8576b"
             ],
             [
              0.6666666666666666,
              "#ed7953"
             ],
             [
              0.7777777777777778,
              "#fb9f3a"
             ],
             [
              0.8888888888888888,
              "#fdca26"
             ],
             [
              1,
              "#f0f921"
             ]
            ],
            "type": "heatmap"
           }
          ],
          "heatmapgl": [
           {
            "colorbar": {
             "outlinewidth": 0,
             "ticks": ""
            },
            "colorscale": [
             [
              0,
              "#0d0887"
             ],
             [
              0.1111111111111111,
              "#46039f"
             ],
             [
              0.2222222222222222,
              "#7201a8"
             ],
             [
              0.3333333333333333,
              "#9c179e"
             ],
             [
              0.4444444444444444,
              "#bd3786"
             ],
             [
              0.5555555555555556,
              "#d8576b"
             ],
             [
              0.6666666666666666,
              "#ed7953"
             ],
             [
              0.7777777777777778,
              "#fb9f3a"
             ],
             [
              0.8888888888888888,
              "#fdca26"
             ],
             [
              1,
              "#f0f921"
             ]
            ],
            "type": "heatmapgl"
           }
          ],
          "histogram": [
           {
            "marker": {
             "pattern": {
              "fillmode": "overlay",
              "size": 10,
              "solidity": 0.2
             }
            },
            "type": "histogram"
           }
          ],
          "histogram2d": [
           {
            "colorbar": {
             "outlinewidth": 0,
             "ticks": ""
            },
            "colorscale": [
             [
              0,
              "#0d0887"
             ],
             [
              0.1111111111111111,
              "#46039f"
             ],
             [
              0.2222222222222222,
              "#7201a8"
             ],
             [
              0.3333333333333333,
              "#9c179e"
             ],
             [
              0.4444444444444444,
              "#bd3786"
             ],
             [
              0.5555555555555556,
              "#d8576b"
             ],
             [
              0.6666666666666666,
              "#ed7953"
             ],
             [
              0.7777777777777778,
              "#fb9f3a"
             ],
             [
              0.8888888888888888,
              "#fdca26"
             ],
             [
              1,
              "#f0f921"
             ]
            ],
            "type": "histogram2d"
           }
          ],
          "histogram2dcontour": [
           {
            "colorbar": {
             "outlinewidth": 0,
             "ticks": ""
            },
            "colorscale": [
             [
              0,
              "#0d0887"
             ],
             [
              0.1111111111111111,
              "#46039f"
             ],
             [
              0.2222222222222222,
              "#7201a8"
             ],
             [
              0.3333333333333333,
              "#9c179e"
             ],
             [
              0.4444444444444444,
              "#bd3786"
             ],
             [
              0.5555555555555556,
              "#d8576b"
             ],
             [
              0.6666666666666666,
              "#ed7953"
             ],
             [
              0.7777777777777778,
              "#fb9f3a"
             ],
             [
              0.8888888888888888,
              "#fdca26"
             ],
             [
              1,
              "#f0f921"
             ]
            ],
            "type": "histogram2dcontour"
           }
          ],
          "mesh3d": [
           {
            "colorbar": {
             "outlinewidth": 0,
             "ticks": ""
            },
            "type": "mesh3d"
           }
          ],
          "parcoords": [
           {
            "line": {
             "colorbar": {
              "outlinewidth": 0,
              "ticks": ""
             }
            },
            "type": "parcoords"
           }
          ],
          "pie": [
           {
            "automargin": true,
            "type": "pie"
           }
          ],
          "scatter": [
           {
            "fillpattern": {
             "fillmode": "overlay",
             "size": 10,
             "solidity": 0.2
            },
            "type": "scatter"
           }
          ],
          "scatter3d": [
           {
            "line": {
             "colorbar": {
              "outlinewidth": 0,
              "ticks": ""
             }
            },
            "marker": {
             "colorbar": {
              "outlinewidth": 0,
              "ticks": ""
             }
            },
            "type": "scatter3d"
           }
          ],
          "scattercarpet": [
           {
            "marker": {
             "colorbar": {
              "outlinewidth": 0,
              "ticks": ""
             }
            },
            "type": "scattercarpet"
           }
          ],
          "scattergeo": [
           {
            "marker": {
             "colorbar": {
              "outlinewidth": 0,
              "ticks": ""
             }
            },
            "type": "scattergeo"
           }
          ],
          "scattergl": [
           {
            "marker": {
             "colorbar": {
              "outlinewidth": 0,
              "ticks": ""
             }
            },
            "type": "scattergl"
           }
          ],
          "scattermapbox": [
           {
            "marker": {
             "colorbar": {
              "outlinewidth": 0,
              "ticks": ""
             }
            },
            "type": "scattermapbox"
           }
          ],
          "scatterpolar": [
           {
            "marker": {
             "colorbar": {
              "outlinewidth": 0,
              "ticks": ""
             }
            },
            "type": "scatterpolar"
           }
          ],
          "scatterpolargl": [
           {
            "marker": {
             "colorbar": {
              "outlinewidth": 0,
              "ticks": ""
             }
            },
            "type": "scatterpolargl"
           }
          ],
          "scatterternary": [
           {
            "marker": {
             "colorbar": {
              "outlinewidth": 0,
              "ticks": ""
             }
            },
            "type": "scatterternary"
           }
          ],
          "surface": [
           {
            "colorbar": {
             "outlinewidth": 0,
             "ticks": ""
            },
            "colorscale": [
             [
              0,
              "#0d0887"
             ],
             [
              0.1111111111111111,
              "#46039f"
             ],
             [
              0.2222222222222222,
              "#7201a8"
             ],
             [
              0.3333333333333333,
              "#9c179e"
             ],
             [
              0.4444444444444444,
              "#bd3786"
             ],
             [
              0.5555555555555556,
              "#d8576b"
             ],
             [
              0.6666666666666666,
              "#ed7953"
             ],
             [
              0.7777777777777778,
              "#fb9f3a"
             ],
             [
              0.8888888888888888,
              "#fdca26"
             ],
             [
              1,
              "#f0f921"
             ]
            ],
            "type": "surface"
           }
          ],
          "table": [
           {
            "cells": {
             "fill": {
              "color": "#EBF0F8"
             },
             "line": {
              "color": "white"
             }
            },
            "header": {
             "fill": {
              "color": "#C8D4E3"
             },
             "line": {
              "color": "white"
             }
            },
            "type": "table"
           }
          ]
         },
         "layout": {
          "annotationdefaults": {
           "arrowcolor": "#2a3f5f",
           "arrowhead": 0,
           "arrowwidth": 1
          },
          "autotypenumbers": "strict",
          "coloraxis": {
           "colorbar": {
            "outlinewidth": 0,
            "ticks": ""
           }
          },
          "colorscale": {
           "diverging": [
            [
             0,
             "#8e0152"
            ],
            [
             0.1,
             "#c51b7d"
            ],
            [
             0.2,
             "#de77ae"
            ],
            [
             0.3,
             "#f1b6da"
            ],
            [
             0.4,
             "#fde0ef"
            ],
            [
             0.5,
             "#f7f7f7"
            ],
            [
             0.6,
             "#e6f5d0"
            ],
            [
             0.7,
             "#b8e186"
            ],
            [
             0.8,
             "#7fbc41"
            ],
            [
             0.9,
             "#4d9221"
            ],
            [
             1,
             "#276419"
            ]
           ],
           "sequential": [
            [
             0,
             "#0d0887"
            ],
            [
             0.1111111111111111,
             "#46039f"
            ],
            [
             0.2222222222222222,
             "#7201a8"
            ],
            [
             0.3333333333333333,
             "#9c179e"
            ],
            [
             0.4444444444444444,
             "#bd3786"
            ],
            [
             0.5555555555555556,
             "#d8576b"
            ],
            [
             0.6666666666666666,
             "#ed7953"
            ],
            [
             0.7777777777777778,
             "#fb9f3a"
            ],
            [
             0.8888888888888888,
             "#fdca26"
            ],
            [
             1,
             "#f0f921"
            ]
           ],
           "sequentialminus": [
            [
             0,
             "#0d0887"
            ],
            [
             0.1111111111111111,
             "#46039f"
            ],
            [
             0.2222222222222222,
             "#7201a8"
            ],
            [
             0.3333333333333333,
             "#9c179e"
            ],
            [
             0.4444444444444444,
             "#bd3786"
            ],
            [
             0.5555555555555556,
             "#d8576b"
            ],
            [
             0.6666666666666666,
             "#ed7953"
            ],
            [
             0.7777777777777778,
             "#fb9f3a"
            ],
            [
             0.8888888888888888,
             "#fdca26"
            ],
            [
             1,
             "#f0f921"
            ]
           ]
          },
          "colorway": [
           "#636efa",
           "#EF553B",
           "#00cc96",
           "#ab63fa",
           "#FFA15A",
           "#19d3f3",
           "#FF6692",
           "#B6E880",
           "#FF97FF",
           "#FECB52"
          ],
          "font": {
           "color": "#2a3f5f"
          },
          "geo": {
           "bgcolor": "white",
           "lakecolor": "white",
           "landcolor": "#E5ECF6",
           "showlakes": true,
           "showland": true,
           "subunitcolor": "white"
          },
          "hoverlabel": {
           "align": "left"
          },
          "hovermode": "closest",
          "mapbox": {
           "style": "light"
          },
          "paper_bgcolor": "white",
          "plot_bgcolor": "#E5ECF6",
          "polar": {
           "angularaxis": {
            "gridcolor": "white",
            "linecolor": "white",
            "ticks": ""
           },
           "bgcolor": "#E5ECF6",
           "radialaxis": {
            "gridcolor": "white",
            "linecolor": "white",
            "ticks": ""
           }
          },
          "scene": {
           "xaxis": {
            "backgroundcolor": "#E5ECF6",
            "gridcolor": "white",
            "gridwidth": 2,
            "linecolor": "white",
            "showbackground": true,
            "ticks": "",
            "zerolinecolor": "white"
           },
           "yaxis": {
            "backgroundcolor": "#E5ECF6",
            "gridcolor": "white",
            "gridwidth": 2,
            "linecolor": "white",
            "showbackground": true,
            "ticks": "",
            "zerolinecolor": "white"
           },
           "zaxis": {
            "backgroundcolor": "#E5ECF6",
            "gridcolor": "white",
            "gridwidth": 2,
            "linecolor": "white",
            "showbackground": true,
            "ticks": "",
            "zerolinecolor": "white"
           }
          },
          "shapedefaults": {
           "line": {
            "color": "#2a3f5f"
           }
          },
          "ternary": {
           "aaxis": {
            "gridcolor": "white",
            "linecolor": "white",
            "ticks": ""
           },
           "baxis": {
            "gridcolor": "white",
            "linecolor": "white",
            "ticks": ""
           },
           "bgcolor": "#E5ECF6",
           "caxis": {
            "gridcolor": "white",
            "linecolor": "white",
            "ticks": ""
           }
          },
          "title": {
           "x": 0.05
          },
          "xaxis": {
           "automargin": true,
           "gridcolor": "white",
           "linecolor": "white",
           "ticks": "",
           "title": {
            "standoff": 15
           },
           "zerolinecolor": "white",
           "zerolinewidth": 2
          },
          "yaxis": {
           "automargin": true,
           "gridcolor": "white",
           "linecolor": "white",
           "ticks": "",
           "title": {
            "standoff": 15
           },
           "zerolinecolor": "white",
           "zerolinewidth": 2
          }
         }
        },
        "title": {
         "text": "Relação entre Churn e Gênero"
        },
        "xaxis": {
         "anchor": "y",
         "autorange": true,
         "domain": [
          0,
          1
         ],
         "range": [
          -0.5,
          1.5
         ],
         "title": {
          "text": "Churn"
         },
         "type": "category"
        },
        "yaxis": {
         "anchor": "x",
         "autorange": true,
         "domain": [
          0,
          1
         ],
         "range": [
          0,
          105.26315789473685
         ],
         "title": {
          "text": "Porcentagem"
         },
         "type": "linear"
        }
       }
      },
      "image/png": "[encoded data removed]",
      "text/html": [
       "<div>                            <div id=\"7f205476-9378-419a-8fbe-f0402529452f\" class=\"plotly-graph-div\" style=\"height:525px; width:100%;\"></div>            <script type=\"text/javascript\">                require([\"plotly\"], function(Plotly) {                    window.PLOTLYENV=window.PLOTLYENV || {};                                    if (document.getElementById(\"7f205476-9378-419a-8fbe-f0402529452f\")) {                    Plotly.newPlot(                        \"7f205476-9378-419a-8fbe-f0402529452f\",                        [{\"alignmentgroup\":\"True\",\"hovertemplate\":\"G\\u00eanero=Female\\u003cbr\\u003eChurn=%{x}\\u003cbr\\u003ePorcentagem=%{y}\\u003cextra\\u003e\\u003c\\u002fextra\\u003e\",\"legendgroup\":\"Female\",\"marker\":{\"color\":\"#636efa\",\"pattern\":{\"shape\":\"\"}},\"name\":\"Female\",\"offsetgroup\":\"Female\",\"orientation\":\"v\",\"showlegend\":true,\"textposition\":\"auto\",\"x\":[\"No\",\"Yes\"],\"xaxis\":\"x\",\"y\":[48.18033677349266,51.31375579598145],\"yaxis\":\"y\",\"type\":\"bar\"},{\"alignmentgroup\":\"True\",\"hovertemplate\":\"G\\u00eanero=Male\\u003cbr\\u003eChurn=%{x}\\u003cbr\\u003ePorcentagem=%{y}\\u003cextra\\u003e\\u003c\\u002fextra\\u003e\",\"legendgroup\":\"Male\",\"marker\":{\"color\":\"#EF553B\",\"pattern\":{\"shape\":\"\"}},\"name\":\"Male\",\"offsetgroup\":\"Male\",\"orientation\":\"v\",\"showlegend\":true,\"textposition\":\"auto\",\"x\":[\"No\",\"Yes\"],\"xaxis\":\"x\",\"y\":[51.81966322650733,48.68624420401855],\"yaxis\":\"y\",\"type\":\"bar\"}],                        {\"template\":{\"data\":{\"histogram2dcontour\":[{\"type\":\"histogram2dcontour\",\"colorbar\":{\"outlinewidth\":0,\"ticks\":\"\"},\"colorscale\":[[0.0,\"#0d0887\"],[0.1111111111111111,\"#46039f\"],[0.2222222222222222,\"#7201a8\"],[0.3333333333333333,\"#9c179e\"],[0.4444444444444444,\"#bd3786\"],[0.5555555555555556,\"#d8576b\"],[0.6666666666666666,\"#ed7953\"],[0.7777777777777778,\"#fb9f3a\"],[0.8888888888888888,\"#fdca26\"],[1.0,\"#f0f921\"]]}],\"choropleth\":[{\"type\":\"choropleth\",\"colorbar\":{\"outlinewidth\":0,\"ticks\":\"\"}}],\"histogram2d\":[{\"type\":\"histogram2d\",\"colorbar\":{\"outlinewidth\":0,\"ticks\":\"\"},\"colorscale\":[[0.0,\"#0d0887\"],[0.1111111111111111,\"#46039f\"],[0.2222222222222222,\"#7201a8\"],[0.3333333333333333,\"#9c179e\"],[0.4444444444444444,\"#bd3786\"],[0.5555555555555556,\"#d8576b\"],[0.6666666666666666,\"#ed7953\"],[0.7777777777777778,\"#fb9f3a\"],[0.8888888888888888,\"#fdca26\"],[1.0,\"#f0f921\"]]}],\"heatmap\":[{\"type\":\"heatmap\",\"colorbar\":{\"outlinewidth\":0,\"ticks\":\"\"},\"colorscale\":[[0.0,\"#0d0887\"],[0.1111111111111111,\"#46039f\"],[0.2222222222222222,\"#7201a8\"],[0.3333333333333333,\"#9c179e\"],[0.4444444444444444,\"#bd3786\"],[0.5555555555555556,\"#d8576b\"],[0.6666666666666666,\"#ed7953\"],[0.7777777777777778,\"#fb9f3a\"],[0.8888888888888888,\"#fdca26\"],[1.0,\"#f0f921\"]]}],\"heatmapgl\":[{\"type\":\"heatmapgl\",\"colorbar\":{\"outlinewidth\":0,\"ticks\":\"\"},\"colorscale\":[[0.0,\"#0d0887\"],[0.1111111111111111,\"#46039f\"],[0.2222222222222222,\"#7201a8\"],[0.3333333333333333,\"#9c179e\"],[0.4444444444444444,\"#bd3786\"],[0.5555555555555556,\"#d8576b\"],[0.6666666666666666,\"#ed7953\"],[0.7777777777777778,\"#fb9f3a\"],[0.8888888888888888,\"#fdca26\"],[1.0,\"#f0f921\"]]}],\"contourcarpet\":[{\"type\":\"contourcarpet\",\"colorbar\":{\"outlinewidth\":0,\"ticks\":\"\"}}],\"contour\":[{\"type\":\"contour\",\"colorbar\":{\"outlinewidth\":0,\"ticks\":\"\"},\"colorscale\":[[0.0,\"#0d0887\"],[0.1111111111111111,\"#46039f\"],[0.2222222222222222,\"#7201a8\"],[0.3333333333333333,\"#9c179e\"],[0.4444444444444444,\"#bd3786\"],[0.5555555555555556,\"#d8576b\"],[0.6666666666666666,\"#ed7953\"],[0.7777777777777778,\"#fb9f3a\"],[0.8888888888888888,\"#fdca26\"],[1.0,\"#f0f921\"]]}],\"surface\":[{\"type\":\"surface\",\"colorbar\":{\"outlinewidth\":0,\"ticks\":\"\"},\"colorscale\":[[0.0,\"#0d0887\"],[0.1111111111111111,\"#46039f\"],[0.2222222222222222,\"#7201a8\"],[0.3333333333333333,\"#9c179e\"],[0.4444444444444444,\"#bd3786\"],[0.5555555555555556,\"#d8576b\"],[0.6666666666666666,\"#ed7953\"],[0.7777777777777778,\"#fb9f3a\"],[0.8888888888888888,\"#fdca26\"],[1.0,\"#f0f921\"]]}],\"mesh3d\":[{\"type\":\"mesh3d\",\"colorbar\":{\"outlinewidth\":0,\"ticks\":\"\"}}],\"scatter\":[{\"fillpattern\":{\"fillmode\":\"overlay\",\"size\":10,\"solidity\":0.2},\"type\":\"scatter\"}],\"parcoords\":[{\"type\":\"parcoords\",\"line\":{\"colorbar\":{\"outlinewidth\":0,\"ticks\":\"\"}}}],\"scatterpolargl\":[{\"type\":\"scatterpolargl\",\"marker\":{\"colorbar\":{\"outlinewidth\":0,\"ticks\":\"\"}}}],\"bar\":[{\"error_x\":{\"color\":\"#2a3f5f\"},\"error_y\":{\"color\":\"#2a3f5f\"},\"marker\":{\"line\":{\"color\":\"#E5ECF6\",\"width\":0.5},\"pattern\":{\"fillmode\":\"overlay\",\"size\":10,\"solidity\":0.2}},\"type\":\"bar\"}],\"scattergeo\":[{\"type\":\"scattergeo\",\"marker\":{\"colorbar\":{\"outlinewidth\":0,\"ticks\":\"\"}}}],\"scatterpolar\":[{\"type\":\"scatterpolar\",\"marker\":{\"colorbar\":{\"outlinewidth\":0,\"ticks\":\"\"}}}],\"histogram\":[{\"marker\":{\"pattern\":{\"fillmode\":\"overlay\",\"size\":10,\"solidity\":0.2}},\"type\":\"histogram\"}],\"scattergl\":[{\"type\":\"scattergl\",\"marker\":{\"colorbar\":{\"outlinewidth\":0,\"ticks\":\"\"}}}],\"scatter3d\":[{\"type\":\"scatter3d\",\"line\":{\"colorbar\":{\"outlinewidth\":0,\"ticks\":\"\"}},\"marker\":{\"colorbar\":{\"outlinewidth\":0,\"ticks\":\"\"}}}],\"scattermapbox\":[{\"type\":\"scattermapbox\",\"marker\":{\"colorbar\":{\"outlinewidth\":0,\"ticks\":\"\"}}}],\"scatterternary\":[{\"type\":\"scatterternary\",\"marker\":{\"colorbar\":{\"outlinewidth\":0,\"ticks\":\"\"}}}],\"scattercarpet\":[{\"type\":\"scattercarpet\",\"marker\":{\"colorbar\":{\"outlinewidth\":0,\"ticks\":\"\"}}}],\"carpet\":[{\"aaxis\":{\"endlinecolor\":\"#2a3f5f\",\"gridcolor\":\"white\",\"linecolor\":\"white\",\"minorgridcolor\":\"white\",\"startlinecolor\":\"#2a3f5f\"},\"baxis\":{\"endlinecolor\":\"#2a3f5f\",\"gridcolor\":\"white\",\"linecolor\":\"white\",\"minorgridcolor\":\"white\",\"startlinecolor\":\"#2a3f5f\"},\"type\":\"carpet\"}],\"table\":[{\"cells\":{\"fill\":{\"color\":\"#EBF0F8\"},\"line\":{\"color\":\"white\"}},\"header\":{\"fill\":{\"color\":\"#C8D4E3\"},\"line\":{\"color\":\"white\"}},\"type\":\"table\"}],\"barpolar\":[{\"marker\":{\"line\":{\"color\":\"#E5ECF6\",\"width\":0.5},\"pattern\":{\"fillmode\":\"overlay\",\"size\":10,\"solidity\":0.2}},\"type\":\"barpolar\"}],\"pie\":[{\"automargin\":true,\"type\":\"pie\"}]},\"layout\":{\"autotypenumbers\":\"strict\",\"colorway\":[\"#636efa\",\"#EF553B\",\"#00cc96\",\"#ab63fa\",\"#FFA15A\",\"#19d3f3\",\"#FF6692\",\"#B6E880\",\"#FF97FF\",\"#FECB52\"],\"font\":{\"color\":\"#2a3f5f\"},\"hovermode\":\"closest\",\"hoverlabel\":{\"align\":\"left\"},\"paper_bgcolor\":\"white\",\"plot_bgcolor\":\"#E5ECF6\",\"polar\":{\"bgcolor\":\"#E5ECF6\",\"angularaxis\":{\"gridcolor\":\"white\",\"linecolor\":\"white\",\"ticks\":\"\"},\"radialaxis\":{\"gridcolor\":\"white\",\"linecolor\":\"white\",\"ticks\":\"\"}},\"ternary\":{\"bgcolor\":\"#E5ECF6\",\"aaxis\":{\"gridcolor\":\"white\",\"linecolor\":\"white\",\"ticks\":\"\"},\"baxis\":{\"gridcolor\":\"white\",\"linecolor\":\"white\",\"ticks\":\"\"},\"caxis\":{\"gridcolor\":\"white\",\"linecolor\":\"white\",\"ticks\":\"\"}},\"coloraxis\":{\"colorbar\":{\"outlinewidth\":0,\"ticks\":\"\"}},\"colorscale\":{\"sequential\":[[0.0,\"#0d0887\"],[0.1111111111111111,\"#46039f\"],[0.2222222222222222,\"#7201a8\"],[0.3333333333333333,\"#9c179e\"],[0.4444444444444444,\"#bd3786\"],[0.5555555555555556,\"#d8576b\"],[0.6666666666666666,\"#ed7953\"],[0.7777777777777778,\"#fb9f3a\"],[0.8888888888888888,\"#fdca26\"],[1.0,\"#f0f921\"]],\"sequentialminus\":[[0.0,\"#0d0887\"],[0.1111111111111111,\"#46039f\"],[0.2222222222222222,\"#7201a8\"],[0.3333333333333333,\"#9c179e\"],[0.4444444444444444,\"#bd3786\"],[0.5555555555555556,\"#d8576b\"],[0.6666666666666666,\"#ed7953\"],[0.7777777777777778,\"#fb9f3a\"],[0.8888888888888888,\"#fdca26\"],[1.0,\"#f0f921\"]],\"diverging\":[[0,\"#8e0152\"],[0.1,\"#c51b7d\"],[0.2,\"#de77ae\"],[0.3,\"#f1b6da\"],[0.4,\"#fde0ef\"],[0.5,\"#f7f7f7\"],[0.6,\"#e6f5d0\"],[0.7,\"#b8e186\"],[0.8,\"#7fbc41\"],[0.9,\"#4d9221\"],[1,\"#276419\"]]},\"xaxis\":{\"gridcolor\":\"white\",\"linecolor\":\"white\",\"ticks\":\"\",\"title\":{\"standoff\":15},\"zerolinecolor\":\"white\",\"automargin\":true,\"zerolinewidth\":2},\"yaxis\":{\"gridcolor\":\"white\",\"linecolor\":\"white\",\"ticks\":\"\",\"title\":{\"standoff\":15},\"zerolinecolor\":\"white\",\"automargin\":true,\"zerolinewidth\":2},\"scene\":{\"xaxis\":{\"backgroundcolor\":\"#E5ECF6\",\"gridcolor\":\"white\",\"linecolor\":\"white\",\"showbackground\":true,\"ticks\":\"\",\"zerolinecolor\":\"white\",\"gridwidth\":2},\"yaxis\":{\"backgroundcolor\":\"#E5ECF6\",\"gridcolor\":\"white\",\"linecolor\":\"white\",\"showbackground\":true,\"ticks\":\"\",\"zerolinecolor\":\"white\",\"gridwidth\":2},\"zaxis\":{\"backgroundcolor\":\"#E5ECF6\",\"gridcolor\":\"white\",\"linecolor\":\"white\",\"showbackground\":true,\"ticks\":\"\",\"zerolinecolor\":\"white\",\"gridwidth\":2}},\"shapedefaults\":{\"line\":{\"color\":\"#2a3f5f\"}},\"annotationdefaults\":{\"arrowcolor\":\"#2a3f5f\",\"arrowhead\":0,\"arrowwidth\":1},\"geo\":{\"bgcolor\":\"white\",\"landcolor\":\"#E5ECF6\",\"subunitcolor\":\"white\",\"showland\":true,\"showlakes\":true,\"lakecolor\":\"white\"},\"title\":{\"x\":0.05},\"mapbox\":{\"style\":\"light\"}}},\"xaxis\":{\"anchor\":\"y\",\"domain\":[0.0,1.0],\"title\":{\"text\":\"Churn\"}},\"yaxis\":{\"anchor\":\"x\",\"domain\":[0.0,1.0],\"title\":{\"text\":\"Porcentagem\"}},\"legend\":{\"title\":{\"text\":\"G\\u00eanero\"},\"tracegroupgap\":0},\"margin\":{\"t\":60},\"barmode\":\"stack\",\"title\":{\"text\":\"Rela\\u00e7\\u00e3o entre Churn e G\\u00eanero\"}},                        {\"responsive\": true}                    ).then(function(){\n",
       "                            \n",
       "var gd = document.getElementById('7f205476-9378-419a-8fbe-f0402529452f');\n",
       "var x = new MutationObserver(function (mutations, observer) {{\n",
       "        var display = window.getComputedStyle(gd).display;\n",
       "        if (!display || display === 'none') {{\n",
       "            console.log([gd, 'removed!']);\n",
       "            Plotly.purge(gd);\n",
       "            observer.disconnect();\n",
       "        }}\n",
       "}});\n",
       "\n",
       "// Listen for the removal of the full notebook cells\n",
       "var notebookContainer = gd.closest('#notebook-container');\n",
       "if (notebookContainer) {{\n",
       "    x.observe(notebookContainer, {childList: true});\n",
       "}}\n",
       "\n",
       "// Listen for the clearing of the current output cell\n",
       "var outputEl = gd.closest('.output');\n",
       "if (outputEl) {{\n",
       "    x.observe(outputEl, {childList: true});\n",
       "}}\n",
       "\n",
       "                        })                };                });            </script>        </div>"
      ]
     },
     "metadata": {},
     "output_type": "display_data"
    }
   ],
   "source": [
    "df_grouped = df.groupby(['Churn', 'Genero']).size().reset_index(name='count')\n",
    "total_por_churn = df_grouped.groupby('Churn')['count'].transform('sum')\n",
    "df_grouped['percent'] = (df_grouped['count'] / total_por_churn) * 100\n",
    "\n",
    "\n",
    "fig = px.bar(df_grouped, x='Churn', y='percent', color='Genero', barmode='stack',\n",
    "             labels={'Churn': 'Churn', 'percent': 'Porcentagem', 'Genero': 'Gênero'})\n",
    "\n",
    "fig.update_layout(title='Relação entre Churn e Gênero',\n",
    "                  yaxis_title='Porcentagem',\n",
    "                  legend_title='Gênero')\n",
    "fig.show()"
   ]
  },
  {
   "cell_type": "code",
   "execution_count": 177,
   "metadata": {},
   "outputs": [
    {
     "data": {
      "application/vnd.plotly.v1+json": {
       "config": {
        "plotlyServerURL": "https://plot.ly"
       },
       "data": [
        {
         "alignmentgroup": "True",
         "hovertemplate": "Dependentes=No<br>Churn=%{x}<br>Porcentagem=%{y}<extra></extra>",
         "legendgroup": "No",
         "marker": {
          "color": "#636efa",
          "pattern": {
           "shape": ""
          }
         },
         "name": "No",
         "offsetgroup": "No",
         "orientation": "v",
         "showlegend": true,
         "textposition": "auto",
         "type": "bar",
         "x": [
          "No",
          "Yes"
         ],
         "xaxis": "x",
         "y": [
          63.76969038565997,
          82.07109737248841
         ],
         "yaxis": "y"
        },
        {
         "alignmentgroup": "True",
         "hovertemplate": "Dependentes=Yes<br>Churn=%{x}<br>Porcentagem=%{y}<extra></extra>",
         "legendgroup": "Yes",
         "marker": {
          "color": "#EF553B",
          "pattern": {
           "shape": ""
          }
         },
         "name": "Yes",
         "offsetgroup": "Yes",
         "orientation": "v",
         "showlegend": true,
         "textposition": "auto",
         "type": "bar",
         "x": [
          "No",
          "Yes"
         ],
         "xaxis": "x",
         "y": [
          36.23030961434004,
          17.928902627511594
         ],
         "yaxis": "y"
        }
       ],
       "layout": {
        "autosize": true,
        "barmode": "stack",
        "legend": {
         "title": {
          "text": "Dependentes"
         },
         "tracegroupgap": 0
        },
        "margin": {
         "t": 60
        },
        "template": {
         "data": {
          "bar": [
           {
            "error_x": {
             "color": "#2a3f5f"
            },
            "error_y": {
             "color": "#2a3f5f"
            },
            "marker": {
             "line": {
              "color": "#E5ECF6",
              "width": 0.5
             },
             "pattern": {
              "fillmode": "overlay",
              "size": 10,
              "solidity": 0.2
             }
            },
            "type": "bar"
           }
          ],
          "barpolar": [
           {
            "marker": {
             "line": {
              "color": "#E5ECF6",
              "width": 0.5
             },
             "pattern": {
              "fillmode": "overlay",
              "size": 10,
              "solidity": 0.2
             }
            },
            "type": "barpolar"
           }
          ],
          "carpet": [
           {
            "aaxis": {
             "endlinecolor": "#2a3f5f",
             "gridcolor": "white",
             "linecolor": "white",
             "minorgridcolor": "white",
             "startlinecolor": "#2a3f5f"
            },
            "baxis": {
             "endlinecolor": "#2a3f5f",
             "gridcolor": "white",
             "linecolor": "white",
             "minorgridcolor": "white",
             "startlinecolor": "#2a3f5f"
            },
            "type": "carpet"
           }
          ],
          "choropleth": [
           {
            "colorbar": {
             "outlinewidth": 0,
             "ticks": ""
            },
            "type": "choropleth"
           }
          ],
          "contour": [
           {
            "colorbar": {
             "outlinewidth": 0,
             "ticks": ""
            },
            "colorscale": [
             [
              0,
              "#0d0887"
             ],
             [
              0.1111111111111111,
              "#46039f"
             ],
             [
              0.2222222222222222,
              "#7201a8"
             ],
             [
              0.3333333333333333,
              "#9c179e"
             ],
             [
              0.4444444444444444,
              "#bd3786"
             ],
             [
              0.5555555555555556,
              "#d8576b"
             ],
             [
              0.6666666666666666,
              "#ed7953"
             ],
             [
              0.7777777777777778,
              "#fb9f3a"
             ],
             [
              0.8888888888888888,
              "#fdca26"
             ],
             [
              1,
              "#f0f921"
             ]
            ],
            "type": "contour"
           }
          ],
          "contourcarpet": [
           {
            "colorbar": {
             "outlinewidth": 0,
             "ticks": ""
            },
            "type": "contourcarpet"
           }
          ],
          "heatmap": [
           {
            "colorbar": {
             "outlinewidth": 0,
             "ticks": ""
            },
            "colorscale": [
             [
              0,
              "#0d0887"
             ],
             [
              0.1111111111111111,
              "#46039f"
             ],
             [
              0.2222222222222222,
              "#7201a8"
             ],
             [
              0.3333333333333333,
              "#9c179e"
             ],
             [
              0.4444444444444444,
              "#bd3786"
             ],
             [
              0.5555555555555556,
              "#d8576b"
             ],
             [
              0.6666666666666666,
              "#ed7953"
             ],
             [
              0.7777777777777778,
              "#fb9f3a"
             ],
             [
              0.8888888888888888,
              "#fdca26"
             ],
             [
              1,
              "#f0f921"
             ]
            ],
            "type": "heatmap"
           }
          ],
          "heatmapgl": [
           {
            "colorbar": {
             "outlinewidth": 0,
             "ticks": ""
            },
            "colorscale": [
             [
              0,
              "#0d0887"
             ],
             [
              0.1111111111111111,
              "#46039f"
             ],
             [
              0.2222222222222222,
              "#7201a8"
             ],
             [
              0.3333333333333333,
              "#9c179e"
             ],
             [
              0.4444444444444444,
              "#bd3786"
             ],
             [
              0.5555555555555556,
              "#d8576b"
             ],
             [
              0.6666666666666666,
              "#ed7953"
             ],
             [
              0.7777777777777778,
              "#fb9f3a"
             ],
             [
              0.8888888888888888,
              "#fdca26"
             ],
             [
              1,
              "#f0f921"
             ]
            ],
            "type": "heatmapgl"
           }
          ],
          "histogram": [
           {
            "marker": {
             "pattern": {
              "fillmode": "overlay",
              "size": 10,
              "solidity": 0.2
             }
            },
            "type": "histogram"
           }
          ],
          "histogram2d": [
           {
            "colorbar": {
             "outlinewidth": 0,
             "ticks": ""
            },
            "colorscale": [
             [
              0,
              "#0d0887"
             ],
             [
              0.1111111111111111,
              "#46039f"
             ],
             [
              0.2222222222222222,
              "#7201a8"
             ],
             [
              0.3333333333333333,
              "#9c179e"
             ],
             [
              0.4444444444444444,
              "#bd3786"
             ],
             [
              0.5555555555555556,
              "#d8576b"
             ],
             [
              0.6666666666666666,
              "#ed7953"
             ],
             [
              0.7777777777777778,
              "#fb9f3a"
             ],
             [
              0.8888888888888888,
              "#fdca26"
             ],
             [
              1,
              "#f0f921"
             ]
            ],
            "type": "histogram2d"
           }
          ],
          "histogram2dcontour": [
           {
            "colorbar": {
             "outlinewidth": 0,
             "ticks": ""
            },
            "colorscale": [
             [
              0,
              "#0d0887"
             ],
             [
              0.1111111111111111,
              "#46039f"
             ],
             [
              0.2222222222222222,
              "#7201a8"
             ],
             [
              0.3333333333333333,
              "#9c179e"
             ],
             [
              0.4444444444444444,
              "#bd3786"
             ],
             [
              0.5555555555555556,
              "#d8576b"
             ],
             [
              0.6666666666666666,
              "#ed7953"
             ],
             [
              0.7777777777777778,
              "#fb9f3a"
             ],
             [
              0.8888888888888888,
              "#fdca26"
             ],
             [
              1,
              "#f0f921"
             ]
            ],
            "type": "histogram2dcontour"
           }
          ],
          "mesh3d": [
           {
            "colorbar": {
             "outlinewidth": 0,
             "ticks": ""
            },
            "type": "mesh3d"
           }
          ],
          "parcoords": [
           {
            "line": {
             "colorbar": {
              "outlinewidth": 0,
              "ticks": ""
             }
            },
            "type": "parcoords"
           }
          ],
          "pie": [
           {
            "automargin": true,
            "type": "pie"
           }
          ],
          "scatter": [
           {
            "fillpattern": {
             "fillmode": "overlay",
             "size": 10,
             "solidity": 0.2
            },
            "type": "scatter"
           }
          ],
          "scatter3d": [
           {
            "line": {
             "colorbar": {
              "outlinewidth": 0,
              "ticks": ""
             }
            },
            "marker": {
             "colorbar": {
              "outlinewidth": 0,
              "ticks": ""
             }
            },
            "type": "scatter3d"
           }
          ],
          "scattercarpet": [
           {
            "marker": {
             "colorbar": {
              "outlinewidth": 0,
              "ticks": ""
             }
            },
            "type": "scattercarpet"
           }
          ],
          "scattergeo": [
           {
            "marker": {
             "colorbar": {
              "outlinewidth": 0,
              "ticks": ""
             }
            },
            "type": "scattergeo"
           }
          ],
          "scattergl": [
           {
            "marker": {
             "colorbar": {
              "outlinewidth": 0,
              "ticks": ""
             }
            },
            "type": "scattergl"
           }
          ],
          "scattermapbox": [
           {
            "marker": {
             "colorbar": {
              "outlinewidth": 0,
              "ticks": ""
             }
            },
            "type": "scattermapbox"
           }
          ],
          "scatterpolar": [
           {
            "marker": {
             "colorbar": {
              "outlinewidth": 0,
              "ticks": ""
             }
            },
            "type": "scatterpolar"
           }
          ],
          "scatterpolargl": [
           {
            "marker": {
             "colorbar": {
              "outlinewidth": 0,
              "ticks": ""
             }
            },
            "type": "scatterpolargl"
           }
          ],
          "scatterternary": [
           {
            "marker": {
             "colorbar": {
              "outlinewidth": 0,
              "ticks": ""
             }
            },
            "type": "scatterternary"
           }
          ],
          "surface": [
           {
            "colorbar": {
             "outlinewidth": 0,
             "ticks": ""
            },
            "colorscale": [
             [
              0,
              "#0d0887"
             ],
             [
              0.1111111111111111,
              "#46039f"
             ],
             [
              0.2222222222222222,
              "#7201a8"
             ],
             [
              0.3333333333333333,
              "#9c179e"
             ],
             [
              0.4444444444444444,
              "#bd3786"
             ],
             [
              0.5555555555555556,
              "#d8576b"
             ],
             [
              0.6666666666666666,
              "#ed7953"
             ],
             [
              0.7777777777777778,
              "#fb9f3a"
             ],
             [
              0.8888888888888888,
              "#fdca26"
             ],
             [
              1,
              "#f0f921"
             ]
            ],
            "type": "surface"
           }
          ],
          "table": [
           {
            "cells": {
             "fill": {
              "color": "#EBF0F8"
             },
             "line": {
              "color": "white"
             }
            },
            "header": {
             "fill": {
              "color": "#C8D4E3"
             },
             "line": {
              "color": "white"
             }
            },
            "type": "table"
           }
          ]
         },
         "layout": {
          "annotationdefaults": {
           "arrowcolor": "#2a3f5f",
           "arrowhead": 0,
           "arrowwidth": 1
          },
          "autotypenumbers": "strict",
          "coloraxis": {
           "colorbar": {
            "outlinewidth": 0,
            "ticks": ""
           }
          },
          "colorscale": {
           "diverging": [
            [
             0,
             "#8e0152"
            ],
            [
             0.1,
             "#c51b7d"
            ],
            [
             0.2,
             "#de77ae"
            ],
            [
             0.3,
             "#f1b6da"
            ],
            [
             0.4,
             "#fde0ef"
            ],
            [
             0.5,
             "#f7f7f7"
            ],
            [
             0.6,
             "#e6f5d0"
            ],
            [
             0.7,
             "#b8e186"
            ],
            [
             0.8,
             "#7fbc41"
            ],
            [
             0.9,
             "#4d9221"
            ],
            [
             1,
             "#276419"
            ]
           ],
           "sequential": [
            [
             0,
             "#0d0887"
            ],
            [
             0.1111111111111111,
             "#46039f"
            ],
            [
             0.2222222222222222,
             "#7201a8"
            ],
            [
             0.3333333333333333,
             "#9c179e"
            ],
            [
             0.4444444444444444,
             "#bd3786"
            ],
            [
             0.5555555555555556,
             "#d8576b"
            ],
            [
             0.6666666666666666,
             "#ed7953"
            ],
            [
             0.7777777777777778,
             "#fb9f3a"
            ],
            [
             0.8888888888888888,
             "#fdca26"
            ],
            [
             1,
             "#f0f921"
            ]
           ],
           "sequentialminus": [
            [
             0,
             "#0d0887"
            ],
            [
             0.1111111111111111,
             "#46039f"
            ],
            [
             0.2222222222222222,
             "#7201a8"
            ],
            [
             0.3333333333333333,
             "#9c179e"
            ],
            [
             0.4444444444444444,
             "#bd3786"
            ],
            [
             0.5555555555555556,
             "#d8576b"
            ],
            [
             0.6666666666666666,
             "#ed7953"
            ],
            [
             0.7777777777777778,
             "#fb9f3a"
            ],
            [
             0.8888888888888888,
             "#fdca26"
            ],
            [
             1,
             "#f0f921"
            ]
           ]
          },
          "colorway": [
           "#636efa",
           "#EF553B",
           "#00cc96",
           "#ab63fa",
           "#FFA15A",
           "#19d3f3",
           "#FF6692",
           "#B6E880",
           "#FF97FF",
           "#FECB52"
          ],
          "font": {
           "color": "#2a3f5f"
          },
          "geo": {
           "bgcolor": "white",
           "lakecolor": "white",
           "landcolor": "#E5ECF6",
           "showlakes": true,
           "showland": true,
           "subunitcolor": "white"
          },
          "hoverlabel": {
           "align": "left"
          },
          "hovermode": "closest",
          "mapbox": {
           "style": "light"
          },
          "paper_bgcolor": "white",
          "plot_bgcolor": "#E5ECF6",
          "polar": {
           "angularaxis": {
            "gridcolor": "white",
            "linecolor": "white",
            "ticks": ""
           },
           "bgcolor": "#E5ECF6",
           "radialaxis": {
            "gridcolor": "white",
            "linecolor": "white",
            "ticks": ""
           }
          },
          "scene": {
           "xaxis": {
            "backgroundcolor": "#E5ECF6",
            "gridcolor": "white",
            "gridwidth": 2,
            "linecolor": "white",
            "showbackground": true,
            "ticks": "",
            "zerolinecolor": "white"
           },
           "yaxis": {
            "backgroundcolor": "#E5ECF6",
            "gridcolor": "white",
            "gridwidth": 2,
            "linecolor": "white",
            "showbackground": true,
            "ticks": "",
            "zerolinecolor": "white"
           },
           "zaxis": {
            "backgroundcolor": "#E5ECF6",
            "gridcolor": "white",
            "gridwidth": 2,
            "linecolor": "white",
            "showbackground": true,
            "ticks": "",
            "zerolinecolor": "white"
           }
          },
          "shapedefaults": {
           "line": {
            "color": "#2a3f5f"
           }
          },
          "ternary": {
           "aaxis": {
            "gridcolor": "white",
            "linecolor": "white",
            "ticks": ""
           },
           "baxis": {
            "gridcolor": "white",
            "linecolor": "white",
            "ticks": ""
           },
           "bgcolor": "#E5ECF6",
           "caxis": {
            "gridcolor": "white",
            "linecolor": "white",
            "ticks": ""
           }
          },
          "title": {
           "x": 0.05
          },
          "xaxis": {
           "automargin": true,
           "gridcolor": "white",
           "linecolor": "white",
           "ticks": "",
           "title": {
            "standoff": 15
           },
           "zerolinecolor": "white",
           "zerolinewidth": 2
          },
          "yaxis": {
           "automargin": true,
           "gridcolor": "white",
           "linecolor": "white",
           "ticks": "",
           "title": {
            "standoff": 15
           },
           "zerolinecolor": "white",
           "zerolinewidth": 2
          }
         }
        },
        "title": {
         "text": "Relação entre Churn e Dependentes"
        },
        "xaxis": {
         "anchor": "y",
         "autorange": true,
         "domain": [
          0,
          1
         ],
         "range": [
          -0.5,
          1.5
         ],
         "title": {
          "text": "Churn"
         },
         "type": "category"
        },
        "yaxis": {
         "anchor": "x",
         "autorange": true,
         "domain": [
          0,
          1
         ],
         "range": [
          0,
          105.26315789473685
         ],
         "title": {
          "text": "Porcentagem"
         },
         "type": "linear"
        }
       }
      },
      "image/png": "[encoded data removed]",
      "text/html": [
       "<div>                            <div id=\"d99d7766-edbb-4973-87f1-53be9acc28a3\" class=\"plotly-graph-div\" style=\"height:525px; width:100%;\"></div>            <script type=\"text/javascript\">                require([\"plotly\"], function(Plotly) {                    window.PLOTLYENV=window.PLOTLYENV || {};                                    if (document.getElementById(\"d99d7766-edbb-4973-87f1-53be9acc28a3\")) {                    Plotly.newPlot(                        \"d99d7766-edbb-4973-87f1-53be9acc28a3\",                        [{\"alignmentgroup\":\"True\",\"hovertemplate\":\"Dependentes=No\\u003cbr\\u003eChurn=%{x}\\u003cbr\\u003ePorcentagem=%{y}\\u003cextra\\u003e\\u003c\\u002fextra\\u003e\",\"legendgroup\":\"No\",\"marker\":{\"color\":\"#636efa\",\"pattern\":{\"shape\":\"\"}},\"name\":\"No\",\"offsetgroup\":\"No\",\"orientation\":\"v\",\"showlegend\":true,\"textposition\":\"auto\",\"x\":[\"No\",\"Yes\"],\"xaxis\":\"x\",\"y\":[63.76969038565997,82.07109737248841],\"yaxis\":\"y\",\"type\":\"bar\"},{\"alignmentgroup\":\"True\",\"hovertemplate\":\"Dependentes=Yes\\u003cbr\\u003eChurn=%{x}\\u003cbr\\u003ePorcentagem=%{y}\\u003cextra\\u003e\\u003c\\u002fextra\\u003e\",\"legendgroup\":\"Yes\",\"marker\":{\"color\":\"#EF553B\",\"pattern\":{\"shape\":\"\"}},\"name\":\"Yes\",\"offsetgroup\":\"Yes\",\"orientation\":\"v\",\"showlegend\":true,\"textposition\":\"auto\",\"x\":[\"No\",\"Yes\"],\"xaxis\":\"x\",\"y\":[36.23030961434004,17.928902627511594],\"yaxis\":\"y\",\"type\":\"bar\"}],                        {\"template\":{\"data\":{\"histogram2dcontour\":[{\"type\":\"histogram2dcontour\",\"colorbar\":{\"outlinewidth\":0,\"ticks\":\"\"},\"colorscale\":[[0.0,\"#0d0887\"],[0.1111111111111111,\"#46039f\"],[0.2222222222222222,\"#7201a8\"],[0.3333333333333333,\"#9c179e\"],[0.4444444444444444,\"#bd3786\"],[0.5555555555555556,\"#d8576b\"],[0.6666666666666666,\"#ed7953\"],[0.7777777777777778,\"#fb9f3a\"],[0.8888888888888888,\"#fdca26\"],[1.0,\"#f0f921\"]]}],\"choropleth\":[{\"type\":\"choropleth\",\"colorbar\":{\"outlinewidth\":0,\"ticks\":\"\"}}],\"histogram2d\":[{\"type\":\"histogram2d\",\"colorbar\":{\"outlinewidth\":0,\"ticks\":\"\"},\"colorscale\":[[0.0,\"#0d0887\"],[0.1111111111111111,\"#46039f\"],[0.2222222222222222,\"#7201a8\"],[0.3333333333333333,\"#9c179e\"],[0.4444444444444444,\"#bd3786\"],[0.5555555555555556,\"#d8576b\"],[0.6666666666666666,\"#ed7953\"],[0.7777777777777778,\"#fb9f3a\"],[0.8888888888888888,\"#fdca26\"],[1.0,\"#f0f921\"]]}],\"heatmap\":[{\"type\":\"heatmap\",\"colorbar\":{\"outlinewidth\":0,\"ticks\":\"\"},\"colorscale\":[[0.0,\"#0d0887\"],[0.1111111111111111,\"#46039f\"],[0.2222222222222222,\"#7201a8\"],[0.3333333333333333,\"#9c179e\"],[0.4444444444444444,\"#bd3786\"],[0.5555555555555556,\"#d8576b\"],[0.6666666666666666,\"#ed7953\"],[0.7777777777777778,\"#fb9f3a\"],[0.8888888888888888,\"#fdca26\"],[1.0,\"#f0f921\"]]}],\"heatmapgl\":[{\"type\":\"heatmapgl\",\"colorbar\":{\"outlinewidth\":0,\"ticks\":\"\"},\"colorscale\":[[0.0,\"#0d0887\"],[0.1111111111111111,\"#46039f\"],[0.2222222222222222,\"#7201a8\"],[0.3333333333333333,\"#9c179e\"],[0.4444444444444444,\"#bd3786\"],[0.5555555555555556,\"#d8576b\"],[0.6666666666666666,\"#ed7953\"],[0.7777777777777778,\"#fb9f3a\"],[0.8888888888888888,\"#fdca26\"],[1.0,\"#f0f921\"]]}],\"contourcarpet\":[{\"type\":\"contourcarpet\",\"colorbar\":{\"outlinewidth\":0,\"ticks\":\"\"}}],\"contour\":[{\"type\":\"contour\",\"colorbar\":{\"outlinewidth\":0,\"ticks\":\"\"},\"colorscale\":[[0.0,\"#0d0887\"],[0.1111111111111111,\"#46039f\"],[0.2222222222222222,\"#7201a8\"],[0.3333333333333333,\"#9c179e\"],[0.4444444444444444,\"#bd3786\"],[0.5555555555555556,\"#d8576b\"],[0.6666666666666666,\"#ed7953\"],[0.7777777777777778,\"#fb9f3a\"],[0.8888888888888888,\"#fdca26\"],[1.0,\"#f0f921\"]]}],\"surface\":[{\"type\":\"surface\",\"colorbar\":{\"outlinewidth\":0,\"ticks\":\"\"},\"colorscale\":[[0.0,\"#0d0887\"],[0.1111111111111111,\"#46039f\"],[0.2222222222222222,\"#7201a8\"],[0.3333333333333333,\"#9c179e\"],[0.4444444444444444,\"#bd3786\"],[0.5555555555555556,\"#d8576b\"],[0.6666666666666666,\"#ed7953\"],[0.7777777777777778,\"#fb9f3a\"],[0.8888888888888888,\"#fdca26\"],[1.0,\"#f0f921\"]]}],\"mesh3d\":[{\"type\":\"mesh3d\",\"colorbar\":{\"outlinewidth\":0,\"ticks\":\"\"}}],\"scatter\":[{\"fillpattern\":{\"fillmode\":\"overlay\",\"size\":10,\"solidity\":0.2},\"type\":\"scatter\"}],\"parcoords\":[{\"type\":\"parcoords\",\"line\":{\"colorbar\":{\"outlinewidth\":0,\"ticks\":\"\"}}}],\"scatterpolargl\":[{\"type\":\"scatterpolargl\",\"marker\":{\"colorbar\":{\"outlinewidth\":0,\"ticks\":\"\"}}}],\"bar\":[{\"error_x\":{\"color\":\"#2a3f5f\"},\"error_y\":{\"color\":\"#2a3f5f\"},\"marker\":{\"line\":{\"color\":\"#E5ECF6\",\"width\":0.5},\"pattern\":{\"fillmode\":\"overlay\",\"size\":10,\"solidity\":0.2}},\"type\":\"bar\"}],\"scattergeo\":[{\"type\":\"scattergeo\",\"marker\":{\"colorbar\":{\"outlinewidth\":0,\"ticks\":\"\"}}}],\"scatterpolar\":[{\"type\":\"scatterpolar\",\"marker\":{\"colorbar\":{\"outlinewidth\":0,\"ticks\":\"\"}}}],\"histogram\":[{\"marker\":{\"pattern\":{\"fillmode\":\"overlay\",\"size\":10,\"solidity\":0.2}},\"type\":\"histogram\"}],\"scattergl\":[{\"type\":\"scattergl\",\"marker\":{\"colorbar\":{\"outlinewidth\":0,\"ticks\":\"\"}}}],\"scatter3d\":[{\"type\":\"scatter3d\",\"line\":{\"colorbar\":{\"outlinewidth\":0,\"ticks\":\"\"}},\"marker\":{\"colorbar\":{\"outlinewidth\":0,\"ticks\":\"\"}}}],\"scattermapbox\":[{\"type\":\"scattermapbox\",\"marker\":{\"colorbar\":{\"outlinewidth\":0,\"ticks\":\"\"}}}],\"scatterternary\":[{\"type\":\"scatterternary\",\"marker\":{\"colorbar\":{\"outlinewidth\":0,\"ticks\":\"\"}}}],\"scattercarpet\":[{\"type\":\"scattercarpet\",\"marker\":{\"colorbar\":{\"outlinewidth\":0,\"ticks\":\"\"}}}],\"carpet\":[{\"aaxis\":{\"endlinecolor\":\"#2a3f5f\",\"gridcolor\":\"white\",\"linecolor\":\"white\",\"minorgridcolor\":\"white\",\"startlinecolor\":\"#2a3f5f\"},\"baxis\":{\"endlinecolor\":\"#2a3f5f\",\"gridcolor\":\"white\",\"linecolor\":\"white\",\"minorgridcolor\":\"white\",\"startlinecolor\":\"#2a3f5f\"},\"type\":\"carpet\"}],\"table\":[{\"cells\":{\"fill\":{\"color\":\"#EBF0F8\"},\"line\":{\"color\":\"white\"}},\"header\":{\"fill\":{\"color\":\"#C8D4E3\"},\"line\":{\"color\":\"white\"}},\"type\":\"table\"}],\"barpolar\":[{\"marker\":{\"line\":{\"color\":\"#E5ECF6\",\"width\":0.5},\"pattern\":{\"fillmode\":\"overlay\",\"size\":10,\"solidity\":0.2}},\"type\":\"barpolar\"}],\"pie\":[{\"automargin\":true,\"type\":\"pie\"}]},\"layout\":{\"autotypenumbers\":\"strict\",\"colorway\":[\"#636efa\",\"#EF553B\",\"#00cc96\",\"#ab63fa\",\"#FFA15A\",\"#19d3f3\",\"#FF6692\",\"#B6E880\",\"#FF97FF\",\"#FECB52\"],\"font\":{\"color\":\"#2a3f5f\"},\"hovermode\":\"closest\",\"hoverlabel\":{\"align\":\"left\"},\"paper_bgcolor\":\"white\",\"plot_bgcolor\":\"#E5ECF6\",\"polar\":{\"bgcolor\":\"#E5ECF6\",\"angularaxis\":{\"gridcolor\":\"white\",\"linecolor\":\"white\",\"ticks\":\"\"},\"radialaxis\":{\"gridcolor\":\"white\",\"linecolor\":\"white\",\"ticks\":\"\"}},\"ternary\":{\"bgcolor\":\"#E5ECF6\",\"aaxis\":{\"gridcolor\":\"white\",\"linecolor\":\"white\",\"ticks\":\"\"},\"baxis\":{\"gridcolor\":\"white\",\"linecolor\":\"white\",\"ticks\":\"\"},\"caxis\":{\"gridcolor\":\"white\",\"linecolor\":\"white\",\"ticks\":\"\"}},\"coloraxis\":{\"colorbar\":{\"outlinewidth\":0,\"ticks\":\"\"}},\"colorscale\":{\"sequential\":[[0.0,\"#0d0887\"],[0.1111111111111111,\"#46039f\"],[0.2222222222222222,\"#7201a8\"],[0.3333333333333333,\"#9c179e\"],[0.4444444444444444,\"#bd3786\"],[0.5555555555555556,\"#d8576b\"],[0.6666666666666666,\"#ed7953\"],[0.7777777777777778,\"#fb9f3a\"],[0.8888888888888888,\"#fdca26\"],[1.0,\"#f0f921\"]],\"sequentialminus\":[[0.0,\"#0d0887\"],[0.1111111111111111,\"#46039f\"],[0.2222222222222222,\"#7201a8\"],[0.3333333333333333,\"#9c179e\"],[0.4444444444444444,\"#bd3786\"],[0.5555555555555556,\"#d8576b\"],[0.6666666666666666,\"#ed7953\"],[0.7777777777777778,\"#fb9f3a\"],[0.8888888888888888,\"#fdca26\"],[1.0,\"#f0f921\"]],\"diverging\":[[0,\"#8e0152\"],[0.1,\"#c51b7d\"],[0.2,\"#de77ae\"],[0.3,\"#f1b6da\"],[0.4,\"#fde0ef\"],[0.5,\"#f7f7f7\"],[0.6,\"#e6f5d0\"],[0.7,\"#b8e186\"],[0.8,\"#7fbc41\"],[0.9,\"#4d9221\"],[1,\"#276419\"]]},\"xaxis\":{\"gridcolor\":\"white\",\"linecolor\":\"white\",\"ticks\":\"\",\"title\":{\"standoff\":15},\"zerolinecolor\":\"white\",\"automargin\":true,\"zerolinewidth\":2},\"yaxis\":{\"gridcolor\":\"white\",\"linecolor\":\"white\",\"ticks\":\"\",\"title\":{\"standoff\":15},\"zerolinecolor\":\"white\",\"automargin\":true,\"zerolinewidth\":2},\"scene\":{\"xaxis\":{\"backgroundcolor\":\"#E5ECF6\",\"gridcolor\":\"white\",\"linecolor\":\"white\",\"showbackground\":true,\"ticks\":\"\",\"zerolinecolor\":\"white\",\"gridwidth\":2},\"yaxis\":{\"backgroundcolor\":\"#E5ECF6\",\"gridcolor\":\"white\",\"linecolor\":\"white\",\"showbackground\":true,\"ticks\":\"\",\"zerolinecolor\":\"white\",\"gridwidth\":2},\"zaxis\":{\"backgroundcolor\":\"#E5ECF6\",\"gridcolor\":\"white\",\"linecolor\":\"white\",\"showbackground\":true,\"ticks\":\"\",\"zerolinecolor\":\"white\",\"gridwidth\":2}},\"shapedefaults\":{\"line\":{\"color\":\"#2a3f5f\"}},\"annotationdefaults\":{\"arrowcolor\":\"#2a3f5f\",\"arrowhead\":0,\"arrowwidth\":1},\"geo\":{\"bgcolor\":\"white\",\"landcolor\":\"#E5ECF6\",\"subunitcolor\":\"white\",\"showland\":true,\"showlakes\":true,\"lakecolor\":\"white\"},\"title\":{\"x\":0.05},\"mapbox\":{\"style\":\"light\"}}},\"xaxis\":{\"anchor\":\"y\",\"domain\":[0.0,1.0],\"title\":{\"text\":\"Churn\"}},\"yaxis\":{\"anchor\":\"x\",\"domain\":[0.0,1.0],\"title\":{\"text\":\"Porcentagem\"}},\"legend\":{\"title\":{\"text\":\"Dependentes\"},\"tracegroupgap\":0},\"margin\":{\"t\":60},\"barmode\":\"stack\",\"title\":{\"text\":\"Rela\\u00e7\\u00e3o entre Churn e Dependentes\"}},                        {\"responsive\": true}                    ).then(function(){\n",
       "                            \n",
       "var gd = document.getElementById('d99d7766-edbb-4973-87f1-53be9acc28a3');\n",
       "var x = new MutationObserver(function (mutations, observer) {{\n",
       "        var display = window.getComputedStyle(gd).display;\n",
       "        if (!display || display === 'none') {{\n",
       "            console.log([gd, 'removed!']);\n",
       "            Plotly.purge(gd);\n",
       "            observer.disconnect();\n",
       "        }}\n",
       "}});\n",
       "\n",
       "// Listen for the removal of the full notebook cells\n",
       "var notebookContainer = gd.closest('#notebook-container');\n",
       "if (notebookContainer) {{\n",
       "    x.observe(notebookContainer, {childList: true});\n",
       "}}\n",
       "\n",
       "// Listen for the clearing of the current output cell\n",
       "var outputEl = gd.closest('.output');\n",
       "if (outputEl) {{\n",
       "    x.observe(outputEl, {childList: true});\n",
       "}}\n",
       "\n",
       "                        })                };                });            </script>        </div>"
      ]
     },
     "metadata": {},
     "output_type": "display_data"
    }
   ],
   "source": [
    "df_grouped = df.groupby(['Churn', 'Dependentes']).size().reset_index(name='count')\n",
    "total_por_churn = df_grouped.groupby('Churn')['count'].transform('sum')\n",
    "df_grouped['percent'] = (df_grouped['count'] / total_por_churn) * 100\n",
    "\n",
    "\n",
    "fig = px.bar(df_grouped, x='Churn', y='percent', color='Dependentes', barmode='stack',\n",
    "             labels={'Churn': 'Churn', 'percent': 'Porcentagem'})\n",
    "\n",
    "fig.update_layout(title='Relação entre Churn e Dependentes',\n",
    "                  yaxis_title='Porcentagem',\n",
    "                  legend_title='Dependentes')\n",
    "fig.show()"
   ]
  }
 ],
 "metadata": {
  "colab": {
   "provenance": []
  },
  "kernelspec": {
   "display_name": "Python [conda env:base] *",
   "language": "python",
   "name": "conda-base-py"
  },
  "language_info": {
   "codemirror_mode": {
    "name": "ipython",
    "version": 3
   },
   "file_extension": ".py",
   "mimetype": "text/x-python",
   "name": "python",
   "nbconvert_exporter": "python",
   "pygments_lexer": "ipython3",
   "version": "3.12.7"
  }
 },
 "nbformat": 4,
 "nbformat_minor": 4
}
